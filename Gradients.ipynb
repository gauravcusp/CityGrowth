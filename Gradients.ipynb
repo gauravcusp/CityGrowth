{
 "cells": [
  {
   "cell_type": "markdown",
   "metadata": {},
   "source": [
    "## Create urban built-up and population density gradients for multiple cities"
   ]
  },
  {
   "cell_type": "code",
   "execution_count": 66,
   "metadata": {},
   "outputs": [
    {
     "name": "stdout",
     "output_type": "stream",
     "text": [
      "Populating the interactive namespace from numpy and matplotlib\n"
     ]
    }
   ],
   "source": [
    "import pandas as pd\n",
    "import numpy as np\n",
    "import geopandas as gpd\n",
    "import shapely\n",
    "from shapely.geometry import Point\n",
    "from shapely import wkt\n",
    "import plotly.express as px\n",
    "import os\n",
    "import gdal\n",
    "from rasterio.mask import mask\n",
    "import plotly.graph_objects as go\n",
    "import numpy as np\n",
    "import rasterio\n",
    "import pylab as pl\n",
    "from rasterio.warp import calculate_default_transform, reproject, Resampling\n",
    "%pylab inline"
   ]
  },
  {
   "cell_type": "code",
   "execution_count": 2,
   "metadata": {},
   "outputs": [],
   "source": [
    "#dat = pd.read_csv(\"..\\\\GHSL_NewVersion\\\\GHSL_UCDB_new.csv\")"
   ]
  },
  {
   "cell_type": "code",
   "execution_count": 49,
   "metadata": {},
   "outputs": [],
   "source": [
    "cities = ['Accra, Ghana', 'Buenos Aires, Argentina', 'Paris, France', 'Chicago, USA', 'Dhaka, Bangladesh', 'Shanghai, China']"
   ]
  },
  {
   "cell_type": "code",
   "execution_count": 2,
   "metadata": {},
   "outputs": [],
   "source": [
    "def return_point(city):\n",
    "    #dat = pd.read_csv(\"..\\\\GHSL_NewVersion\\\\GHSL_UCDB_new.csv\")\n",
    "    #df = dat[dat.UC_NM_MN == city]\n",
    "    \n",
    "    #point = Point(df.GCPNT_LON.iloc[0], df.GCPNT_LAT.iloc[0])\n",
    "    \n",
    "    import osmnx as ox\n",
    "    \n",
    "    point = ox.gdf_from_place(city)['geometry'].iloc[0]\n",
    "    \n",
    "    return point"
   ]
  },
  {
   "cell_type": "code",
   "execution_count": 3,
   "metadata": {},
   "outputs": [],
   "source": [
    "def getFeatures(gdf):\n",
    "    \"\"\"Function to parse features from GeoDataFrame in such a manner that rasterio accepts them\"\"\"\n",
    "    import json\n",
    "    return [json.loads(gdf.to_json())['features'][0]['geometry']]"
   ]
  },
  {
   "cell_type": "code",
   "execution_count": 36,
   "metadata": {},
   "outputs": [],
   "source": [
    "def get_buffer_vars(city):\n",
    "    \n",
    "    point = return_point(city)\n",
    "    buff_500 = point.buffer(0.01, 128)\n",
    "    buff_1000 = point.buffer(0.015, 128)\n",
    "    dough_1000 = buff_1000.difference(buff_500)\n",
    "    buff_1500 = point.buffer(0.02, 128)\n",
    "    dough_1500 = buff_1500.difference(buff_1000)\n",
    "    buff_2000 = point.buffer(0.025, 128)\n",
    "    dough_2000 = buff_2000.difference(buff_1500)\n",
    "    \n",
    "    return buff_500, dough_1000, dough_1500, dough_2000"
   ]
  },
  {
   "cell_type": "code",
   "execution_count": 10,
   "metadata": {},
   "outputs": [],
   "source": [
    "def convert_geom_to_shp(shapely_polygon, city, out_name_postfix):\n",
    "    string = city.split(',')[0]\n",
    "    \n",
    "    df = pd.DataFrame(\n",
    "    {'City': [string],\n",
    "     'geometry': [wkt.dumps(shapely_polygon)]})\n",
    "    \n",
    "    df['geometry'] = df['geometry'].apply(wkt.loads)\n",
    "    \n",
    "    gdf = gpd.GeoDataFrame(df, geometry='geometry')\n",
    "    \n",
    "    path = \"M:\\Gaurav\\GPSUR\\Data\\Analysis\"\n",
    "    \n",
    "    gdf.to_file(path+'\\\\shapefiles\\\\{a}_{b}.shp'.format(a=string, b=out_name_postfix))\n",
    "    \n",
    "    return path+'\\\\shapefiles\\\\{a}_{b}.shp'.format(a=string, b=out_name_postfix)"
   ]
  },
  {
   "cell_type": "code",
   "execution_count": 6,
   "metadata": {},
   "outputs": [],
   "source": [
    "def reproject_raster(source_path, destination_path):\n",
    "\n",
    "    dst_crs = 'EPSG:4326'\n",
    "    \n",
    "    try:\n",
    "        with rasterio.open(source_path, CHECK_DISK_FREE_SPACE =False) as src:\n",
    "            transform, width, height = calculate_default_transform(\n",
    "                src.crs, dst_crs, src.width, src.height, *src.bounds)\n",
    "            kwargs = src.meta.copy()\n",
    "            kwargs.update({\n",
    "                'crs': dst_crs,\n",
    "                'transform': transform,\n",
    "                'width': width,\n",
    "                'height': height\n",
    "            })\n",
    "\n",
    "            with rasterio.open(destination_path, 'w',**kwargs) as dst:\n",
    "                for i in range(1, src.count + 1):\n",
    "                    reproject(\n",
    "                        source=rasterio.band(src, i),\n",
    "                        destination=rasterio.band(dst, i),\n",
    "                        src_transform=src.transform,\n",
    "                        src_crs=src.crs,\n",
    "                        dst_transform=transform,\n",
    "                        dst_crs=dst_crs,\n",
    "                        resampling=Resampling.nearest)\n",
    "    except rasterio._err.CPLE_FileIOError:\n",
    "        print('File too big! Cant open')\n",
    "    except rasterio._base.RasterioIOError:\n",
    "        print('Raster file empty!')\n",
    "        "
   ]
  },
  {
   "cell_type": "code",
   "execution_count": 27,
   "metadata": {},
   "outputs": [],
   "source": [
    "def get_clipped_density(shpfile_path, raster_path):\n",
    "    \"\"\"\n",
    "    Function to clip the population gridded data by polygons from datasets.\n",
    "    \"\"\"\n",
    "    shp = gpd.read_file(shpfile_path)\n",
    "    shp.crs = {'init':'epsg:4326'}\n",
    "    shp = shp.to_crs(epsg=4326)\n",
    "    \n",
    "    coords = getFeatures(shp)\n",
    "    \n",
    "    new = rasterio.open(raster_path)\n",
    "    \n",
    "    try:\n",
    "        out_img, out_transform = mask(dataset=new, shapes=coords, crop=True)\n",
    "        new_out = out_img[out_img > 0]\n",
    "        print('Overlap found!')\n",
    "        return new_out.sum()/len(new_out)\n",
    "        \n",
    "    except ValueError:\n",
    "        print('No Overlap between raster and polygon.')\n",
    "        return"
   ]
  },
  {
   "cell_type": "code",
   "execution_count": 40,
   "metadata": {},
   "outputs": [],
   "source": [
    "def main(city):\n",
    "    \n",
    "    point = return_point(city)\n",
    "    \n",
    "    path = r\"M:\\Gaurav\\GPSUR\\Data\\GHSL_builtup_250m\"\n",
    "    \n",
    "    temp = os.listdir(path)\n",
    "    \n",
    "    buff_500, buff_1000, buff_1500, buff_2000 = get_buffer_vars(city)\n",
    "    \n",
    "    dic = {'500m':buff_500, '1000m':buff_1000, '1500m':buff_1500, '2000m':buff_2000}\n",
    "    \n",
    "    shp_lis = []\n",
    "    for res in dic.keys():  \n",
    "        shp_lis.append(convert_geom_to_shp(dic[res], city, res))\n",
    "    \n",
    "    sum_dic = {}\n",
    "    \n",
    "    for i in [1990, 2000, 2014]:\n",
    "        for j in temp:\n",
    "            if str(i) in j.split('_'):\n",
    "                path_ext = path+\"\\\\\"+j\n",
    "                print(path_ext)\n",
    "                #TIF_lis = [i for i in os.listdir(path_ext) if i.endswith('.TIF')]\n",
    "        \n",
    "                #for k in TIF_lis:\n",
    "                 #   reproject_raster(path_ext+\"\\\\\"+k, path_ext+\"\\\\GHS_builtup_\"+str(i)+\"_reprojected_4326\"+k.split('_')[-1].split('.')[0]+'.tif')\n",
    "            \n",
    "                tif_lis = [i for i in os.listdir(path_ext) if i.endswith('.tif')]\n",
    "        \n",
    "                sum_lis = []\n",
    "\n",
    "                for shp in shp_lis:\n",
    "                    for ras in tif_lis:\n",
    "                        sum_lis.append(get_clipped_density(shp, path_ext+\"\\\\\"+ras))\n",
    "                sum_dic[i] = sum_lis\n",
    "                \n",
    "    return sum_dic"
   ]
  },
  {
   "cell_type": "code",
   "execution_count": 23,
   "metadata": {},
   "outputs": [
    {
     "name": "stderr",
     "output_type": "stream",
     "text": [
      "C:\\Users\\wb542830\\AppData\\Roaming\\Python\\Python36\\site-packages\\urllib3\\connectionpool.py:1004: InsecureRequestWarning: Unverified HTTPS request is being made. Adding certificate verification is strongly advised. See: https://urllib3.readthedocs.io/en/latest/advanced-usage.html#ssl-warnings\n",
      "  InsecureRequestWarning,\n",
      "C:\\Users\\wb542830\\AppData\\Roaming\\Python\\Python36\\site-packages\\urllib3\\connectionpool.py:1004: InsecureRequestWarning: Unverified HTTPS request is being made. Adding certificate verification is strongly advised. See: https://urllib3.readthedocs.io/en/latest/advanced-usage.html#ssl-warnings\n",
      "  InsecureRequestWarning,\n"
     ]
    },
    {
     "name": "stdout",
     "output_type": "stream",
     "text": [
      "No Overlap between raster and polygon.\n",
      "No Overlap between raster and polygon.\n",
      "No Overlap between raster and polygon.\n",
      "No Overlap between raster and polygon.\n",
      "No Overlap between raster and polygon.\n",
      "No Overlap between raster and polygon.\n",
      "No Overlap between raster and polygon.\n",
      "No Overlap between raster and polygon.\n",
      "No Overlap between raster and polygon.\n",
      "No Overlap between raster and polygon.\n",
      "No Overlap between raster and polygon.\n",
      "No Overlap between raster and polygon.\n",
      "No Overlap between raster and polygon.\n",
      "No Overlap between raster and polygon.\n",
      "No Overlap between raster and polygon.\n",
      "No Overlap between raster and polygon.\n",
      "No Overlap between raster and polygon.\n",
      "No Overlap between raster and polygon.\n",
      "No Overlap between raster and polygon.\n",
      "No Overlap between raster and polygon.\n",
      "No Overlap between raster and polygon.\n",
      "No Overlap between raster and polygon.\n",
      "No Overlap between raster and polygon.\n",
      "No Overlap between raster and polygon.\n",
      "No Overlap between raster and polygon.\n",
      "No Overlap between raster and polygon.\n",
      "No Overlap between raster and polygon.\n",
      "No Overlap between raster and polygon.\n",
      "No Overlap between raster and polygon.\n",
      "No Overlap between raster and polygon.\n",
      "No Overlap between raster and polygon.\n",
      "No Overlap between raster and polygon.\n",
      "No Overlap between raster and polygon.\n",
      "No Overlap between raster and polygon.\n",
      "No Overlap between raster and polygon.\n",
      "No Overlap between raster and polygon.\n",
      "No Overlap between raster and polygon.\n",
      "No Overlap between raster and polygon.\n",
      "No Overlap between raster and polygon.\n",
      "No Overlap between raster and polygon.\n",
      "No Overlap between raster and polygon.\n",
      "No Overlap between raster and polygon.\n",
      "No Overlap between raster and polygon.\n",
      "No Overlap between raster and polygon.\n",
      "No Overlap between raster and polygon.\n",
      "No Overlap between raster and polygon.\n",
      "No Overlap between raster and polygon.\n",
      "No Overlap between raster and polygon.\n",
      "No Overlap between raster and polygon.\n",
      "No Overlap between raster and polygon.\n",
      "No Overlap between raster and polygon.\n",
      "No Overlap between raster and polygon.\n",
      "No Overlap between raster and polygon.\n",
      "No Overlap between raster and polygon.\n",
      "No Overlap between raster and polygon.\n",
      "No Overlap between raster and polygon.\n",
      "No Overlap between raster and polygon.\n",
      "No Overlap between raster and polygon.\n",
      "No Overlap between raster and polygon.\n",
      "No Overlap between raster and polygon.\n",
      "No Overlap between raster and polygon.\n",
      "No Overlap between raster and polygon.\n",
      "No Overlap between raster and polygon.\n",
      "No Overlap between raster and polygon.\n",
      "No Overlap between raster and polygon.\n",
      "No Overlap between raster and polygon.\n",
      "No Overlap between raster and polygon.\n",
      "No Overlap between raster and polygon.\n",
      "No Overlap between raster and polygon.\n",
      "No Overlap between raster and polygon.\n",
      "No Overlap between raster and polygon.\n",
      "No Overlap between raster and polygon.\n",
      "No Overlap between raster and polygon.\n",
      "No Overlap between raster and polygon.\n",
      "No Overlap between raster and polygon.\n",
      "No Overlap between raster and polygon.\n",
      "No Overlap between raster and polygon.\n",
      "No Overlap between raster and polygon.\n",
      "No Overlap between raster and polygon.\n",
      "No Overlap between raster and polygon.\n",
      "No Overlap between raster and polygon.\n",
      "No Overlap between raster and polygon.\n",
      "No Overlap between raster and polygon.\n",
      "No Overlap between raster and polygon.\n",
      "No Overlap between raster and polygon.\n",
      "No Overlap between raster and polygon.\n",
      "No Overlap between raster and polygon.\n",
      "No Overlap between raster and polygon.\n",
      "No Overlap between raster and polygon.\n",
      "No Overlap between raster and polygon.\n",
      "No Overlap between raster and polygon.\n",
      "No Overlap between raster and polygon.\n",
      "No Overlap between raster and polygon.\n",
      "No Overlap between raster and polygon.\n",
      "No Overlap between raster and polygon.\n",
      "No Overlap between raster and polygon.\n",
      "No Overlap between raster and polygon.\n",
      "No Overlap between raster and polygon.\n",
      "No Overlap between raster and polygon.\n",
      "No Overlap between raster and polygon.\n",
      "No Overlap between raster and polygon.\n",
      "No Overlap between raster and polygon.\n",
      "No Overlap between raster and polygon.\n",
      "No Overlap between raster and polygon.\n",
      "No Overlap between raster and polygon.\n",
      "No Overlap between raster and polygon.\n",
      "No Overlap between raster and polygon.\n",
      "No Overlap between raster and polygon.\n",
      "No Overlap between raster and polygon.\n",
      "No Overlap between raster and polygon.\n",
      "No Overlap between raster and polygon.\n",
      "No Overlap between raster and polygon.\n",
      "No Overlap between raster and polygon.\n",
      "No Overlap between raster and polygon.\n",
      "No Overlap between raster and polygon.\n",
      "No Overlap between raster and polygon.\n",
      "No Overlap between raster and polygon.\n",
      "No Overlap between raster and polygon.\n",
      "No Overlap between raster and polygon.\n",
      "No Overlap between raster and polygon.\n",
      "No Overlap between raster and polygon.\n",
      "No Overlap between raster and polygon.\n",
      "No Overlap between raster and polygon.\n",
      "No Overlap between raster and polygon.\n",
      "No Overlap between raster and polygon.\n",
      "No Overlap between raster and polygon.\n",
      "No Overlap between raster and polygon.\n",
      "No Overlap between raster and polygon.\n",
      "No Overlap between raster and polygon.\n",
      "No Overlap between raster and polygon.\n",
      "No Overlap between raster and polygon.\n",
      "No Overlap between raster and polygon.\n",
      "No Overlap between raster and polygon.\n",
      "No Overlap between raster and polygon.\n",
      "No Overlap between raster and polygon.\n",
      "No Overlap between raster and polygon.\n",
      "No Overlap between raster and polygon.\n",
      "No Overlap between raster and polygon.\n",
      "No Overlap between raster and polygon.\n"
     ]
    },
    {
     "name": "stderr",
     "output_type": "stream",
     "text": [
      "C:\\Users\\wb542830\\.conda\\envs\\osm1\\lib\\site-packages\\ipykernel_launcher.py:16: RuntimeWarning: invalid value encountered in true_divide\n",
      "  app.launch_new_instance()\n"
     ]
    },
    {
     "name": "stdout",
     "output_type": "stream",
     "text": [
      "No Overlap between raster and polygon.\n",
      "No Overlap between raster and polygon.\n",
      "No Overlap between raster and polygon.\n",
      "No Overlap between raster and polygon.\n",
      "No Overlap between raster and polygon.\n",
      "No Overlap between raster and polygon.\n",
      "No Overlap between raster and polygon.\n",
      "No Overlap between raster and polygon.\n",
      "No Overlap between raster and polygon.\n",
      "No Overlap between raster and polygon.\n",
      "No Overlap between raster and polygon.\n",
      "No Overlap between raster and polygon.\n",
      "No Overlap between raster and polygon.\n",
      "No Overlap between raster and polygon.\n",
      "No Overlap between raster and polygon.\n",
      "No Overlap between raster and polygon.\n",
      "No Overlap between raster and polygon.\n",
      "No Overlap between raster and polygon.\n",
      "No Overlap between raster and polygon.\n",
      "No Overlap between raster and polygon.\n",
      "No Overlap between raster and polygon.\n",
      "No Overlap between raster and polygon.\n",
      "No Overlap between raster and polygon.\n",
      "No Overlap between raster and polygon.\n",
      "No Overlap between raster and polygon.\n",
      "No Overlap between raster and polygon.\n",
      "No Overlap between raster and polygon.\n",
      "No Overlap between raster and polygon.\n",
      "No Overlap between raster and polygon.\n",
      "No Overlap between raster and polygon.\n",
      "No Overlap between raster and polygon.\n",
      "No Overlap between raster and polygon.\n",
      "No Overlap between raster and polygon.\n",
      "No Overlap between raster and polygon.\n",
      "No Overlap between raster and polygon.\n",
      "No Overlap between raster and polygon.\n",
      "No Overlap between raster and polygon.\n",
      "No Overlap between raster and polygon.\n",
      "No Overlap between raster and polygon.\n",
      "No Overlap between raster and polygon.\n",
      "No Overlap between raster and polygon.\n",
      "No Overlap between raster and polygon.\n",
      "No Overlap between raster and polygon.\n",
      "No Overlap between raster and polygon.\n",
      "No Overlap between raster and polygon.\n",
      "No Overlap between raster and polygon.\n",
      "No Overlap between raster and polygon.\n",
      "No Overlap between raster and polygon.\n",
      "No Overlap between raster and polygon.\n",
      "No Overlap between raster and polygon.\n",
      "No Overlap between raster and polygon.\n",
      "No Overlap between raster and polygon.\n",
      "No Overlap between raster and polygon.\n",
      "No Overlap between raster and polygon.\n",
      "No Overlap between raster and polygon.\n",
      "No Overlap between raster and polygon.\n",
      "No Overlap between raster and polygon.\n",
      "No Overlap between raster and polygon.\n",
      "No Overlap between raster and polygon.\n",
      "No Overlap between raster and polygon.\n",
      "No Overlap between raster and polygon.\n",
      "No Overlap between raster and polygon.\n",
      "No Overlap between raster and polygon.\n",
      "No Overlap between raster and polygon.\n",
      "No Overlap between raster and polygon.\n",
      "No Overlap between raster and polygon.\n",
      "No Overlap between raster and polygon.\n",
      "No Overlap between raster and polygon.\n",
      "No Overlap between raster and polygon.\n",
      "No Overlap between raster and polygon.\n",
      "No Overlap between raster and polygon.\n",
      "No Overlap between raster and polygon.\n",
      "No Overlap between raster and polygon.\n",
      "No Overlap between raster and polygon.\n",
      "No Overlap between raster and polygon.\n",
      "No Overlap between raster and polygon.\n",
      "No Overlap between raster and polygon.\n",
      "No Overlap between raster and polygon.\n",
      "No Overlap between raster and polygon.\n",
      "No Overlap between raster and polygon.\n",
      "No Overlap between raster and polygon.\n",
      "No Overlap between raster and polygon.\n",
      "No Overlap between raster and polygon.\n",
      "No Overlap between raster and polygon.\n",
      "No Overlap between raster and polygon.\n",
      "No Overlap between raster and polygon.\n",
      "No Overlap between raster and polygon.\n",
      "No Overlap between raster and polygon.\n",
      "No Overlap between raster and polygon.\n",
      "No Overlap between raster and polygon.\n",
      "No Overlap between raster and polygon.\n",
      "No Overlap between raster and polygon.\n",
      "No Overlap between raster and polygon.\n",
      "No Overlap between raster and polygon.\n",
      "No Overlap between raster and polygon.\n",
      "No Overlap between raster and polygon.\n",
      "No Overlap between raster and polygon.\n",
      "No Overlap between raster and polygon.\n",
      "No Overlap between raster and polygon.\n",
      "No Overlap between raster and polygon.\n",
      "No Overlap between raster and polygon.\n",
      "No Overlap between raster and polygon.\n",
      "No Overlap between raster and polygon.\n",
      "No Overlap between raster and polygon.\n",
      "No Overlap between raster and polygon.\n"
     ]
    }
   ],
   "source": [
    "di = main('Dhaka')"
   ]
  },
  {
   "cell_type": "code",
   "execution_count": 41,
   "metadata": {},
   "outputs": [
    {
     "name": "stderr",
     "output_type": "stream",
     "text": [
      "C:\\Users\\wb542830\\AppData\\Roaming\\Python\\Python36\\site-packages\\urllib3\\connectionpool.py:1004: InsecureRequestWarning:\n",
      "\n",
      "Unverified HTTPS request is being made. Adding certificate verification is strongly advised. See: https://urllib3.readthedocs.io/en/latest/advanced-usage.html#ssl-warnings\n",
      "\n",
      "C:\\Users\\wb542830\\AppData\\Roaming\\Python\\Python36\\site-packages\\urllib3\\connectionpool.py:1004: InsecureRequestWarning:\n",
      "\n",
      "Unverified HTTPS request is being made. Adding certificate verification is strongly advised. See: https://urllib3.readthedocs.io/en/latest/advanced-usage.html#ssl-warnings\n",
      "\n"
     ]
    },
    {
     "name": "stdout",
     "output_type": "stream",
     "text": [
      "M:\\Gaurav\\GPSUR\\Data\\GHSL_builtup_250m\\GHSL_1990_split\n",
      "No Overlap between raster and polygon.\n",
      "No Overlap between raster and polygon.\n",
      "No Overlap between raster and polygon.\n",
      "No Overlap between raster and polygon.\n",
      "No Overlap between raster and polygon.\n",
      "No Overlap between raster and polygon.\n",
      "No Overlap between raster and polygon.\n",
      "No Overlap between raster and polygon.\n",
      "No Overlap between raster and polygon.\n",
      "No Overlap between raster and polygon.\n",
      "No Overlap between raster and polygon.\n",
      "No Overlap between raster and polygon.\n",
      "No Overlap between raster and polygon.\n",
      "No Overlap between raster and polygon.\n",
      "No Overlap between raster and polygon.\n",
      "No Overlap between raster and polygon.\n",
      "No Overlap between raster and polygon.\n",
      "No Overlap between raster and polygon.\n",
      "No Overlap between raster and polygon.\n",
      "No Overlap between raster and polygon.\n",
      "No Overlap between raster and polygon.\n",
      "No Overlap between raster and polygon.\n",
      "No Overlap between raster and polygon.\n",
      "No Overlap between raster and polygon.\n",
      "No Overlap between raster and polygon.\n",
      "No Overlap between raster and polygon.\n",
      "No Overlap between raster and polygon.\n",
      "No Overlap between raster and polygon.\n",
      "No Overlap between raster and polygon.\n",
      "No Overlap between raster and polygon.\n",
      "No Overlap between raster and polygon.\n",
      "Overlap found!\n",
      "No Overlap between raster and polygon.\n",
      "No Overlap between raster and polygon.\n",
      "No Overlap between raster and polygon.\n",
      "No Overlap between raster and polygon.\n",
      "No Overlap between raster and polygon.\n",
      "No Overlap between raster and polygon.\n",
      "No Overlap between raster and polygon.\n",
      "No Overlap between raster and polygon.\n",
      "No Overlap between raster and polygon.\n",
      "No Overlap between raster and polygon.\n",
      "No Overlap between raster and polygon.\n",
      "No Overlap between raster and polygon.\n",
      "No Overlap between raster and polygon.\n",
      "No Overlap between raster and polygon.\n",
      "No Overlap between raster and polygon.\n",
      "No Overlap between raster and polygon.\n",
      "No Overlap between raster and polygon.\n",
      "No Overlap between raster and polygon.\n",
      "No Overlap between raster and polygon.\n",
      "No Overlap between raster and polygon.\n",
      "No Overlap between raster and polygon.\n",
      "No Overlap between raster and polygon.\n",
      "No Overlap between raster and polygon.\n",
      "No Overlap between raster and polygon.\n",
      "No Overlap between raster and polygon.\n",
      "No Overlap between raster and polygon.\n",
      "No Overlap between raster and polygon.\n",
      "No Overlap between raster and polygon.\n",
      "No Overlap between raster and polygon.\n",
      "No Overlap between raster and polygon.\n",
      "No Overlap between raster and polygon.\n",
      "No Overlap between raster and polygon.\n",
      "No Overlap between raster and polygon.\n",
      "Overlap found!\n",
      "No Overlap between raster and polygon.\n",
      "No Overlap between raster and polygon.\n",
      "No Overlap between raster and polygon.\n",
      "No Overlap between raster and polygon.\n",
      "No Overlap between raster and polygon.\n",
      "No Overlap between raster and polygon.\n",
      "No Overlap between raster and polygon.\n",
      "No Overlap between raster and polygon.\n",
      "No Overlap between raster and polygon.\n",
      "No Overlap between raster and polygon.\n",
      "No Overlap between raster and polygon.\n",
      "No Overlap between raster and polygon.\n",
      "No Overlap between raster and polygon.\n",
      "No Overlap between raster and polygon.\n",
      "No Overlap between raster and polygon.\n",
      "No Overlap between raster and polygon.\n",
      "No Overlap between raster and polygon.\n",
      "No Overlap between raster and polygon.\n",
      "No Overlap between raster and polygon.\n",
      "No Overlap between raster and polygon.\n",
      "No Overlap between raster and polygon.\n",
      "No Overlap between raster and polygon.\n",
      "No Overlap between raster and polygon.\n",
      "No Overlap between raster and polygon.\n",
      "No Overlap between raster and polygon.\n",
      "No Overlap between raster and polygon.\n",
      "No Overlap between raster and polygon.\n",
      "No Overlap between raster and polygon.\n",
      "No Overlap between raster and polygon.\n",
      "No Overlap between raster and polygon.\n",
      "No Overlap between raster and polygon.\n",
      "No Overlap between raster and polygon.\n",
      "No Overlap between raster and polygon.\n",
      "Overlap found!\n",
      "No Overlap between raster and polygon.\n",
      "No Overlap between raster and polygon.\n",
      "No Overlap between raster and polygon.\n",
      "No Overlap between raster and polygon.\n",
      "No Overlap between raster and polygon.\n",
      "No Overlap between raster and polygon.\n",
      "No Overlap between raster and polygon.\n",
      "No Overlap between raster and polygon.\n",
      "No Overlap between raster and polygon.\n",
      "No Overlap between raster and polygon.\n",
      "No Overlap between raster and polygon.\n",
      "No Overlap between raster and polygon.\n",
      "No Overlap between raster and polygon.\n",
      "No Overlap between raster and polygon.\n",
      "No Overlap between raster and polygon.\n",
      "No Overlap between raster and polygon.\n",
      "No Overlap between raster and polygon.\n",
      "No Overlap between raster and polygon.\n",
      "No Overlap between raster and polygon.\n",
      "No Overlap between raster and polygon.\n",
      "No Overlap between raster and polygon.\n",
      "No Overlap between raster and polygon.\n",
      "No Overlap between raster and polygon.\n",
      "No Overlap between raster and polygon.\n",
      "No Overlap between raster and polygon.\n",
      "No Overlap between raster and polygon.\n",
      "No Overlap between raster and polygon.\n",
      "No Overlap between raster and polygon.\n",
      "No Overlap between raster and polygon.\n",
      "No Overlap between raster and polygon.\n",
      "No Overlap between raster and polygon.\n",
      "No Overlap between raster and polygon.\n",
      "No Overlap between raster and polygon.\n",
      "Overlap found!\n",
      "No Overlap between raster and polygon.\n",
      "No Overlap between raster and polygon.\n",
      "M:\\Gaurav\\GPSUR\\Data\\GHSL_builtup_250m\\GHSL_2000_split\n",
      "No Overlap between raster and polygon.\n",
      "No Overlap between raster and polygon.\n",
      "No Overlap between raster and polygon.\n",
      "No Overlap between raster and polygon.\n",
      "No Overlap between raster and polygon.\n",
      "No Overlap between raster and polygon.\n",
      "No Overlap between raster and polygon.\n",
      "No Overlap between raster and polygon.\n",
      "No Overlap between raster and polygon.\n",
      "No Overlap between raster and polygon.\n",
      "Overlap found!\n",
      "No Overlap between raster and polygon.\n",
      "No Overlap between raster and polygon.\n",
      "No Overlap between raster and polygon.\n",
      "No Overlap between raster and polygon.\n",
      "No Overlap between raster and polygon.\n",
      "No Overlap between raster and polygon.\n",
      "No Overlap between raster and polygon.\n",
      "No Overlap between raster and polygon.\n",
      "No Overlap between raster and polygon.\n",
      "No Overlap between raster and polygon.\n",
      "No Overlap between raster and polygon.\n",
      "No Overlap between raster and polygon.\n",
      "No Overlap between raster and polygon.\n",
      "No Overlap between raster and polygon.\n",
      "No Overlap between raster and polygon.\n",
      "Overlap found!\n",
      "No Overlap between raster and polygon.\n",
      "No Overlap between raster and polygon.\n",
      "No Overlap between raster and polygon.\n",
      "No Overlap between raster and polygon.\n",
      "No Overlap between raster and polygon.\n",
      "No Overlap between raster and polygon.\n",
      "No Overlap between raster and polygon.\n",
      "No Overlap between raster and polygon.\n",
      "No Overlap between raster and polygon.\n",
      "No Overlap between raster and polygon.\n",
      "No Overlap between raster and polygon.\n",
      "No Overlap between raster and polygon.\n",
      "No Overlap between raster and polygon.\n",
      "No Overlap between raster and polygon.\n",
      "No Overlap between raster and polygon.\n",
      "Overlap found!\n",
      "No Overlap between raster and polygon.\n",
      "No Overlap between raster and polygon.\n",
      "No Overlap between raster and polygon.\n",
      "No Overlap between raster and polygon.\n",
      "No Overlap between raster and polygon.\n",
      "No Overlap between raster and polygon.\n",
      "No Overlap between raster and polygon.\n",
      "No Overlap between raster and polygon.\n",
      "No Overlap between raster and polygon.\n",
      "No Overlap between raster and polygon.\n",
      "No Overlap between raster and polygon.\n",
      "No Overlap between raster and polygon.\n",
      "No Overlap between raster and polygon.\n",
      "No Overlap between raster and polygon.\n",
      "No Overlap between raster and polygon.\n",
      "Overlap found!\n",
      "No Overlap between raster and polygon.\n",
      "No Overlap between raster and polygon.\n",
      "No Overlap between raster and polygon.\n",
      "No Overlap between raster and polygon.\n",
      "No Overlap between raster and polygon.\n",
      "M:\\Gaurav\\GPSUR\\Data\\GHSL_builtup_250m\\GHSL_2014_split\n",
      "No Overlap between raster and polygon.\n",
      "No Overlap between raster and polygon.\n",
      "No Overlap between raster and polygon.\n",
      "Overlap found!\n",
      "No Overlap between raster and polygon.\n",
      "No Overlap between raster and polygon.\n",
      "No Overlap between raster and polygon.\n",
      "No Overlap between raster and polygon.\n",
      "No Overlap between raster and polygon.\n",
      "No Overlap between raster and polygon.\n",
      "No Overlap between raster and polygon.\n",
      "No Overlap between raster and polygon.\n"
     ]
    },
    {
     "name": "stdout",
     "output_type": "stream",
     "text": [
      "No Overlap between raster and polygon.\n",
      "No Overlap between raster and polygon.\n",
      "No Overlap between raster and polygon.\n",
      "No Overlap between raster and polygon.\n",
      "No Overlap between raster and polygon.\n",
      "No Overlap between raster and polygon.\n",
      "No Overlap between raster and polygon.\n",
      "Overlap found!\n",
      "No Overlap between raster and polygon.\n",
      "No Overlap between raster and polygon.\n",
      "No Overlap between raster and polygon.\n",
      "No Overlap between raster and polygon.\n",
      "No Overlap between raster and polygon.\n",
      "No Overlap between raster and polygon.\n",
      "No Overlap between raster and polygon.\n",
      "No Overlap between raster and polygon.\n",
      "No Overlap between raster and polygon.\n",
      "No Overlap between raster and polygon.\n",
      "No Overlap between raster and polygon.\n",
      "No Overlap between raster and polygon.\n",
      "No Overlap between raster and polygon.\n",
      "No Overlap between raster and polygon.\n",
      "No Overlap between raster and polygon.\n",
      "Overlap found!\n",
      "No Overlap between raster and polygon.\n",
      "No Overlap between raster and polygon.\n",
      "No Overlap between raster and polygon.\n",
      "No Overlap between raster and polygon.\n",
      "No Overlap between raster and polygon.\n",
      "No Overlap between raster and polygon.\n",
      "No Overlap between raster and polygon.\n",
      "No Overlap between raster and polygon.\n",
      "No Overlap between raster and polygon.\n",
      "No Overlap between raster and polygon.\n",
      "No Overlap between raster and polygon.\n",
      "No Overlap between raster and polygon.\n",
      "No Overlap between raster and polygon.\n",
      "No Overlap between raster and polygon.\n",
      "No Overlap between raster and polygon.\n",
      "Overlap found!\n",
      "No Overlap between raster and polygon.\n",
      "No Overlap between raster and polygon.\n",
      "No Overlap between raster and polygon.\n",
      "No Overlap between raster and polygon.\n",
      "No Overlap between raster and polygon.\n",
      "No Overlap between raster and polygon.\n",
      "No Overlap between raster and polygon.\n",
      "No Overlap between raster and polygon.\n",
      "No Overlap between raster and polygon.\n",
      "No Overlap between raster and polygon.\n",
      "No Overlap between raster and polygon.\n",
      "No Overlap between raster and polygon.\n"
     ]
    }
   ],
   "source": [
    "d_accra = main('Accra, Ghana')\n",
    "\n",
    "#d_accra_2014 = main('Accra, Ghana')"
   ]
  },
  {
   "cell_type": "code",
   "execution_count": 44,
   "metadata": {},
   "outputs": [
    {
     "name": "stderr",
     "output_type": "stream",
     "text": [
      "C:\\Users\\wb542830\\AppData\\Roaming\\Python\\Python36\\site-packages\\urllib3\\connectionpool.py:1004: InsecureRequestWarning:\n",
      "\n",
      "Unverified HTTPS request is being made. Adding certificate verification is strongly advised. See: https://urllib3.readthedocs.io/en/latest/advanced-usage.html#ssl-warnings\n",
      "\n",
      "C:\\Users\\wb542830\\AppData\\Roaming\\Python\\Python36\\site-packages\\urllib3\\connectionpool.py:1004: InsecureRequestWarning:\n",
      "\n",
      "Unverified HTTPS request is being made. Adding certificate verification is strongly advised. See: https://urllib3.readthedocs.io/en/latest/advanced-usage.html#ssl-warnings\n",
      "\n"
     ]
    },
    {
     "name": "stdout",
     "output_type": "stream",
     "text": [
      "M:\\Gaurav\\GPSUR\\Data\\GHSL_builtup_250m\\GHSL_1990_split\n",
      "No Overlap between raster and polygon.\n",
      "No Overlap between raster and polygon.\n",
      "No Overlap between raster and polygon.\n",
      "No Overlap between raster and polygon.\n",
      "No Overlap between raster and polygon.\n",
      "No Overlap between raster and polygon.\n",
      "No Overlap between raster and polygon.\n",
      "No Overlap between raster and polygon.\n",
      "No Overlap between raster and polygon.\n",
      "No Overlap between raster and polygon.\n",
      "No Overlap between raster and polygon.\n",
      "No Overlap between raster and polygon.\n",
      "Overlap found!\n",
      "No Overlap between raster and polygon.\n",
      "No Overlap between raster and polygon.\n",
      "No Overlap between raster and polygon.\n",
      "No Overlap between raster and polygon.\n",
      "No Overlap between raster and polygon.\n",
      "No Overlap between raster and polygon.\n",
      "No Overlap between raster and polygon.\n",
      "No Overlap between raster and polygon.\n",
      "No Overlap between raster and polygon.\n",
      "No Overlap between raster and polygon.\n",
      "No Overlap between raster and polygon.\n",
      "No Overlap between raster and polygon.\n",
      "No Overlap between raster and polygon.\n",
      "No Overlap between raster and polygon.\n",
      "No Overlap between raster and polygon.\n",
      "No Overlap between raster and polygon.\n",
      "No Overlap between raster and polygon.\n",
      "No Overlap between raster and polygon.\n",
      "No Overlap between raster and polygon.\n",
      "No Overlap between raster and polygon.\n",
      "No Overlap between raster and polygon.\n",
      "No Overlap between raster and polygon.\n",
      "No Overlap between raster and polygon.\n",
      "No Overlap between raster and polygon.\n",
      "No Overlap between raster and polygon.\n",
      "No Overlap between raster and polygon.\n",
      "No Overlap between raster and polygon.\n",
      "No Overlap between raster and polygon.\n",
      "No Overlap between raster and polygon.\n",
      "No Overlap between raster and polygon.\n",
      "No Overlap between raster and polygon.\n",
      "No Overlap between raster and polygon.\n",
      "No Overlap between raster and polygon.\n",
      "Overlap found!\n",
      "No Overlap between raster and polygon.\n",
      "No Overlap between raster and polygon.\n",
      "No Overlap between raster and polygon.\n",
      "No Overlap between raster and polygon.\n",
      "No Overlap between raster and polygon.\n",
      "No Overlap between raster and polygon.\n",
      "No Overlap between raster and polygon.\n",
      "No Overlap between raster and polygon.\n",
      "No Overlap between raster and polygon.\n",
      "No Overlap between raster and polygon.\n",
      "No Overlap between raster and polygon.\n",
      "No Overlap between raster and polygon.\n",
      "No Overlap between raster and polygon.\n",
      "No Overlap between raster and polygon.\n",
      "No Overlap between raster and polygon.\n",
      "No Overlap between raster and polygon.\n",
      "No Overlap between raster and polygon.\n",
      "No Overlap between raster and polygon.\n",
      "No Overlap between raster and polygon.\n",
      "No Overlap between raster and polygon.\n",
      "No Overlap between raster and polygon.\n",
      "No Overlap between raster and polygon.\n",
      "No Overlap between raster and polygon.\n",
      "No Overlap between raster and polygon.\n",
      "No Overlap between raster and polygon.\n",
      "No Overlap between raster and polygon.\n",
      "No Overlap between raster and polygon.\n",
      "No Overlap between raster and polygon.\n",
      "No Overlap between raster and polygon.\n",
      "No Overlap between raster and polygon.\n",
      "No Overlap between raster and polygon.\n",
      "No Overlap between raster and polygon.\n",
      "No Overlap between raster and polygon.\n",
      "Overlap found!\n",
      "No Overlap between raster and polygon.\n",
      "No Overlap between raster and polygon.\n",
      "No Overlap between raster and polygon.\n",
      "No Overlap between raster and polygon.\n",
      "No Overlap between raster and polygon.\n",
      "No Overlap between raster and polygon.\n",
      "No Overlap between raster and polygon.\n",
      "No Overlap between raster and polygon.\n",
      "No Overlap between raster and polygon.\n",
      "No Overlap between raster and polygon.\n",
      "No Overlap between raster and polygon.\n",
      "No Overlap between raster and polygon.\n",
      "No Overlap between raster and polygon.\n",
      "No Overlap between raster and polygon.\n",
      "No Overlap between raster and polygon.\n",
      "No Overlap between raster and polygon.\n",
      "No Overlap between raster and polygon.\n",
      "No Overlap between raster and polygon.\n",
      "No Overlap between raster and polygon.\n",
      "No Overlap between raster and polygon.\n",
      "No Overlap between raster and polygon.\n",
      "No Overlap between raster and polygon.\n",
      "No Overlap between raster and polygon.\n",
      "No Overlap between raster and polygon.\n",
      "No Overlap between raster and polygon.\n",
      "No Overlap between raster and polygon.\n",
      "No Overlap between raster and polygon.\n",
      "No Overlap between raster and polygon.\n",
      "No Overlap between raster and polygon.\n",
      "No Overlap between raster and polygon.\n",
      "No Overlap between raster and polygon.\n",
      "No Overlap between raster and polygon.\n",
      "No Overlap between raster and polygon.\n",
      "Overlap found!\n",
      "No Overlap between raster and polygon.\n",
      "No Overlap between raster and polygon.\n",
      "No Overlap between raster and polygon.\n",
      "No Overlap between raster and polygon.\n",
      "No Overlap between raster and polygon.\n",
      "No Overlap between raster and polygon.\n",
      "No Overlap between raster and polygon.\n",
      "No Overlap between raster and polygon.\n",
      "No Overlap between raster and polygon.\n",
      "No Overlap between raster and polygon.\n",
      "No Overlap between raster and polygon.\n",
      "No Overlap between raster and polygon.\n",
      "No Overlap between raster and polygon.\n",
      "No Overlap between raster and polygon.\n",
      "No Overlap between raster and polygon.\n",
      "No Overlap between raster and polygon.\n",
      "No Overlap between raster and polygon.\n",
      "No Overlap between raster and polygon.\n",
      "No Overlap between raster and polygon.\n",
      "No Overlap between raster and polygon.\n",
      "No Overlap between raster and polygon.\n",
      "M:\\Gaurav\\GPSUR\\Data\\GHSL_builtup_250m\\GHSL_2000_split\n",
      "No Overlap between raster and polygon.\n",
      "No Overlap between raster and polygon.\n",
      "No Overlap between raster and polygon.\n",
      "No Overlap between raster and polygon.\n",
      "No Overlap between raster and polygon.\n",
      "No Overlap between raster and polygon.\n",
      "No Overlap between raster and polygon.\n",
      "No Overlap between raster and polygon.\n",
      "No Overlap between raster and polygon.\n",
      "No Overlap between raster and polygon.\n",
      "No Overlap between raster and polygon.\n",
      "Overlap found!\n",
      "No Overlap between raster and polygon.\n",
      "No Overlap between raster and polygon.\n",
      "No Overlap between raster and polygon.\n",
      "No Overlap between raster and polygon.\n",
      "No Overlap between raster and polygon.\n",
      "No Overlap between raster and polygon.\n",
      "No Overlap between raster and polygon.\n",
      "No Overlap between raster and polygon.\n",
      "No Overlap between raster and polygon.\n",
      "No Overlap between raster and polygon.\n",
      "No Overlap between raster and polygon.\n",
      "No Overlap between raster and polygon.\n",
      "No Overlap between raster and polygon.\n",
      "No Overlap between raster and polygon.\n",
      "No Overlap between raster and polygon.\n",
      "Overlap found!\n",
      "No Overlap between raster and polygon.\n",
      "No Overlap between raster and polygon.\n",
      "No Overlap between raster and polygon.\n",
      "No Overlap between raster and polygon.\n",
      "No Overlap between raster and polygon.\n",
      "No Overlap between raster and polygon.\n",
      "No Overlap between raster and polygon.\n",
      "No Overlap between raster and polygon.\n",
      "No Overlap between raster and polygon.\n",
      "No Overlap between raster and polygon.\n",
      "No Overlap between raster and polygon.\n",
      "No Overlap between raster and polygon.\n",
      "No Overlap between raster and polygon.\n",
      "No Overlap between raster and polygon.\n",
      "No Overlap between raster and polygon.\n",
      "Overlap found!\n",
      "No Overlap between raster and polygon.\n",
      "No Overlap between raster and polygon.\n",
      "No Overlap between raster and polygon.\n",
      "No Overlap between raster and polygon.\n",
      "No Overlap between raster and polygon.\n",
      "No Overlap between raster and polygon.\n",
      "No Overlap between raster and polygon.\n",
      "No Overlap between raster and polygon.\n",
      "No Overlap between raster and polygon.\n",
      "No Overlap between raster and polygon.\n",
      "No Overlap between raster and polygon.\n",
      "No Overlap between raster and polygon.\n",
      "No Overlap between raster and polygon.\n",
      "No Overlap between raster and polygon.\n",
      "No Overlap between raster and polygon.\n",
      "Overlap found!\n",
      "No Overlap between raster and polygon.\n",
      "No Overlap between raster and polygon.\n",
      "No Overlap between raster and polygon.\n",
      "No Overlap between raster and polygon.\n",
      "M:\\Gaurav\\GPSUR\\Data\\GHSL_builtup_250m\\GHSL_2014_split\n",
      "No Overlap between raster and polygon.\n",
      "No Overlap between raster and polygon.\n",
      "Overlap found!\n",
      "No Overlap between raster and polygon.\n",
      "No Overlap between raster and polygon.\n",
      "No Overlap between raster and polygon.\n",
      "No Overlap between raster and polygon.\n",
      "No Overlap between raster and polygon.\n",
      "No Overlap between raster and polygon.\n",
      "No Overlap between raster and polygon.\n",
      "No Overlap between raster and polygon.\n",
      "No Overlap between raster and polygon.\n",
      "No Overlap between raster and polygon.\n"
     ]
    },
    {
     "name": "stdout",
     "output_type": "stream",
     "text": [
      "No Overlap between raster and polygon.\n",
      "No Overlap between raster and polygon.\n",
      "No Overlap between raster and polygon.\n",
      "No Overlap between raster and polygon.\n",
      "No Overlap between raster and polygon.\n",
      "Overlap found!\n",
      "No Overlap between raster and polygon.\n",
      "No Overlap between raster and polygon.\n",
      "No Overlap between raster and polygon.\n",
      "No Overlap between raster and polygon.\n",
      "No Overlap between raster and polygon.\n",
      "No Overlap between raster and polygon.\n",
      "No Overlap between raster and polygon.\n",
      "No Overlap between raster and polygon.\n",
      "No Overlap between raster and polygon.\n",
      "No Overlap between raster and polygon.\n",
      "No Overlap between raster and polygon.\n",
      "No Overlap between raster and polygon.\n",
      "No Overlap between raster and polygon.\n",
      "No Overlap between raster and polygon.\n",
      "No Overlap between raster and polygon.\n",
      "Overlap found!\n",
      "No Overlap between raster and polygon.\n",
      "No Overlap between raster and polygon.\n",
      "No Overlap between raster and polygon.\n",
      "No Overlap between raster and polygon.\n",
      "No Overlap between raster and polygon.\n",
      "No Overlap between raster and polygon.\n",
      "No Overlap between raster and polygon.\n",
      "No Overlap between raster and polygon.\n",
      "No Overlap between raster and polygon.\n",
      "No Overlap between raster and polygon.\n",
      "No Overlap between raster and polygon.\n",
      "No Overlap between raster and polygon.\n",
      "No Overlap between raster and polygon.\n",
      "No Overlap between raster and polygon.\n",
      "No Overlap between raster and polygon.\n",
      "Overlap found!\n",
      "No Overlap between raster and polygon.\n",
      "No Overlap between raster and polygon.\n",
      "No Overlap between raster and polygon.\n",
      "No Overlap between raster and polygon.\n",
      "No Overlap between raster and polygon.\n",
      "No Overlap between raster and polygon.\n",
      "No Overlap between raster and polygon.\n",
      "No Overlap between raster and polygon.\n",
      "No Overlap between raster and polygon.\n",
      "No Overlap between raster and polygon.\n",
      "No Overlap between raster and polygon.\n",
      "No Overlap between raster and polygon.\n",
      "No Overlap between raster and polygon.\n"
     ]
    }
   ],
   "source": [
    "d_paris = main('Paris, France')"
   ]
  },
  {
   "cell_type": "code",
   "execution_count": 69,
   "metadata": {},
   "outputs": [
    {
     "name": "stderr",
     "output_type": "stream",
     "text": [
      "C:\\Users\\wb542830\\AppData\\Roaming\\Python\\Python36\\site-packages\\urllib3\\connectionpool.py:1004: InsecureRequestWarning:\n",
      "\n",
      "Unverified HTTPS request is being made. Adding certificate verification is strongly advised. See: https://urllib3.readthedocs.io/en/latest/advanced-usage.html#ssl-warnings\n",
      "\n",
      "C:\\Users\\wb542830\\AppData\\Roaming\\Python\\Python36\\site-packages\\urllib3\\connectionpool.py:1004: InsecureRequestWarning:\n",
      "\n",
      "Unverified HTTPS request is being made. Adding certificate verification is strongly advised. See: https://urllib3.readthedocs.io/en/latest/advanced-usage.html#ssl-warnings\n",
      "\n"
     ]
    },
    {
     "name": "stdout",
     "output_type": "stream",
     "text": [
      "M:\\Gaurav\\GPSUR\\Data\\GHSL_builtup_250m\\GHSL_1990_split\n",
      "No Overlap between raster and polygon.\n",
      "No Overlap between raster and polygon.\n",
      "No Overlap between raster and polygon.\n",
      "No Overlap between raster and polygon.\n",
      "No Overlap between raster and polygon.\n",
      "No Overlap between raster and polygon.\n",
      "No Overlap between raster and polygon.\n",
      "No Overlap between raster and polygon.\n",
      "No Overlap between raster and polygon.\n",
      "No Overlap between raster and polygon.\n",
      "No Overlap between raster and polygon.\n",
      "No Overlap between raster and polygon.\n",
      "No Overlap between raster and polygon.\n",
      "No Overlap between raster and polygon.\n",
      "No Overlap between raster and polygon.\n",
      "No Overlap between raster and polygon.\n",
      "No Overlap between raster and polygon.\n",
      "No Overlap between raster and polygon.\n",
      "No Overlap between raster and polygon.\n",
      "No Overlap between raster and polygon.\n",
      "No Overlap between raster and polygon.\n",
      "No Overlap between raster and polygon.\n",
      "No Overlap between raster and polygon.\n",
      "No Overlap between raster and polygon.\n",
      "No Overlap between raster and polygon.\n",
      "No Overlap between raster and polygon.\n",
      "No Overlap between raster and polygon.\n",
      "No Overlap between raster and polygon.\n",
      "No Overlap between raster and polygon.\n",
      "No Overlap between raster and polygon.\n",
      "No Overlap between raster and polygon.\n",
      "Overlap found!\n",
      "No Overlap between raster and polygon.\n",
      "No Overlap between raster and polygon.\n",
      "No Overlap between raster and polygon.\n",
      "No Overlap between raster and polygon.\n",
      "No Overlap between raster and polygon.\n",
      "No Overlap between raster and polygon.\n",
      "No Overlap between raster and polygon.\n",
      "No Overlap between raster and polygon.\n",
      "No Overlap between raster and polygon.\n",
      "No Overlap between raster and polygon.\n",
      "No Overlap between raster and polygon.\n",
      "No Overlap between raster and polygon.\n",
      "No Overlap between raster and polygon.\n",
      "No Overlap between raster and polygon.\n",
      "No Overlap between raster and polygon.\n",
      "No Overlap between raster and polygon.\n",
      "No Overlap between raster and polygon.\n",
      "No Overlap between raster and polygon.\n",
      "No Overlap between raster and polygon.\n",
      "No Overlap between raster and polygon.\n",
      "No Overlap between raster and polygon.\n",
      "No Overlap between raster and polygon.\n",
      "No Overlap between raster and polygon.\n",
      "No Overlap between raster and polygon.\n",
      "No Overlap between raster and polygon.\n",
      "No Overlap between raster and polygon.\n",
      "No Overlap between raster and polygon.\n",
      "No Overlap between raster and polygon.\n",
      "No Overlap between raster and polygon.\n",
      "No Overlap between raster and polygon.\n",
      "No Overlap between raster and polygon.\n",
      "No Overlap between raster and polygon.\n",
      "No Overlap between raster and polygon.\n",
      "Overlap found!\n",
      "No Overlap between raster and polygon.\n",
      "No Overlap between raster and polygon.\n",
      "No Overlap between raster and polygon.\n",
      "No Overlap between raster and polygon.\n",
      "No Overlap between raster and polygon.\n",
      "No Overlap between raster and polygon.\n",
      "No Overlap between raster and polygon.\n",
      "No Overlap between raster and polygon.\n",
      "No Overlap between raster and polygon.\n",
      "No Overlap between raster and polygon.\n",
      "No Overlap between raster and polygon.\n",
      "No Overlap between raster and polygon.\n",
      "No Overlap between raster and polygon.\n",
      "No Overlap between raster and polygon.\n",
      "No Overlap between raster and polygon.\n",
      "No Overlap between raster and polygon.\n",
      "No Overlap between raster and polygon.\n",
      "No Overlap between raster and polygon.\n",
      "No Overlap between raster and polygon.\n",
      "No Overlap between raster and polygon.\n",
      "No Overlap between raster and polygon.\n",
      "No Overlap between raster and polygon.\n",
      "No Overlap between raster and polygon.\n",
      "No Overlap between raster and polygon.\n",
      "No Overlap between raster and polygon.\n",
      "No Overlap between raster and polygon.\n",
      "No Overlap between raster and polygon.\n",
      "No Overlap between raster and polygon.\n",
      "No Overlap between raster and polygon.\n",
      "No Overlap between raster and polygon.\n",
      "No Overlap between raster and polygon.\n",
      "No Overlap between raster and polygon.\n",
      "No Overlap between raster and polygon.\n",
      "Overlap found!\n",
      "No Overlap between raster and polygon.\n",
      "No Overlap between raster and polygon.\n",
      "No Overlap between raster and polygon.\n",
      "No Overlap between raster and polygon.\n",
      "No Overlap between raster and polygon.\n",
      "No Overlap between raster and polygon.\n",
      "No Overlap between raster and polygon.\n",
      "No Overlap between raster and polygon.\n",
      "No Overlap between raster and polygon.\n",
      "No Overlap between raster and polygon.\n",
      "No Overlap between raster and polygon.\n",
      "No Overlap between raster and polygon.\n",
      "No Overlap between raster and polygon.\n",
      "No Overlap between raster and polygon.\n",
      "No Overlap between raster and polygon.\n",
      "No Overlap between raster and polygon.\n",
      "No Overlap between raster and polygon.\n",
      "No Overlap between raster and polygon.\n",
      "No Overlap between raster and polygon.\n",
      "No Overlap between raster and polygon.\n",
      "No Overlap between raster and polygon.\n",
      "No Overlap between raster and polygon.\n",
      "No Overlap between raster and polygon.\n",
      "No Overlap between raster and polygon.\n",
      "No Overlap between raster and polygon.\n",
      "No Overlap between raster and polygon.\n",
      "No Overlap between raster and polygon.\n",
      "No Overlap between raster and polygon.\n",
      "No Overlap between raster and polygon.\n",
      "No Overlap between raster and polygon.\n",
      "No Overlap between raster and polygon.\n",
      "No Overlap between raster and polygon.\n",
      "No Overlap between raster and polygon.\n",
      "Overlap found!\n",
      "No Overlap between raster and polygon.\n",
      "No Overlap between raster and polygon.\n",
      "M:\\Gaurav\\GPSUR\\Data\\GHSL_builtup_250m\\GHSL_2000_split\n",
      "No Overlap between raster and polygon.\n",
      "No Overlap between raster and polygon.\n",
      "No Overlap between raster and polygon.\n",
      "No Overlap between raster and polygon.\n",
      "No Overlap between raster and polygon.\n",
      "No Overlap between raster and polygon.\n",
      "No Overlap between raster and polygon.\n",
      "No Overlap between raster and polygon.\n",
      "No Overlap between raster and polygon.\n",
      "No Overlap between raster and polygon.\n",
      "Overlap found!\n",
      "No Overlap between raster and polygon.\n",
      "No Overlap between raster and polygon.\n",
      "No Overlap between raster and polygon.\n",
      "No Overlap between raster and polygon.\n",
      "No Overlap between raster and polygon.\n",
      "No Overlap between raster and polygon.\n",
      "No Overlap between raster and polygon.\n",
      "No Overlap between raster and polygon.\n",
      "No Overlap between raster and polygon.\n",
      "No Overlap between raster and polygon.\n",
      "No Overlap between raster and polygon.\n",
      "No Overlap between raster and polygon.\n",
      "No Overlap between raster and polygon.\n",
      "No Overlap between raster and polygon.\n",
      "No Overlap between raster and polygon.\n",
      "Overlap found!\n",
      "No Overlap between raster and polygon.\n",
      "No Overlap between raster and polygon.\n",
      "No Overlap between raster and polygon.\n",
      "No Overlap between raster and polygon.\n",
      "No Overlap between raster and polygon.\n",
      "No Overlap between raster and polygon.\n",
      "No Overlap between raster and polygon.\n",
      "No Overlap between raster and polygon.\n",
      "No Overlap between raster and polygon.\n",
      "No Overlap between raster and polygon.\n",
      "No Overlap between raster and polygon.\n",
      "No Overlap between raster and polygon.\n",
      "No Overlap between raster and polygon.\n",
      "No Overlap between raster and polygon.\n",
      "No Overlap between raster and polygon.\n",
      "Overlap found!\n",
      "No Overlap between raster and polygon.\n",
      "No Overlap between raster and polygon.\n",
      "No Overlap between raster and polygon.\n",
      "No Overlap between raster and polygon.\n",
      "No Overlap between raster and polygon.\n",
      "No Overlap between raster and polygon.\n",
      "No Overlap between raster and polygon.\n",
      "No Overlap between raster and polygon.\n",
      "No Overlap between raster and polygon.\n",
      "No Overlap between raster and polygon.\n",
      "No Overlap between raster and polygon.\n",
      "No Overlap between raster and polygon.\n",
      "No Overlap between raster and polygon.\n",
      "No Overlap between raster and polygon.\n",
      "No Overlap between raster and polygon.\n",
      "Overlap found!\n",
      "No Overlap between raster and polygon.\n",
      "No Overlap between raster and polygon.\n",
      "No Overlap between raster and polygon.\n",
      "No Overlap between raster and polygon.\n",
      "No Overlap between raster and polygon.\n",
      "M:\\Gaurav\\GPSUR\\Data\\GHSL_builtup_250m\\GHSL_2014_split\n",
      "No Overlap between raster and polygon.\n",
      "No Overlap between raster and polygon.\n",
      "No Overlap between raster and polygon.\n",
      "Overlap found!\n",
      "No Overlap between raster and polygon.\n",
      "No Overlap between raster and polygon.\n",
      "No Overlap between raster and polygon.\n",
      "No Overlap between raster and polygon.\n",
      "No Overlap between raster and polygon.\n",
      "No Overlap between raster and polygon.\n",
      "No Overlap between raster and polygon.\n",
      "No Overlap between raster and polygon.\n"
     ]
    },
    {
     "name": "stdout",
     "output_type": "stream",
     "text": [
      "No Overlap between raster and polygon.\n",
      "No Overlap between raster and polygon.\n",
      "No Overlap between raster and polygon.\n",
      "No Overlap between raster and polygon.\n",
      "No Overlap between raster and polygon.\n",
      "No Overlap between raster and polygon.\n",
      "No Overlap between raster and polygon.\n",
      "Overlap found!\n",
      "No Overlap between raster and polygon.\n",
      "No Overlap between raster and polygon.\n",
      "No Overlap between raster and polygon.\n",
      "No Overlap between raster and polygon.\n",
      "No Overlap between raster and polygon.\n",
      "No Overlap between raster and polygon.\n",
      "No Overlap between raster and polygon.\n",
      "No Overlap between raster and polygon.\n",
      "No Overlap between raster and polygon.\n",
      "No Overlap between raster and polygon.\n",
      "No Overlap between raster and polygon.\n",
      "No Overlap between raster and polygon.\n",
      "No Overlap between raster and polygon.\n",
      "No Overlap between raster and polygon.\n",
      "No Overlap between raster and polygon.\n",
      "Overlap found!\n",
      "No Overlap between raster and polygon.\n",
      "No Overlap between raster and polygon.\n",
      "No Overlap between raster and polygon.\n",
      "No Overlap between raster and polygon.\n",
      "No Overlap between raster and polygon.\n",
      "No Overlap between raster and polygon.\n",
      "No Overlap between raster and polygon.\n",
      "No Overlap between raster and polygon.\n",
      "No Overlap between raster and polygon.\n",
      "No Overlap between raster and polygon.\n",
      "No Overlap between raster and polygon.\n",
      "No Overlap between raster and polygon.\n",
      "No Overlap between raster and polygon.\n",
      "No Overlap between raster and polygon.\n",
      "No Overlap between raster and polygon.\n",
      "Overlap found!\n",
      "No Overlap between raster and polygon.\n",
      "No Overlap between raster and polygon.\n",
      "No Overlap between raster and polygon.\n",
      "No Overlap between raster and polygon.\n",
      "No Overlap between raster and polygon.\n",
      "No Overlap between raster and polygon.\n",
      "No Overlap between raster and polygon.\n",
      "No Overlap between raster and polygon.\n",
      "No Overlap between raster and polygon.\n",
      "No Overlap between raster and polygon.\n",
      "No Overlap between raster and polygon.\n",
      "No Overlap between raster and polygon.\n"
     ]
    },
    {
     "name": "stderr",
     "output_type": "stream",
     "text": [
      "C:\\Users\\wb542830\\AppData\\Roaming\\Python\\Python36\\site-packages\\urllib3\\connectionpool.py:1004: InsecureRequestWarning:\n",
      "\n",
      "Unverified HTTPS request is being made. Adding certificate verification is strongly advised. See: https://urllib3.readthedocs.io/en/latest/advanced-usage.html#ssl-warnings\n",
      "\n",
      "C:\\Users\\wb542830\\AppData\\Roaming\\Python\\Python36\\site-packages\\urllib3\\connectionpool.py:1004: InsecureRequestWarning:\n",
      "\n",
      "Unverified HTTPS request is being made. Adding certificate verification is strongly advised. See: https://urllib3.readthedocs.io/en/latest/advanced-usage.html#ssl-warnings\n",
      "\n"
     ]
    },
    {
     "name": "stdout",
     "output_type": "stream",
     "text": [
      "M:\\Gaurav\\GPSUR\\Data\\GHSL_builtup_250m\\GHSL_1990_split\n",
      "No Overlap between raster and polygon.\n",
      "No Overlap between raster and polygon.\n",
      "No Overlap between raster and polygon.\n",
      "No Overlap between raster and polygon.\n",
      "No Overlap between raster and polygon.\n",
      "No Overlap between raster and polygon.\n",
      "No Overlap between raster and polygon.\n",
      "No Overlap between raster and polygon.\n",
      "No Overlap between raster and polygon.\n",
      "No Overlap between raster and polygon.\n",
      "No Overlap between raster and polygon.\n",
      "No Overlap between raster and polygon.\n",
      "No Overlap between raster and polygon.\n",
      "No Overlap between raster and polygon.\n",
      "No Overlap between raster and polygon.\n",
      "No Overlap between raster and polygon.\n",
      "No Overlap between raster and polygon.\n",
      "No Overlap between raster and polygon.\n",
      "No Overlap between raster and polygon.\n",
      "No Overlap between raster and polygon.\n",
      "No Overlap between raster and polygon.\n",
      "No Overlap between raster and polygon.\n",
      "No Overlap between raster and polygon.\n",
      "No Overlap between raster and polygon.\n",
      "No Overlap between raster and polygon.\n",
      "No Overlap between raster and polygon.\n",
      "No Overlap between raster and polygon.\n",
      "No Overlap between raster and polygon.\n",
      "No Overlap between raster and polygon.\n",
      "No Overlap between raster and polygon.\n",
      "No Overlap between raster and polygon.\n",
      "No Overlap between raster and polygon.\n",
      "No Overlap between raster and polygon.\n",
      "Overlap found!\n",
      "No Overlap between raster and polygon.\n",
      "No Overlap between raster and polygon.\n",
      "No Overlap between raster and polygon.\n",
      "No Overlap between raster and polygon.\n",
      "No Overlap between raster and polygon.\n",
      "No Overlap between raster and polygon.\n",
      "No Overlap between raster and polygon.\n",
      "No Overlap between raster and polygon.\n",
      "No Overlap between raster and polygon.\n",
      "No Overlap between raster and polygon.\n",
      "No Overlap between raster and polygon.\n",
      "No Overlap between raster and polygon.\n",
      "No Overlap between raster and polygon.\n",
      "No Overlap between raster and polygon.\n",
      "No Overlap between raster and polygon.\n",
      "No Overlap between raster and polygon.\n",
      "No Overlap between raster and polygon.\n",
      "No Overlap between raster and polygon.\n",
      "No Overlap between raster and polygon.\n",
      "No Overlap between raster and polygon.\n",
      "No Overlap between raster and polygon.\n",
      "No Overlap between raster and polygon.\n",
      "No Overlap between raster and polygon.\n",
      "No Overlap between raster and polygon.\n",
      "No Overlap between raster and polygon.\n",
      "No Overlap between raster and polygon.\n",
      "No Overlap between raster and polygon.\n",
      "No Overlap between raster and polygon.\n",
      "No Overlap between raster and polygon.\n",
      "No Overlap between raster and polygon.\n",
      "No Overlap between raster and polygon.\n",
      "No Overlap between raster and polygon.\n",
      "No Overlap between raster and polygon.\n",
      "Overlap found!\n",
      "No Overlap between raster and polygon.\n",
      "No Overlap between raster and polygon.\n",
      "No Overlap between raster and polygon.\n",
      "No Overlap between raster and polygon.\n",
      "No Overlap between raster and polygon.\n",
      "No Overlap between raster and polygon.\n",
      "No Overlap between raster and polygon.\n",
      "No Overlap between raster and polygon.\n",
      "No Overlap between raster and polygon.\n",
      "No Overlap between raster and polygon.\n",
      "No Overlap between raster and polygon.\n",
      "No Overlap between raster and polygon.\n",
      "No Overlap between raster and polygon.\n",
      "No Overlap between raster and polygon.\n",
      "No Overlap between raster and polygon.\n",
      "No Overlap between raster and polygon.\n",
      "No Overlap between raster and polygon.\n",
      "No Overlap between raster and polygon.\n",
      "No Overlap between raster and polygon.\n",
      "No Overlap between raster and polygon.\n",
      "No Overlap between raster and polygon.\n",
      "No Overlap between raster and polygon.\n",
      "No Overlap between raster and polygon.\n",
      "No Overlap between raster and polygon.\n",
      "No Overlap between raster and polygon.\n",
      "No Overlap between raster and polygon.\n",
      "No Overlap between raster and polygon.\n",
      "No Overlap between raster and polygon.\n",
      "No Overlap between raster and polygon.\n",
      "No Overlap between raster and polygon.\n",
      "No Overlap between raster and polygon.\n",
      "No Overlap between raster and polygon.\n",
      "No Overlap between raster and polygon.\n",
      "Overlap found!\n",
      "No Overlap between raster and polygon.\n",
      "No Overlap between raster and polygon.\n",
      "No Overlap between raster and polygon.\n",
      "No Overlap between raster and polygon.\n",
      "No Overlap between raster and polygon.\n",
      "No Overlap between raster and polygon.\n",
      "No Overlap between raster and polygon.\n",
      "No Overlap between raster and polygon.\n",
      "No Overlap between raster and polygon.\n",
      "No Overlap between raster and polygon.\n",
      "No Overlap between raster and polygon.\n",
      "No Overlap between raster and polygon.\n",
      "No Overlap between raster and polygon.\n",
      "No Overlap between raster and polygon.\n",
      "No Overlap between raster and polygon.\n",
      "No Overlap between raster and polygon.\n",
      "No Overlap between raster and polygon.\n",
      "No Overlap between raster and polygon.\n",
      "No Overlap between raster and polygon.\n",
      "No Overlap between raster and polygon.\n",
      "No Overlap between raster and polygon.\n",
      "No Overlap between raster and polygon.\n",
      "No Overlap between raster and polygon.\n",
      "No Overlap between raster and polygon.\n",
      "No Overlap between raster and polygon.\n",
      "No Overlap between raster and polygon.\n",
      "No Overlap between raster and polygon.\n",
      "No Overlap between raster and polygon.\n",
      "No Overlap between raster and polygon.\n",
      "No Overlap between raster and polygon.\n",
      "No Overlap between raster and polygon.\n",
      "No Overlap between raster and polygon.\n",
      "No Overlap between raster and polygon.\n",
      "Overlap found!\n",
      "M:\\Gaurav\\GPSUR\\Data\\GHSL_builtup_250m\\GHSL_2000_split\n",
      "No Overlap between raster and polygon.\n",
      "No Overlap between raster and polygon.\n",
      "No Overlap between raster and polygon.\n",
      "Overlap found!\n",
      "No Overlap between raster and polygon.\n",
      "No Overlap between raster and polygon.\n",
      "No Overlap between raster and polygon.\n",
      "No Overlap between raster and polygon.\n",
      "No Overlap between raster and polygon.\n",
      "No Overlap between raster and polygon.\n",
      "No Overlap between raster and polygon.\n",
      "No Overlap between raster and polygon.\n",
      "No Overlap between raster and polygon.\n",
      "No Overlap between raster and polygon.\n",
      "No Overlap between raster and polygon.\n",
      "No Overlap between raster and polygon.\n",
      "No Overlap between raster and polygon.\n",
      "No Overlap between raster and polygon.\n",
      "No Overlap between raster and polygon.\n",
      "Overlap found!\n",
      "No Overlap between raster and polygon.\n",
      "No Overlap between raster and polygon.\n",
      "No Overlap between raster and polygon.\n",
      "No Overlap between raster and polygon.\n",
      "No Overlap between raster and polygon.\n",
      "No Overlap between raster and polygon.\n",
      "No Overlap between raster and polygon.\n",
      "No Overlap between raster and polygon.\n",
      "No Overlap between raster and polygon.\n",
      "No Overlap between raster and polygon.\n",
      "No Overlap between raster and polygon.\n",
      "No Overlap between raster and polygon.\n",
      "No Overlap between raster and polygon.\n",
      "No Overlap between raster and polygon.\n",
      "No Overlap between raster and polygon.\n",
      "Overlap found!\n",
      "No Overlap between raster and polygon.\n",
      "No Overlap between raster and polygon.\n",
      "No Overlap between raster and polygon.\n",
      "No Overlap between raster and polygon.\n",
      "No Overlap between raster and polygon.\n",
      "No Overlap between raster and polygon.\n",
      "No Overlap between raster and polygon.\n",
      "No Overlap between raster and polygon.\n",
      "No Overlap between raster and polygon.\n",
      "No Overlap between raster and polygon.\n",
      "No Overlap between raster and polygon.\n",
      "No Overlap between raster and polygon.\n",
      "No Overlap between raster and polygon.\n",
      "No Overlap between raster and polygon.\n",
      "No Overlap between raster and polygon.\n",
      "Overlap found!\n",
      "No Overlap between raster and polygon.\n",
      "No Overlap between raster and polygon.\n",
      "No Overlap between raster and polygon.\n",
      "No Overlap between raster and polygon.\n",
      "No Overlap between raster and polygon.\n",
      "No Overlap between raster and polygon.\n",
      "No Overlap between raster and polygon.\n",
      "No Overlap between raster and polygon.\n",
      "No Overlap between raster and polygon.\n",
      "No Overlap between raster and polygon.\n",
      "No Overlap between raster and polygon.\n",
      "No Overlap between raster and polygon.\n",
      "M:\\Gaurav\\GPSUR\\Data\\GHSL_builtup_250m\\GHSL_2014_split\n",
      "No Overlap between raster and polygon.\n",
      "No Overlap between raster and polygon.\n",
      "No Overlap between raster and polygon.\n",
      "No Overlap between raster and polygon.\n",
      "No Overlap between raster and polygon.\n",
      "No Overlap between raster and polygon.\n",
      "No Overlap between raster and polygon.\n",
      "No Overlap between raster and polygon.\n",
      "No Overlap between raster and polygon.\n",
      "Overlap found!\n",
      "No Overlap between raster and polygon.\n",
      "No Overlap between raster and polygon.\n",
      "No Overlap between raster and polygon.\n",
      "No Overlap between raster and polygon.\n"
     ]
    },
    {
     "name": "stdout",
     "output_type": "stream",
     "text": [
      "No Overlap between raster and polygon.\n",
      "No Overlap between raster and polygon.\n",
      "No Overlap between raster and polygon.\n",
      "No Overlap between raster and polygon.\n",
      "No Overlap between raster and polygon.\n",
      "No Overlap between raster and polygon.\n",
      "No Overlap between raster and polygon.\n",
      "No Overlap between raster and polygon.\n",
      "No Overlap between raster and polygon.\n",
      "No Overlap between raster and polygon.\n",
      "No Overlap between raster and polygon.\n",
      "Overlap found!\n",
      "No Overlap between raster and polygon.\n",
      "No Overlap between raster and polygon.\n",
      "No Overlap between raster and polygon.\n",
      "No Overlap between raster and polygon.\n",
      "No Overlap between raster and polygon.\n",
      "No Overlap between raster and polygon.\n",
      "No Overlap between raster and polygon.\n",
      "No Overlap between raster and polygon.\n",
      "No Overlap between raster and polygon.\n",
      "No Overlap between raster and polygon.\n",
      "No Overlap between raster and polygon.\n",
      "No Overlap between raster and polygon.\n",
      "No Overlap between raster and polygon.\n",
      "No Overlap between raster and polygon.\n",
      "No Overlap between raster and polygon.\n",
      "Overlap found!\n",
      "No Overlap between raster and polygon.\n",
      "No Overlap between raster and polygon.\n",
      "No Overlap between raster and polygon.\n",
      "No Overlap between raster and polygon.\n",
      "No Overlap between raster and polygon.\n",
      "No Overlap between raster and polygon.\n",
      "No Overlap between raster and polygon.\n",
      "No Overlap between raster and polygon.\n",
      "No Overlap between raster and polygon.\n",
      "No Overlap between raster and polygon.\n",
      "No Overlap between raster and polygon.\n",
      "No Overlap between raster and polygon.\n",
      "No Overlap between raster and polygon.\n",
      "No Overlap between raster and polygon.\n",
      "No Overlap between raster and polygon.\n",
      "Overlap found!\n",
      "No Overlap between raster and polygon.\n",
      "No Overlap between raster and polygon.\n",
      "No Overlap between raster and polygon.\n",
      "No Overlap between raster and polygon.\n",
      "No Overlap between raster and polygon.\n",
      "No Overlap between raster and polygon.\n"
     ]
    },
    {
     "name": "stderr",
     "output_type": "stream",
     "text": [
      "C:\\Users\\wb542830\\AppData\\Roaming\\Python\\Python36\\site-packages\\urllib3\\connectionpool.py:1004: InsecureRequestWarning:\n",
      "\n",
      "Unverified HTTPS request is being made. Adding certificate verification is strongly advised. See: https://urllib3.readthedocs.io/en/latest/advanced-usage.html#ssl-warnings\n",
      "\n",
      "C:\\Users\\wb542830\\AppData\\Roaming\\Python\\Python36\\site-packages\\urllib3\\connectionpool.py:1004: InsecureRequestWarning:\n",
      "\n",
      "Unverified HTTPS request is being made. Adding certificate verification is strongly advised. See: https://urllib3.readthedocs.io/en/latest/advanced-usage.html#ssl-warnings\n",
      "\n"
     ]
    },
    {
     "name": "stdout",
     "output_type": "stream",
     "text": [
      "M:\\Gaurav\\GPSUR\\Data\\GHSL_builtup_250m\\GHSL_1990_split\n",
      "No Overlap between raster and polygon.\n",
      "No Overlap between raster and polygon.\n",
      "No Overlap between raster and polygon.\n",
      "No Overlap between raster and polygon.\n",
      "No Overlap between raster and polygon.\n",
      "No Overlap between raster and polygon.\n",
      "No Overlap between raster and polygon.\n",
      "No Overlap between raster and polygon.\n",
      "No Overlap between raster and polygon.\n",
      "No Overlap between raster and polygon.\n",
      "No Overlap between raster and polygon.\n",
      "No Overlap between raster and polygon.\n",
      "Overlap found!\n",
      "No Overlap between raster and polygon.\n",
      "No Overlap between raster and polygon.\n",
      "No Overlap between raster and polygon.\n",
      "No Overlap between raster and polygon.\n",
      "No Overlap between raster and polygon.\n",
      "No Overlap between raster and polygon.\n",
      "No Overlap between raster and polygon.\n",
      "No Overlap between raster and polygon.\n",
      "No Overlap between raster and polygon.\n",
      "No Overlap between raster and polygon.\n",
      "No Overlap between raster and polygon.\n",
      "No Overlap between raster and polygon.\n",
      "No Overlap between raster and polygon.\n",
      "No Overlap between raster and polygon.\n",
      "No Overlap between raster and polygon.\n",
      "No Overlap between raster and polygon.\n",
      "No Overlap between raster and polygon.\n",
      "No Overlap between raster and polygon.\n",
      "No Overlap between raster and polygon.\n",
      "No Overlap between raster and polygon.\n",
      "No Overlap between raster and polygon.\n",
      "No Overlap between raster and polygon.\n",
      "No Overlap between raster and polygon.\n",
      "No Overlap between raster and polygon.\n",
      "No Overlap between raster and polygon.\n",
      "No Overlap between raster and polygon.\n",
      "No Overlap between raster and polygon.\n",
      "No Overlap between raster and polygon.\n",
      "No Overlap between raster and polygon.\n",
      "No Overlap between raster and polygon.\n",
      "No Overlap between raster and polygon.\n",
      "No Overlap between raster and polygon.\n",
      "No Overlap between raster and polygon.\n",
      "Overlap found!\n",
      "No Overlap between raster and polygon.\n",
      "No Overlap between raster and polygon.\n",
      "No Overlap between raster and polygon.\n",
      "No Overlap between raster and polygon.\n",
      "No Overlap between raster and polygon.\n",
      "No Overlap between raster and polygon.\n",
      "No Overlap between raster and polygon.\n",
      "No Overlap between raster and polygon.\n",
      "No Overlap between raster and polygon.\n",
      "No Overlap between raster and polygon.\n",
      "No Overlap between raster and polygon.\n",
      "No Overlap between raster and polygon.\n",
      "No Overlap between raster and polygon.\n",
      "No Overlap between raster and polygon.\n",
      "No Overlap between raster and polygon.\n",
      "No Overlap between raster and polygon.\n",
      "No Overlap between raster and polygon.\n",
      "No Overlap between raster and polygon.\n",
      "No Overlap between raster and polygon.\n",
      "No Overlap between raster and polygon.\n",
      "No Overlap between raster and polygon.\n",
      "No Overlap between raster and polygon.\n",
      "No Overlap between raster and polygon.\n",
      "No Overlap between raster and polygon.\n",
      "No Overlap between raster and polygon.\n",
      "No Overlap between raster and polygon.\n",
      "No Overlap between raster and polygon.\n",
      "No Overlap between raster and polygon.\n",
      "No Overlap between raster and polygon.\n",
      "No Overlap between raster and polygon.\n",
      "No Overlap between raster and polygon.\n",
      "No Overlap between raster and polygon.\n",
      "No Overlap between raster and polygon.\n",
      "Overlap found!\n",
      "No Overlap between raster and polygon.\n",
      "No Overlap between raster and polygon.\n",
      "No Overlap between raster and polygon.\n",
      "No Overlap between raster and polygon.\n",
      "No Overlap between raster and polygon.\n",
      "No Overlap between raster and polygon.\n",
      "No Overlap between raster and polygon.\n",
      "No Overlap between raster and polygon.\n",
      "No Overlap between raster and polygon.\n",
      "No Overlap between raster and polygon.\n",
      "No Overlap between raster and polygon.\n",
      "No Overlap between raster and polygon.\n",
      "No Overlap between raster and polygon.\n",
      "No Overlap between raster and polygon.\n",
      "No Overlap between raster and polygon.\n",
      "No Overlap between raster and polygon.\n",
      "No Overlap between raster and polygon.\n",
      "No Overlap between raster and polygon.\n",
      "No Overlap between raster and polygon.\n",
      "No Overlap between raster and polygon.\n",
      "No Overlap between raster and polygon.\n",
      "No Overlap between raster and polygon.\n",
      "No Overlap between raster and polygon.\n",
      "No Overlap between raster and polygon.\n",
      "No Overlap between raster and polygon.\n",
      "No Overlap between raster and polygon.\n",
      "No Overlap between raster and polygon.\n",
      "No Overlap between raster and polygon.\n",
      "No Overlap between raster and polygon.\n",
      "No Overlap between raster and polygon.\n",
      "No Overlap between raster and polygon.\n",
      "No Overlap between raster and polygon.\n",
      "No Overlap between raster and polygon.\n",
      "Overlap found!\n",
      "No Overlap between raster and polygon.\n",
      "No Overlap between raster and polygon.\n",
      "No Overlap between raster and polygon.\n",
      "No Overlap between raster and polygon.\n",
      "No Overlap between raster and polygon.\n",
      "No Overlap between raster and polygon.\n",
      "No Overlap between raster and polygon.\n",
      "No Overlap between raster and polygon.\n",
      "No Overlap between raster and polygon.\n",
      "No Overlap between raster and polygon.\n",
      "No Overlap between raster and polygon.\n",
      "No Overlap between raster and polygon.\n",
      "No Overlap between raster and polygon.\n",
      "No Overlap between raster and polygon.\n",
      "No Overlap between raster and polygon.\n",
      "No Overlap between raster and polygon.\n",
      "No Overlap between raster and polygon.\n",
      "No Overlap between raster and polygon.\n",
      "No Overlap between raster and polygon.\n",
      "No Overlap between raster and polygon.\n",
      "No Overlap between raster and polygon.\n",
      "M:\\Gaurav\\GPSUR\\Data\\GHSL_builtup_250m\\GHSL_2000_split\n",
      "No Overlap between raster and polygon.\n",
      "No Overlap between raster and polygon.\n",
      "No Overlap between raster and polygon.\n",
      "No Overlap between raster and polygon.\n",
      "No Overlap between raster and polygon.\n",
      "No Overlap between raster and polygon.\n",
      "No Overlap between raster and polygon.\n",
      "No Overlap between raster and polygon.\n",
      "No Overlap between raster and polygon.\n",
      "No Overlap between raster and polygon.\n",
      "No Overlap between raster and polygon.\n",
      "Overlap found!\n",
      "No Overlap between raster and polygon.\n",
      "No Overlap between raster and polygon.\n",
      "No Overlap between raster and polygon.\n",
      "No Overlap between raster and polygon.\n",
      "No Overlap between raster and polygon.\n",
      "No Overlap between raster and polygon.\n",
      "No Overlap between raster and polygon.\n",
      "No Overlap between raster and polygon.\n",
      "No Overlap between raster and polygon.\n",
      "No Overlap between raster and polygon.\n",
      "No Overlap between raster and polygon.\n",
      "No Overlap between raster and polygon.\n",
      "No Overlap between raster and polygon.\n",
      "No Overlap between raster and polygon.\n",
      "No Overlap between raster and polygon.\n",
      "Overlap found!\n",
      "No Overlap between raster and polygon.\n",
      "No Overlap between raster and polygon.\n",
      "No Overlap between raster and polygon.\n",
      "No Overlap between raster and polygon.\n",
      "No Overlap between raster and polygon.\n",
      "No Overlap between raster and polygon.\n",
      "No Overlap between raster and polygon.\n",
      "No Overlap between raster and polygon.\n",
      "No Overlap between raster and polygon.\n",
      "No Overlap between raster and polygon.\n",
      "No Overlap between raster and polygon.\n",
      "No Overlap between raster and polygon.\n",
      "No Overlap between raster and polygon.\n",
      "No Overlap between raster and polygon.\n",
      "No Overlap between raster and polygon.\n",
      "Overlap found!\n",
      "No Overlap between raster and polygon.\n",
      "No Overlap between raster and polygon.\n",
      "No Overlap between raster and polygon.\n",
      "No Overlap between raster and polygon.\n",
      "No Overlap between raster and polygon.\n",
      "No Overlap between raster and polygon.\n",
      "No Overlap between raster and polygon.\n",
      "No Overlap between raster and polygon.\n",
      "No Overlap between raster and polygon.\n",
      "No Overlap between raster and polygon.\n",
      "No Overlap between raster and polygon.\n",
      "No Overlap between raster and polygon.\n",
      "No Overlap between raster and polygon.\n",
      "No Overlap between raster and polygon.\n",
      "No Overlap between raster and polygon.\n",
      "Overlap found!\n",
      "No Overlap between raster and polygon.\n",
      "No Overlap between raster and polygon.\n",
      "No Overlap between raster and polygon.\n",
      "No Overlap between raster and polygon.\n",
      "M:\\Gaurav\\GPSUR\\Data\\GHSL_builtup_250m\\GHSL_2014_split\n",
      "No Overlap between raster and polygon.\n",
      "No Overlap between raster and polygon.\n",
      "Overlap found!\n",
      "No Overlap between raster and polygon.\n",
      "No Overlap between raster and polygon.\n",
      "No Overlap between raster and polygon.\n",
      "No Overlap between raster and polygon.\n",
      "No Overlap between raster and polygon.\n",
      "No Overlap between raster and polygon.\n",
      "No Overlap between raster and polygon.\n",
      "No Overlap between raster and polygon.\n",
      "No Overlap between raster and polygon.\n",
      "No Overlap between raster and polygon.\n",
      "No Overlap between raster and polygon.\n"
     ]
    },
    {
     "name": "stdout",
     "output_type": "stream",
     "text": [
      "No Overlap between raster and polygon.\n",
      "No Overlap between raster and polygon.\n",
      "No Overlap between raster and polygon.\n",
      "No Overlap between raster and polygon.\n",
      "Overlap found!\n",
      "No Overlap between raster and polygon.\n",
      "No Overlap between raster and polygon.\n",
      "No Overlap between raster and polygon.\n",
      "No Overlap between raster and polygon.\n",
      "No Overlap between raster and polygon.\n",
      "No Overlap between raster and polygon.\n",
      "No Overlap between raster and polygon.\n",
      "No Overlap between raster and polygon.\n",
      "No Overlap between raster and polygon.\n",
      "No Overlap between raster and polygon.\n",
      "No Overlap between raster and polygon.\n",
      "No Overlap between raster and polygon.\n",
      "No Overlap between raster and polygon.\n",
      "No Overlap between raster and polygon.\n",
      "No Overlap between raster and polygon.\n",
      "Overlap found!\n",
      "No Overlap between raster and polygon.\n",
      "No Overlap between raster and polygon.\n",
      "No Overlap between raster and polygon.\n",
      "No Overlap between raster and polygon.\n",
      "No Overlap between raster and polygon.\n",
      "No Overlap between raster and polygon.\n",
      "No Overlap between raster and polygon.\n",
      "No Overlap between raster and polygon.\n",
      "No Overlap between raster and polygon.\n",
      "No Overlap between raster and polygon.\n",
      "No Overlap between raster and polygon.\n",
      "No Overlap between raster and polygon.\n",
      "No Overlap between raster and polygon.\n",
      "No Overlap between raster and polygon.\n",
      "No Overlap between raster and polygon.\n",
      "Overlap found!\n",
      "No Overlap between raster and polygon.\n",
      "No Overlap between raster and polygon.\n",
      "No Overlap between raster and polygon.\n",
      "No Overlap between raster and polygon.\n",
      "No Overlap between raster and polygon.\n",
      "No Overlap between raster and polygon.\n",
      "No Overlap between raster and polygon.\n",
      "No Overlap between raster and polygon.\n",
      "No Overlap between raster and polygon.\n",
      "No Overlap between raster and polygon.\n",
      "No Overlap between raster and polygon.\n",
      "No Overlap between raster and polygon.\n",
      "No Overlap between raster and polygon.\n"
     ]
    },
    {
     "name": "stderr",
     "output_type": "stream",
     "text": [
      "C:\\Users\\wb542830\\AppData\\Roaming\\Python\\Python36\\site-packages\\urllib3\\connectionpool.py:1004: InsecureRequestWarning:\n",
      "\n",
      "Unverified HTTPS request is being made. Adding certificate verification is strongly advised. See: https://urllib3.readthedocs.io/en/latest/advanced-usage.html#ssl-warnings\n",
      "\n",
      "C:\\Users\\wb542830\\AppData\\Roaming\\Python\\Python36\\site-packages\\urllib3\\connectionpool.py:1004: InsecureRequestWarning:\n",
      "\n",
      "Unverified HTTPS request is being made. Adding certificate verification is strongly advised. See: https://urllib3.readthedocs.io/en/latest/advanced-usage.html#ssl-warnings\n",
      "\n"
     ]
    },
    {
     "name": "stdout",
     "output_type": "stream",
     "text": [
      "M:\\Gaurav\\GPSUR\\Data\\GHSL_builtup_250m\\GHSL_1990_split\n",
      "No Overlap between raster and polygon.\n",
      "No Overlap between raster and polygon.\n",
      "No Overlap between raster and polygon.\n",
      "No Overlap between raster and polygon.\n",
      "Overlap found!\n",
      "No Overlap between raster and polygon.\n",
      "No Overlap between raster and polygon.\n",
      "No Overlap between raster and polygon.\n",
      "No Overlap between raster and polygon.\n",
      "No Overlap between raster and polygon.\n",
      "No Overlap between raster and polygon.\n",
      "No Overlap between raster and polygon.\n",
      "No Overlap between raster and polygon.\n",
      "No Overlap between raster and polygon.\n",
      "No Overlap between raster and polygon.\n",
      "No Overlap between raster and polygon.\n",
      "No Overlap between raster and polygon.\n",
      "No Overlap between raster and polygon.\n",
      "No Overlap between raster and polygon.\n",
      "No Overlap between raster and polygon.\n",
      "No Overlap between raster and polygon.\n",
      "No Overlap between raster and polygon.\n",
      "No Overlap between raster and polygon.\n",
      "No Overlap between raster and polygon.\n",
      "No Overlap between raster and polygon.\n",
      "No Overlap between raster and polygon.\n",
      "No Overlap between raster and polygon.\n",
      "No Overlap between raster and polygon.\n",
      "No Overlap between raster and polygon.\n",
      "No Overlap between raster and polygon.\n",
      "No Overlap between raster and polygon.\n",
      "No Overlap between raster and polygon.\n",
      "No Overlap between raster and polygon.\n",
      "No Overlap between raster and polygon.\n",
      "No Overlap between raster and polygon.\n",
      "No Overlap between raster and polygon.\n",
      "No Overlap between raster and polygon.\n",
      "No Overlap between raster and polygon.\n",
      "Overlap found!\n",
      "No Overlap between raster and polygon.\n",
      "No Overlap between raster and polygon.\n",
      "No Overlap between raster and polygon.\n",
      "No Overlap between raster and polygon.\n",
      "No Overlap between raster and polygon.\n",
      "No Overlap between raster and polygon.\n",
      "No Overlap between raster and polygon.\n",
      "No Overlap between raster and polygon.\n",
      "No Overlap between raster and polygon.\n",
      "No Overlap between raster and polygon.\n",
      "No Overlap between raster and polygon.\n",
      "No Overlap between raster and polygon.\n",
      "No Overlap between raster and polygon.\n",
      "No Overlap between raster and polygon.\n",
      "No Overlap between raster and polygon.\n",
      "No Overlap between raster and polygon.\n",
      "No Overlap between raster and polygon.\n",
      "No Overlap between raster and polygon.\n",
      "No Overlap between raster and polygon.\n",
      "No Overlap between raster and polygon.\n",
      "No Overlap between raster and polygon.\n",
      "No Overlap between raster and polygon.\n",
      "No Overlap between raster and polygon.\n",
      "No Overlap between raster and polygon.\n",
      "No Overlap between raster and polygon.\n",
      "No Overlap between raster and polygon.\n",
      "No Overlap between raster and polygon.\n",
      "No Overlap between raster and polygon.\n",
      "No Overlap between raster and polygon.\n",
      "No Overlap between raster and polygon.\n",
      "No Overlap between raster and polygon.\n",
      "No Overlap between raster and polygon.\n",
      "No Overlap between raster and polygon.\n",
      "Overlap found!\n",
      "No Overlap between raster and polygon.\n",
      "No Overlap between raster and polygon.\n",
      "No Overlap between raster and polygon.\n",
      "No Overlap between raster and polygon.\n",
      "No Overlap between raster and polygon.\n",
      "No Overlap between raster and polygon.\n",
      "No Overlap between raster and polygon.\n",
      "No Overlap between raster and polygon.\n",
      "No Overlap between raster and polygon.\n",
      "No Overlap between raster and polygon.\n",
      "No Overlap between raster and polygon.\n",
      "No Overlap between raster and polygon.\n",
      "No Overlap between raster and polygon.\n",
      "No Overlap between raster and polygon.\n",
      "No Overlap between raster and polygon.\n",
      "No Overlap between raster and polygon.\n",
      "No Overlap between raster and polygon.\n",
      "No Overlap between raster and polygon.\n",
      "No Overlap between raster and polygon.\n",
      "No Overlap between raster and polygon.\n",
      "No Overlap between raster and polygon.\n",
      "No Overlap between raster and polygon.\n",
      "No Overlap between raster and polygon.\n",
      "No Overlap between raster and polygon.\n",
      "No Overlap between raster and polygon.\n",
      "No Overlap between raster and polygon.\n",
      "No Overlap between raster and polygon.\n",
      "No Overlap between raster and polygon.\n",
      "No Overlap between raster and polygon.\n",
      "No Overlap between raster and polygon.\n",
      "No Overlap between raster and polygon.\n",
      "No Overlap between raster and polygon.\n",
      "No Overlap between raster and polygon.\n",
      "Overlap found!\n",
      "No Overlap between raster and polygon.\n",
      "No Overlap between raster and polygon.\n",
      "No Overlap between raster and polygon.\n",
      "No Overlap between raster and polygon.\n",
      "No Overlap between raster and polygon.\n",
      "No Overlap between raster and polygon.\n",
      "No Overlap between raster and polygon.\n",
      "No Overlap between raster and polygon.\n",
      "No Overlap between raster and polygon.\n",
      "No Overlap between raster and polygon.\n",
      "No Overlap between raster and polygon.\n",
      "No Overlap between raster and polygon.\n",
      "No Overlap between raster and polygon.\n",
      "No Overlap between raster and polygon.\n",
      "No Overlap between raster and polygon.\n",
      "No Overlap between raster and polygon.\n",
      "No Overlap between raster and polygon.\n",
      "No Overlap between raster and polygon.\n",
      "No Overlap between raster and polygon.\n",
      "No Overlap between raster and polygon.\n",
      "No Overlap between raster and polygon.\n",
      "No Overlap between raster and polygon.\n",
      "No Overlap between raster and polygon.\n",
      "No Overlap between raster and polygon.\n",
      "No Overlap between raster and polygon.\n",
      "No Overlap between raster and polygon.\n",
      "No Overlap between raster and polygon.\n",
      "No Overlap between raster and polygon.\n",
      "No Overlap between raster and polygon.\n",
      "M:\\Gaurav\\GPSUR\\Data\\GHSL_builtup_250m\\GHSL_2000_split\n",
      "Overlap found!\n",
      "No Overlap between raster and polygon.\n",
      "No Overlap between raster and polygon.\n",
      "No Overlap between raster and polygon.\n",
      "No Overlap between raster and polygon.\n",
      "No Overlap between raster and polygon.\n",
      "No Overlap between raster and polygon.\n",
      "No Overlap between raster and polygon.\n",
      "No Overlap between raster and polygon.\n",
      "No Overlap between raster and polygon.\n",
      "No Overlap between raster and polygon.\n",
      "No Overlap between raster and polygon.\n",
      "No Overlap between raster and polygon.\n",
      "No Overlap between raster and polygon.\n",
      "No Overlap between raster and polygon.\n",
      "No Overlap between raster and polygon.\n",
      "Overlap found!\n",
      "No Overlap between raster and polygon.\n",
      "No Overlap between raster and polygon.\n",
      "No Overlap between raster and polygon.\n",
      "No Overlap between raster and polygon.\n",
      "No Overlap between raster and polygon.\n",
      "No Overlap between raster and polygon.\n",
      "No Overlap between raster and polygon.\n",
      "No Overlap between raster and polygon.\n",
      "No Overlap between raster and polygon.\n",
      "No Overlap between raster and polygon.\n",
      "No Overlap between raster and polygon.\n",
      "No Overlap between raster and polygon.\n",
      "No Overlap between raster and polygon.\n",
      "No Overlap between raster and polygon.\n",
      "No Overlap between raster and polygon.\n",
      "Overlap found!\n",
      "No Overlap between raster and polygon.\n",
      "No Overlap between raster and polygon.\n",
      "No Overlap between raster and polygon.\n",
      "No Overlap between raster and polygon.\n",
      "No Overlap between raster and polygon.\n",
      "No Overlap between raster and polygon.\n",
      "No Overlap between raster and polygon.\n",
      "No Overlap between raster and polygon.\n",
      "No Overlap between raster and polygon.\n",
      "No Overlap between raster and polygon.\n",
      "No Overlap between raster and polygon.\n",
      "No Overlap between raster and polygon.\n",
      "No Overlap between raster and polygon.\n",
      "No Overlap between raster and polygon.\n",
      "No Overlap between raster and polygon.\n",
      "Overlap found!\n",
      "No Overlap between raster and polygon.\n",
      "No Overlap between raster and polygon.\n",
      "No Overlap between raster and polygon.\n",
      "No Overlap between raster and polygon.\n",
      "No Overlap between raster and polygon.\n",
      "No Overlap between raster and polygon.\n",
      "No Overlap between raster and polygon.\n",
      "No Overlap between raster and polygon.\n",
      "No Overlap between raster and polygon.\n",
      "No Overlap between raster and polygon.\n",
      "No Overlap between raster and polygon.\n",
      "No Overlap between raster and polygon.\n",
      "No Overlap between raster and polygon.\n",
      "No Overlap between raster and polygon.\n",
      "No Overlap between raster and polygon.\n",
      "M:\\Gaurav\\GPSUR\\Data\\GHSL_builtup_250m\\GHSL_2014_split\n",
      "No Overlap between raster and polygon.\n",
      "No Overlap between raster and polygon.\n",
      "No Overlap between raster and polygon.\n",
      "No Overlap between raster and polygon.\n",
      "No Overlap between raster and polygon.\n",
      "Overlap found!\n",
      "No Overlap between raster and polygon.\n",
      "No Overlap between raster and polygon.\n",
      "No Overlap between raster and polygon.\n",
      "No Overlap between raster and polygon.\n",
      "No Overlap between raster and polygon.\n",
      "No Overlap between raster and polygon.\n",
      "No Overlap between raster and polygon.\n"
     ]
    },
    {
     "name": "stdout",
     "output_type": "stream",
     "text": [
      "No Overlap between raster and polygon.\n",
      "No Overlap between raster and polygon.\n",
      "No Overlap between raster and polygon.\n",
      "No Overlap between raster and polygon.\n",
      "No Overlap between raster and polygon.\n",
      "No Overlap between raster and polygon.\n",
      "No Overlap between raster and polygon.\n",
      "No Overlap between raster and polygon.\n",
      "Overlap found!\n",
      "No Overlap between raster and polygon.\n",
      "No Overlap between raster and polygon.\n",
      "No Overlap between raster and polygon.\n",
      "No Overlap between raster and polygon.\n",
      "No Overlap between raster and polygon.\n",
      "No Overlap between raster and polygon.\n",
      "No Overlap between raster and polygon.\n",
      "No Overlap between raster and polygon.\n",
      "No Overlap between raster and polygon.\n",
      "No Overlap between raster and polygon.\n",
      "No Overlap between raster and polygon.\n",
      "No Overlap between raster and polygon.\n",
      "No Overlap between raster and polygon.\n",
      "No Overlap between raster and polygon.\n",
      "No Overlap between raster and polygon.\n",
      "Overlap found!\n",
      "No Overlap between raster and polygon.\n",
      "No Overlap between raster and polygon.\n",
      "No Overlap between raster and polygon.\n",
      "No Overlap between raster and polygon.\n",
      "No Overlap between raster and polygon.\n",
      "No Overlap between raster and polygon.\n",
      "No Overlap between raster and polygon.\n",
      "No Overlap between raster and polygon.\n",
      "No Overlap between raster and polygon.\n",
      "No Overlap between raster and polygon.\n",
      "No Overlap between raster and polygon.\n",
      "No Overlap between raster and polygon.\n",
      "No Overlap between raster and polygon.\n",
      "No Overlap between raster and polygon.\n",
      "No Overlap between raster and polygon.\n",
      "Overlap found!\n",
      "No Overlap between raster and polygon.\n",
      "No Overlap between raster and polygon.\n",
      "No Overlap between raster and polygon.\n",
      "No Overlap between raster and polygon.\n",
      "No Overlap between raster and polygon.\n",
      "No Overlap between raster and polygon.\n",
      "No Overlap between raster and polygon.\n",
      "No Overlap between raster and polygon.\n",
      "No Overlap between raster and polygon.\n",
      "No Overlap between raster and polygon.\n"
     ]
    },
    {
     "name": "stderr",
     "output_type": "stream",
     "text": [
      "C:\\Users\\wb542830\\AppData\\Roaming\\Python\\Python36\\site-packages\\urllib3\\connectionpool.py:1004: InsecureRequestWarning:\n",
      "\n",
      "Unverified HTTPS request is being made. Adding certificate verification is strongly advised. See: https://urllib3.readthedocs.io/en/latest/advanced-usage.html#ssl-warnings\n",
      "\n",
      "C:\\Users\\wb542830\\AppData\\Roaming\\Python\\Python36\\site-packages\\urllib3\\connectionpool.py:1004: InsecureRequestWarning:\n",
      "\n",
      "Unverified HTTPS request is being made. Adding certificate verification is strongly advised. See: https://urllib3.readthedocs.io/en/latest/advanced-usage.html#ssl-warnings\n",
      "\n"
     ]
    },
    {
     "name": "stdout",
     "output_type": "stream",
     "text": [
      "M:\\Gaurav\\GPSUR\\Data\\GHSL_builtup_250m\\GHSL_1990_split\n",
      "No Overlap between raster and polygon.\n",
      "No Overlap between raster and polygon.\n",
      "No Overlap between raster and polygon.\n",
      "No Overlap between raster and polygon.\n",
      "No Overlap between raster and polygon.\n",
      "No Overlap between raster and polygon.\n",
      "No Overlap between raster and polygon.\n",
      "Overlap found!\n",
      "No Overlap between raster and polygon.\n",
      "No Overlap between raster and polygon.\n",
      "No Overlap between raster and polygon.\n",
      "No Overlap between raster and polygon.\n",
      "No Overlap between raster and polygon.\n",
      "No Overlap between raster and polygon.\n",
      "No Overlap between raster and polygon.\n",
      "No Overlap between raster and polygon.\n",
      "No Overlap between raster and polygon.\n",
      "No Overlap between raster and polygon.\n",
      "No Overlap between raster and polygon.\n",
      "No Overlap between raster and polygon.\n",
      "No Overlap between raster and polygon.\n",
      "No Overlap between raster and polygon.\n",
      "No Overlap between raster and polygon.\n",
      "No Overlap between raster and polygon.\n",
      "No Overlap between raster and polygon.\n",
      "No Overlap between raster and polygon.\n",
      "No Overlap between raster and polygon.\n",
      "No Overlap between raster and polygon.\n",
      "No Overlap between raster and polygon.\n",
      "No Overlap between raster and polygon.\n",
      "No Overlap between raster and polygon.\n",
      "No Overlap between raster and polygon.\n",
      "No Overlap between raster and polygon.\n",
      "No Overlap between raster and polygon.\n",
      "No Overlap between raster and polygon.\n",
      "No Overlap between raster and polygon.\n",
      "No Overlap between raster and polygon.\n",
      "No Overlap between raster and polygon.\n",
      "No Overlap between raster and polygon.\n",
      "No Overlap between raster and polygon.\n",
      "No Overlap between raster and polygon.\n",
      "Overlap found!\n",
      "No Overlap between raster and polygon.\n",
      "No Overlap between raster and polygon.\n",
      "No Overlap between raster and polygon.\n",
      "No Overlap between raster and polygon.\n",
      "No Overlap between raster and polygon.\n",
      "No Overlap between raster and polygon.\n",
      "No Overlap between raster and polygon.\n",
      "No Overlap between raster and polygon.\n",
      "No Overlap between raster and polygon.\n",
      "No Overlap between raster and polygon.\n",
      "No Overlap between raster and polygon.\n",
      "No Overlap between raster and polygon.\n",
      "No Overlap between raster and polygon.\n",
      "No Overlap between raster and polygon.\n",
      "No Overlap between raster and polygon.\n",
      "No Overlap between raster and polygon.\n",
      "No Overlap between raster and polygon.\n",
      "No Overlap between raster and polygon.\n",
      "No Overlap between raster and polygon.\n",
      "No Overlap between raster and polygon.\n",
      "No Overlap between raster and polygon.\n",
      "No Overlap between raster and polygon.\n",
      "No Overlap between raster and polygon.\n",
      "No Overlap between raster and polygon.\n",
      "No Overlap between raster and polygon.\n",
      "No Overlap between raster and polygon.\n",
      "No Overlap between raster and polygon.\n",
      "No Overlap between raster and polygon.\n",
      "No Overlap between raster and polygon.\n",
      "No Overlap between raster and polygon.\n",
      "No Overlap between raster and polygon.\n",
      "No Overlap between raster and polygon.\n",
      "No Overlap between raster and polygon.\n",
      "Overlap found!\n",
      "No Overlap between raster and polygon.\n",
      "No Overlap between raster and polygon.\n",
      "No Overlap between raster and polygon.\n",
      "No Overlap between raster and polygon.\n",
      "No Overlap between raster and polygon.\n",
      "No Overlap between raster and polygon.\n",
      "No Overlap between raster and polygon.\n",
      "No Overlap between raster and polygon.\n",
      "No Overlap between raster and polygon.\n",
      "No Overlap between raster and polygon.\n",
      "No Overlap between raster and polygon.\n",
      "No Overlap between raster and polygon.\n",
      "No Overlap between raster and polygon.\n",
      "No Overlap between raster and polygon.\n",
      "No Overlap between raster and polygon.\n",
      "No Overlap between raster and polygon.\n",
      "No Overlap between raster and polygon.\n",
      "No Overlap between raster and polygon.\n",
      "No Overlap between raster and polygon.\n",
      "No Overlap between raster and polygon.\n",
      "No Overlap between raster and polygon.\n",
      "No Overlap between raster and polygon.\n",
      "No Overlap between raster and polygon.\n",
      "No Overlap between raster and polygon.\n",
      "No Overlap between raster and polygon.\n",
      "No Overlap between raster and polygon.\n",
      "No Overlap between raster and polygon.\n",
      "No Overlap between raster and polygon.\n",
      "No Overlap between raster and polygon.\n",
      "No Overlap between raster and polygon.\n",
      "No Overlap between raster and polygon.\n",
      "No Overlap between raster and polygon.\n",
      "No Overlap between raster and polygon.\n",
      "Overlap found!\n",
      "No Overlap between raster and polygon.\n",
      "No Overlap between raster and polygon.\n",
      "No Overlap between raster and polygon.\n",
      "No Overlap between raster and polygon.\n",
      "No Overlap between raster and polygon.\n",
      "No Overlap between raster and polygon.\n",
      "No Overlap between raster and polygon.\n",
      "No Overlap between raster and polygon.\n",
      "No Overlap between raster and polygon.\n",
      "No Overlap between raster and polygon.\n",
      "No Overlap between raster and polygon.\n",
      "No Overlap between raster and polygon.\n",
      "No Overlap between raster and polygon.\n",
      "No Overlap between raster and polygon.\n",
      "No Overlap between raster and polygon.\n",
      "No Overlap between raster and polygon.\n",
      "No Overlap between raster and polygon.\n",
      "No Overlap between raster and polygon.\n",
      "No Overlap between raster and polygon.\n",
      "No Overlap between raster and polygon.\n",
      "No Overlap between raster and polygon.\n",
      "No Overlap between raster and polygon.\n",
      "No Overlap between raster and polygon.\n",
      "No Overlap between raster and polygon.\n",
      "No Overlap between raster and polygon.\n",
      "No Overlap between raster and polygon.\n",
      "M:\\Gaurav\\GPSUR\\Data\\GHSL_builtup_250m\\GHSL_2000_split\n",
      "No Overlap between raster and polygon.\n",
      "No Overlap between raster and polygon.\n",
      "No Overlap between raster and polygon.\n",
      "No Overlap between raster and polygon.\n",
      "No Overlap between raster and polygon.\n",
      "No Overlap between raster and polygon.\n",
      "Overlap found!\n",
      "No Overlap between raster and polygon.\n",
      "Overlap found!\n"
     ]
    },
    {
     "name": "stderr",
     "output_type": "stream",
     "text": [
      "C:\\Users\\wb542830\\.conda\\envs\\osm1\\lib\\site-packages\\ipykernel_launcher.py:17: RuntimeWarning:\n",
      "\n",
      "invalid value encountered in true_divide\n",
      "\n"
     ]
    },
    {
     "name": "stdout",
     "output_type": "stream",
     "text": [
      "No Overlap between raster and polygon.\n",
      "No Overlap between raster and polygon.\n",
      "No Overlap between raster and polygon.\n",
      "No Overlap between raster and polygon.\n",
      "No Overlap between raster and polygon.\n",
      "No Overlap between raster and polygon.\n",
      "No Overlap between raster and polygon.\n",
      "No Overlap between raster and polygon.\n",
      "No Overlap between raster and polygon.\n",
      "No Overlap between raster and polygon.\n",
      "No Overlap between raster and polygon.\n",
      "No Overlap between raster and polygon.\n",
      "No Overlap between raster and polygon.\n",
      "Overlap found!\n",
      "No Overlap between raster and polygon.\n",
      "Overlap found!\n",
      "No Overlap between raster and polygon.\n",
      "No Overlap between raster and polygon.\n",
      "No Overlap between raster and polygon.\n",
      "No Overlap between raster and polygon.\n",
      "No Overlap between raster and polygon.\n",
      "No Overlap between raster and polygon.\n",
      "No Overlap between raster and polygon.\n",
      "No Overlap between raster and polygon.\n",
      "No Overlap between raster and polygon.\n",
      "No Overlap between raster and polygon.\n",
      "No Overlap between raster and polygon.\n",
      "No Overlap between raster and polygon.\n",
      "No Overlap between raster and polygon.\n",
      "Overlap found!\n",
      "No Overlap between raster and polygon.\n",
      "Overlap found!\n",
      "No Overlap between raster and polygon.\n",
      "No Overlap between raster and polygon.\n",
      "No Overlap between raster and polygon.\n",
      "No Overlap between raster and polygon.\n",
      "No Overlap between raster and polygon.\n",
      "No Overlap between raster and polygon.\n",
      "No Overlap between raster and polygon.\n",
      "No Overlap between raster and polygon.\n",
      "No Overlap between raster and polygon.\n",
      "No Overlap between raster and polygon.\n",
      "No Overlap between raster and polygon.\n",
      "No Overlap between raster and polygon.\n",
      "No Overlap between raster and polygon.\n",
      "Overlap found!\n",
      "No Overlap between raster and polygon.\n",
      "Overlap found!\n",
      "No Overlap between raster and polygon.\n",
      "No Overlap between raster and polygon.\n",
      "No Overlap between raster and polygon.\n",
      "No Overlap between raster and polygon.\n",
      "No Overlap between raster and polygon.\n",
      "No Overlap between raster and polygon.\n",
      "No Overlap between raster and polygon.\n",
      "M:\\Gaurav\\GPSUR\\Data\\GHSL_builtup_250m\\GHSL_2014_split\n",
      "No Overlap between raster and polygon.\n",
      "No Overlap between raster and polygon.\n",
      "No Overlap between raster and polygon.\n",
      "No Overlap between raster and polygon.\n",
      "No Overlap between raster and polygon.\n",
      "No Overlap between raster and polygon.\n",
      "No Overlap between raster and polygon.\n",
      "No Overlap between raster and polygon.\n",
      "No Overlap between raster and polygon.\n",
      "No Overlap between raster and polygon.\n",
      "No Overlap between raster and polygon.\n",
      "No Overlap between raster and polygon.\n",
      "No Overlap between raster and polygon.\n",
      "No Overlap between raster and polygon.\n",
      "Overlap found!\n",
      "Overlap found!\n",
      "No Overlap between raster and polygon.\n",
      "No Overlap between raster and polygon.\n",
      "No Overlap between raster and polygon.\n",
      "No Overlap between raster and polygon.\n",
      "No Overlap between raster and polygon.\n",
      "No Overlap between raster and polygon.\n",
      "No Overlap between raster and polygon.\n",
      "No Overlap between raster and polygon.\n",
      "No Overlap between raster and polygon.\n",
      "No Overlap between raster and polygon.\n",
      "No Overlap between raster and polygon.\n",
      "No Overlap between raster and polygon.\n",
      "No Overlap between raster and polygon.\n",
      "No Overlap between raster and polygon.\n",
      "Overlap found!\n",
      "Overlap found!\n",
      "No Overlap between raster and polygon.\n",
      "No Overlap between raster and polygon.\n",
      "No Overlap between raster and polygon.\n",
      "No Overlap between raster and polygon.\n",
      "No Overlap between raster and polygon.\n",
      "No Overlap between raster and polygon.\n",
      "No Overlap between raster and polygon.\n",
      "No Overlap between raster and polygon.\n",
      "No Overlap between raster and polygon.\n",
      "No Overlap between raster and polygon.\n",
      "No Overlap between raster and polygon.\n",
      "No Overlap between raster and polygon.\n",
      "No Overlap between raster and polygon.\n",
      "No Overlap between raster and polygon.\n",
      "Overlap found!\n",
      "Overlap found!\n",
      "No Overlap between raster and polygon.\n",
      "No Overlap between raster and polygon.\n",
      "No Overlap between raster and polygon.\n",
      "No Overlap between raster and polygon.\n",
      "No Overlap between raster and polygon.\n",
      "No Overlap between raster and polygon.\n",
      "No Overlap between raster and polygon.\n",
      "No Overlap between raster and polygon.\n",
      "No Overlap between raster and polygon.\n",
      "No Overlap between raster and polygon.\n",
      "No Overlap between raster and polygon.\n",
      "No Overlap between raster and polygon.\n",
      "No Overlap between raster and polygon.\n",
      "No Overlap between raster and polygon.\n",
      "Overlap found!\n",
      "Overlap found!\n"
     ]
    },
    {
     "name": "stderr",
     "output_type": "stream",
     "text": [
      "C:\\Users\\wb542830\\AppData\\Roaming\\Python\\Python36\\site-packages\\urllib3\\connectionpool.py:1004: InsecureRequestWarning:\n",
      "\n",
      "Unverified HTTPS request is being made. Adding certificate verification is strongly advised. See: https://urllib3.readthedocs.io/en/latest/advanced-usage.html#ssl-warnings\n",
      "\n",
      "C:\\Users\\wb542830\\AppData\\Roaming\\Python\\Python36\\site-packages\\urllib3\\connectionpool.py:1004: InsecureRequestWarning:\n",
      "\n",
      "Unverified HTTPS request is being made. Adding certificate verification is strongly advised. See: https://urllib3.readthedocs.io/en/latest/advanced-usage.html#ssl-warnings\n",
      "\n"
     ]
    },
    {
     "name": "stdout",
     "output_type": "stream",
     "text": [
      "M:\\Gaurav\\GPSUR\\Data\\GHSL_builtup_250m\\GHSL_1990_split\n",
      "Overlap found!\n",
      "No Overlap between raster and polygon.\n",
      "No Overlap between raster and polygon.\n",
      "No Overlap between raster and polygon.\n",
      "No Overlap between raster and polygon.\n",
      "No Overlap between raster and polygon.\n",
      "No Overlap between raster and polygon.\n",
      "No Overlap between raster and polygon.\n",
      "No Overlap between raster and polygon.\n",
      "No Overlap between raster and polygon.\n",
      "No Overlap between raster and polygon.\n",
      "No Overlap between raster and polygon.\n",
      "No Overlap between raster and polygon.\n",
      "No Overlap between raster and polygon.\n",
      "No Overlap between raster and polygon.\n",
      "No Overlap between raster and polygon.\n",
      "No Overlap between raster and polygon.\n",
      "No Overlap between raster and polygon.\n",
      "No Overlap between raster and polygon.\n",
      "No Overlap between raster and polygon.\n",
      "No Overlap between raster and polygon.\n",
      "No Overlap between raster and polygon.\n",
      "No Overlap between raster and polygon.\n",
      "No Overlap between raster and polygon.\n",
      "No Overlap between raster and polygon.\n",
      "No Overlap between raster and polygon.\n",
      "No Overlap between raster and polygon.\n",
      "No Overlap between raster and polygon.\n",
      "No Overlap between raster and polygon.\n",
      "No Overlap between raster and polygon.\n",
      "No Overlap between raster and polygon.\n",
      "No Overlap between raster and polygon.\n",
      "No Overlap between raster and polygon.\n",
      "No Overlap between raster and polygon.\n",
      "Overlap found!\n",
      "No Overlap between raster and polygon.\n",
      "No Overlap between raster and polygon.\n",
      "No Overlap between raster and polygon.\n",
      "No Overlap between raster and polygon.\n",
      "No Overlap between raster and polygon.\n",
      "No Overlap between raster and polygon.\n",
      "No Overlap between raster and polygon.\n",
      "No Overlap between raster and polygon.\n",
      "No Overlap between raster and polygon.\n",
      "No Overlap between raster and polygon.\n",
      "No Overlap between raster and polygon.\n",
      "No Overlap between raster and polygon.\n",
      "No Overlap between raster and polygon.\n",
      "No Overlap between raster and polygon.\n",
      "No Overlap between raster and polygon.\n",
      "No Overlap between raster and polygon.\n",
      "No Overlap between raster and polygon.\n",
      "No Overlap between raster and polygon.\n",
      "No Overlap between raster and polygon.\n",
      "No Overlap between raster and polygon.\n",
      "No Overlap between raster and polygon.\n",
      "No Overlap between raster and polygon.\n",
      "No Overlap between raster and polygon.\n",
      "No Overlap between raster and polygon.\n",
      "No Overlap between raster and polygon.\n",
      "No Overlap between raster and polygon.\n",
      "No Overlap between raster and polygon.\n",
      "No Overlap between raster and polygon.\n",
      "No Overlap between raster and polygon.\n",
      "No Overlap between raster and polygon.\n",
      "No Overlap between raster and polygon.\n",
      "No Overlap between raster and polygon.\n",
      "No Overlap between raster and polygon.\n",
      "Overlap found!\n",
      "No Overlap between raster and polygon.\n",
      "No Overlap between raster and polygon.\n",
      "No Overlap between raster and polygon.\n",
      "No Overlap between raster and polygon.\n",
      "No Overlap between raster and polygon.\n",
      "No Overlap between raster and polygon.\n",
      "No Overlap between raster and polygon.\n",
      "No Overlap between raster and polygon.\n",
      "No Overlap between raster and polygon.\n",
      "No Overlap between raster and polygon.\n",
      "No Overlap between raster and polygon.\n",
      "No Overlap between raster and polygon.\n",
      "No Overlap between raster and polygon.\n",
      "No Overlap between raster and polygon.\n",
      "No Overlap between raster and polygon.\n",
      "No Overlap between raster and polygon.\n",
      "No Overlap between raster and polygon.\n",
      "No Overlap between raster and polygon.\n",
      "No Overlap between raster and polygon.\n",
      "No Overlap between raster and polygon.\n",
      "No Overlap between raster and polygon.\n",
      "No Overlap between raster and polygon.\n",
      "No Overlap between raster and polygon.\n",
      "No Overlap between raster and polygon.\n",
      "No Overlap between raster and polygon.\n",
      "No Overlap between raster and polygon.\n",
      "No Overlap between raster and polygon.\n",
      "No Overlap between raster and polygon.\n",
      "No Overlap between raster and polygon.\n",
      "No Overlap between raster and polygon.\n",
      "No Overlap between raster and polygon.\n",
      "No Overlap between raster and polygon.\n",
      "No Overlap between raster and polygon.\n",
      "Overlap found!\n",
      "No Overlap between raster and polygon.\n",
      "No Overlap between raster and polygon.\n",
      "No Overlap between raster and polygon.\n",
      "No Overlap between raster and polygon.\n",
      "No Overlap between raster and polygon.\n",
      "No Overlap between raster and polygon.\n",
      "No Overlap between raster and polygon.\n",
      "No Overlap between raster and polygon.\n",
      "No Overlap between raster and polygon.\n",
      "No Overlap between raster and polygon.\n",
      "No Overlap between raster and polygon.\n",
      "No Overlap between raster and polygon.\n",
      "No Overlap between raster and polygon.\n",
      "No Overlap between raster and polygon.\n",
      "No Overlap between raster and polygon.\n",
      "No Overlap between raster and polygon.\n",
      "No Overlap between raster and polygon.\n",
      "No Overlap between raster and polygon.\n",
      "No Overlap between raster and polygon.\n",
      "No Overlap between raster and polygon.\n",
      "No Overlap between raster and polygon.\n",
      "No Overlap between raster and polygon.\n",
      "No Overlap between raster and polygon.\n",
      "No Overlap between raster and polygon.\n",
      "No Overlap between raster and polygon.\n",
      "No Overlap between raster and polygon.\n",
      "No Overlap between raster and polygon.\n",
      "No Overlap between raster and polygon.\n",
      "No Overlap between raster and polygon.\n",
      "No Overlap between raster and polygon.\n",
      "No Overlap between raster and polygon.\n",
      "No Overlap between raster and polygon.\n",
      "No Overlap between raster and polygon.\n",
      "M:\\Gaurav\\GPSUR\\Data\\GHSL_builtup_250m\\GHSL_2000_split\n",
      "No Overlap between raster and polygon.\n",
      "No Overlap between raster and polygon.\n",
      "No Overlap between raster and polygon.\n",
      "No Overlap between raster and polygon.\n",
      "No Overlap between raster and polygon.\n",
      "No Overlap between raster and polygon.\n",
      "No Overlap between raster and polygon.\n",
      "No Overlap between raster and polygon.\n",
      "Overlap found!\n",
      "No Overlap between raster and polygon.\n",
      "No Overlap between raster and polygon.\n",
      "No Overlap between raster and polygon.\n",
      "No Overlap between raster and polygon.\n",
      "No Overlap between raster and polygon.\n",
      "No Overlap between raster and polygon.\n",
      "No Overlap between raster and polygon.\n",
      "No Overlap between raster and polygon.\n",
      "No Overlap between raster and polygon.\n",
      "No Overlap between raster and polygon.\n",
      "No Overlap between raster and polygon.\n",
      "No Overlap between raster and polygon.\n",
      "No Overlap between raster and polygon.\n",
      "No Overlap between raster and polygon.\n",
      "No Overlap between raster and polygon.\n",
      "Overlap found!\n",
      "No Overlap between raster and polygon.\n",
      "No Overlap between raster and polygon.\n",
      "No Overlap between raster and polygon.\n",
      "No Overlap between raster and polygon.\n",
      "No Overlap between raster and polygon.\n",
      "No Overlap between raster and polygon.\n",
      "No Overlap between raster and polygon.\n",
      "No Overlap between raster and polygon.\n",
      "No Overlap between raster and polygon.\n",
      "No Overlap between raster and polygon.\n",
      "No Overlap between raster and polygon.\n",
      "No Overlap between raster and polygon.\n",
      "No Overlap between raster and polygon.\n",
      "No Overlap between raster and polygon.\n",
      "No Overlap between raster and polygon.\n",
      "Overlap found!\n",
      "No Overlap between raster and polygon.\n",
      "No Overlap between raster and polygon.\n",
      "No Overlap between raster and polygon.\n",
      "No Overlap between raster and polygon.\n",
      "No Overlap between raster and polygon.\n",
      "No Overlap between raster and polygon.\n",
      "No Overlap between raster and polygon.\n",
      "No Overlap between raster and polygon.\n",
      "No Overlap between raster and polygon.\n",
      "No Overlap between raster and polygon.\n",
      "No Overlap between raster and polygon.\n",
      "No Overlap between raster and polygon.\n",
      "No Overlap between raster and polygon.\n",
      "No Overlap between raster and polygon.\n",
      "No Overlap between raster and polygon.\n",
      "Overlap found!\n",
      "No Overlap between raster and polygon.\n",
      "No Overlap between raster and polygon.\n",
      "No Overlap between raster and polygon.\n",
      "No Overlap between raster and polygon.\n",
      "No Overlap between raster and polygon.\n",
      "No Overlap between raster and polygon.\n",
      "No Overlap between raster and polygon.\n",
      "M:\\Gaurav\\GPSUR\\Data\\GHSL_builtup_250m\\GHSL_2014_split\n",
      "No Overlap between raster and polygon.\n",
      "No Overlap between raster and polygon.\n",
      "No Overlap between raster and polygon.\n",
      "No Overlap between raster and polygon.\n",
      "No Overlap between raster and polygon.\n",
      "No Overlap between raster and polygon.\n",
      "No Overlap between raster and polygon.\n",
      "No Overlap between raster and polygon.\n",
      "No Overlap between raster and polygon.\n",
      "No Overlap between raster and polygon.\n",
      "No Overlap between raster and polygon.\n",
      "No Overlap between raster and polygon.\n"
     ]
    },
    {
     "name": "stdout",
     "output_type": "stream",
     "text": [
      "No Overlap between raster and polygon.\n",
      "No Overlap between raster and polygon.\n",
      "No Overlap between raster and polygon.\n",
      "Overlap found!\n",
      "No Overlap between raster and polygon.\n",
      "No Overlap between raster and polygon.\n",
      "No Overlap between raster and polygon.\n",
      "No Overlap between raster and polygon.\n",
      "No Overlap between raster and polygon.\n",
      "No Overlap between raster and polygon.\n",
      "No Overlap between raster and polygon.\n",
      "No Overlap between raster and polygon.\n",
      "No Overlap between raster and polygon.\n",
      "No Overlap between raster and polygon.\n",
      "No Overlap between raster and polygon.\n",
      "No Overlap between raster and polygon.\n",
      "No Overlap between raster and polygon.\n",
      "No Overlap between raster and polygon.\n",
      "No Overlap between raster and polygon.\n",
      "Overlap found!\n",
      "No Overlap between raster and polygon.\n",
      "No Overlap between raster and polygon.\n",
      "No Overlap between raster and polygon.\n",
      "No Overlap between raster and polygon.\n",
      "No Overlap between raster and polygon.\n",
      "No Overlap between raster and polygon.\n",
      "No Overlap between raster and polygon.\n",
      "No Overlap between raster and polygon.\n",
      "No Overlap between raster and polygon.\n",
      "No Overlap between raster and polygon.\n",
      "No Overlap between raster and polygon.\n",
      "No Overlap between raster and polygon.\n",
      "No Overlap between raster and polygon.\n",
      "No Overlap between raster and polygon.\n",
      "No Overlap between raster and polygon.\n",
      "Overlap found!\n",
      "No Overlap between raster and polygon.\n",
      "No Overlap between raster and polygon.\n",
      "No Overlap between raster and polygon.\n",
      "No Overlap between raster and polygon.\n",
      "No Overlap between raster and polygon.\n",
      "No Overlap between raster and polygon.\n",
      "No Overlap between raster and polygon.\n",
      "No Overlap between raster and polygon.\n",
      "No Overlap between raster and polygon.\n",
      "No Overlap between raster and polygon.\n",
      "No Overlap between raster and polygon.\n",
      "No Overlap between raster and polygon.\n",
      "No Overlap between raster and polygon.\n",
      "No Overlap between raster and polygon.\n",
      "No Overlap between raster and polygon.\n",
      "Overlap found!\n"
     ]
    }
   ],
   "source": [
    "master = {}\n",
    "for i in cities:\n",
    "    string = i.split(',')[0]\n",
    "    master[string] = main(i)"
   ]
  },
  {
   "cell_type": "code",
   "execution_count": 70,
   "metadata": {},
   "outputs": [],
   "source": [
    "master_non = {}\n",
    "\n",
    "for i in master.keys():\n",
    "    temp = {}\n",
    "    for j in master[i].keys():\n",
    "        temp[j] = [round(m, 2) for m in master[i][j] if (m) and (np.isnan(m) != True)]\n",
    "        \n",
    "    master_non[i] = temp "
   ]
  },
  {
   "cell_type": "code",
   "execution_count": 71,
   "metadata": {},
   "outputs": [
    {
     "data": {
      "application/vnd.plotly.v1+json": {
       "config": {
        "plotlyServerURL": "https://plot.ly"
       },
       "data": [
        {
         "hoverinfo": "text+name",
         "mode": "lines+markers",
         "name": "% Built-up for Accra",
         "text": [
          "80.29",
          "85.22",
          "78.89",
          "71.85"
         ],
         "type": "scatter",
         "x": [
          500,
          1000,
          1500,
          2000
         ],
         "y": [
          80.29,
          85.22,
          78.89,
          71.85
         ]
        },
        {
         "hoverinfo": "text+name",
         "mode": "lines+markers",
         "name": "% Built-up for Buenos Aires",
         "text": [
          "83.74",
          "86.03",
          "84.72",
          "85.91"
         ],
         "type": "scatter",
         "x": [
          500,
          1000,
          1500,
          2000
         ],
         "y": [
          83.74,
          86.03,
          84.72,
          85.91
         ]
        },
        {
         "hoverinfo": "text+name",
         "mode": "lines+markers",
         "name": "% Built-up for Paris",
         "text": [
          "90.23",
          "94.01",
          "90.65",
          "92.24"
         ],
         "type": "scatter",
         "x": [
          500,
          1000,
          1500,
          2000
         ],
         "y": [
          90.23,
          94.01,
          90.65,
          92.24
         ]
        },
        {
         "hoverinfo": "text+name",
         "mode": "lines+markers",
         "name": "% Built-up for Chicago",
         "text": [
          "87.94",
          "86.84",
          "85.01",
          "83.55"
         ],
         "type": "scatter",
         "x": [
          500,
          1000,
          1500,
          2000
         ],
         "y": [
          87.94,
          86.84,
          85.01,
          83.55
         ]
        },
        {
         "hoverinfo": "text+name",
         "mode": "lines+markers",
         "name": "% Built-up for Dhaka",
         "text": [
          "66.69",
          "75.36",
          "75.48",
          "67.57"
         ],
         "type": "scatter",
         "x": [
          500,
          1000,
          1500,
          2000
         ],
         "y": [
          66.69,
          75.36,
          75.48,
          67.57
         ]
        },
        {
         "hoverinfo": "text+name",
         "mode": "lines+markers",
         "name": "% Built-up for Shanghai",
         "text": [
          "28.61",
          "14.57",
          "14.07",
          "12.7"
         ],
         "type": "scatter",
         "x": [
          500,
          1000,
          1500,
          2000
         ],
         "y": [
          28.61,
          14.57,
          14.07,
          12.7
         ]
        }
       ],
       "layout": {
        "template": {
         "data": {
          "bar": [
           {
            "error_x": {
             "color": "#2a3f5f"
            },
            "error_y": {
             "color": "#2a3f5f"
            },
            "marker": {
             "line": {
              "color": "#E5ECF6",
              "width": 0.5
             }
            },
            "type": "bar"
           }
          ],
          "barpolar": [
           {
            "marker": {
             "line": {
              "color": "#E5ECF6",
              "width": 0.5
             }
            },
            "type": "barpolar"
           }
          ],
          "carpet": [
           {
            "aaxis": {
             "endlinecolor": "#2a3f5f",
             "gridcolor": "white",
             "linecolor": "white",
             "minorgridcolor": "white",
             "startlinecolor": "#2a3f5f"
            },
            "baxis": {
             "endlinecolor": "#2a3f5f",
             "gridcolor": "white",
             "linecolor": "white",
             "minorgridcolor": "white",
             "startlinecolor": "#2a3f5f"
            },
            "type": "carpet"
           }
          ],
          "choropleth": [
           {
            "colorbar": {
             "outlinewidth": 0,
             "ticks": ""
            },
            "type": "choropleth"
           }
          ],
          "contour": [
           {
            "colorbar": {
             "outlinewidth": 0,
             "ticks": ""
            },
            "colorscale": [
             [
              0,
              "#0d0887"
             ],
             [
              0.1111111111111111,
              "#46039f"
             ],
             [
              0.2222222222222222,
              "#7201a8"
             ],
             [
              0.3333333333333333,
              "#9c179e"
             ],
             [
              0.4444444444444444,
              "#bd3786"
             ],
             [
              0.5555555555555556,
              "#d8576b"
             ],
             [
              0.6666666666666666,
              "#ed7953"
             ],
             [
              0.7777777777777778,
              "#fb9f3a"
             ],
             [
              0.8888888888888888,
              "#fdca26"
             ],
             [
              1,
              "#f0f921"
             ]
            ],
            "type": "contour"
           }
          ],
          "contourcarpet": [
           {
            "colorbar": {
             "outlinewidth": 0,
             "ticks": ""
            },
            "type": "contourcarpet"
           }
          ],
          "heatmap": [
           {
            "colorbar": {
             "outlinewidth": 0,
             "ticks": ""
            },
            "colorscale": [
             [
              0,
              "#0d0887"
             ],
             [
              0.1111111111111111,
              "#46039f"
             ],
             [
              0.2222222222222222,
              "#7201a8"
             ],
             [
              0.3333333333333333,
              "#9c179e"
             ],
             [
              0.4444444444444444,
              "#bd3786"
             ],
             [
              0.5555555555555556,
              "#d8576b"
             ],
             [
              0.6666666666666666,
              "#ed7953"
             ],
             [
              0.7777777777777778,
              "#fb9f3a"
             ],
             [
              0.8888888888888888,
              "#fdca26"
             ],
             [
              1,
              "#f0f921"
             ]
            ],
            "type": "heatmap"
           }
          ],
          "heatmapgl": [
           {
            "colorbar": {
             "outlinewidth": 0,
             "ticks": ""
            },
            "colorscale": [
             [
              0,
              "#0d0887"
             ],
             [
              0.1111111111111111,
              "#46039f"
             ],
             [
              0.2222222222222222,
              "#7201a8"
             ],
             [
              0.3333333333333333,
              "#9c179e"
             ],
             [
              0.4444444444444444,
              "#bd3786"
             ],
             [
              0.5555555555555556,
              "#d8576b"
             ],
             [
              0.6666666666666666,
              "#ed7953"
             ],
             [
              0.7777777777777778,
              "#fb9f3a"
             ],
             [
              0.8888888888888888,
              "#fdca26"
             ],
             [
              1,
              "#f0f921"
             ]
            ],
            "type": "heatmapgl"
           }
          ],
          "histogram": [
           {
            "marker": {
             "colorbar": {
              "outlinewidth": 0,
              "ticks": ""
             }
            },
            "type": "histogram"
           }
          ],
          "histogram2d": [
           {
            "colorbar": {
             "outlinewidth": 0,
             "ticks": ""
            },
            "colorscale": [
             [
              0,
              "#0d0887"
             ],
             [
              0.1111111111111111,
              "#46039f"
             ],
             [
              0.2222222222222222,
              "#7201a8"
             ],
             [
              0.3333333333333333,
              "#9c179e"
             ],
             [
              0.4444444444444444,
              "#bd3786"
             ],
             [
              0.5555555555555556,
              "#d8576b"
             ],
             [
              0.6666666666666666,
              "#ed7953"
             ],
             [
              0.7777777777777778,
              "#fb9f3a"
             ],
             [
              0.8888888888888888,
              "#fdca26"
             ],
             [
              1,
              "#f0f921"
             ]
            ],
            "type": "histogram2d"
           }
          ],
          "histogram2dcontour": [
           {
            "colorbar": {
             "outlinewidth": 0,
             "ticks": ""
            },
            "colorscale": [
             [
              0,
              "#0d0887"
             ],
             [
              0.1111111111111111,
              "#46039f"
             ],
             [
              0.2222222222222222,
              "#7201a8"
             ],
             [
              0.3333333333333333,
              "#9c179e"
             ],
             [
              0.4444444444444444,
              "#bd3786"
             ],
             [
              0.5555555555555556,
              "#d8576b"
             ],
             [
              0.6666666666666666,
              "#ed7953"
             ],
             [
              0.7777777777777778,
              "#fb9f3a"
             ],
             [
              0.8888888888888888,
              "#fdca26"
             ],
             [
              1,
              "#f0f921"
             ]
            ],
            "type": "histogram2dcontour"
           }
          ],
          "mesh3d": [
           {
            "colorbar": {
             "outlinewidth": 0,
             "ticks": ""
            },
            "type": "mesh3d"
           }
          ],
          "parcoords": [
           {
            "line": {
             "colorbar": {
              "outlinewidth": 0,
              "ticks": ""
             }
            },
            "type": "parcoords"
           }
          ],
          "pie": [
           {
            "automargin": true,
            "type": "pie"
           }
          ],
          "scatter": [
           {
            "marker": {
             "colorbar": {
              "outlinewidth": 0,
              "ticks": ""
             }
            },
            "type": "scatter"
           }
          ],
          "scatter3d": [
           {
            "line": {
             "colorbar": {
              "outlinewidth": 0,
              "ticks": ""
             }
            },
            "marker": {
             "colorbar": {
              "outlinewidth": 0,
              "ticks": ""
             }
            },
            "type": "scatter3d"
           }
          ],
          "scattercarpet": [
           {
            "marker": {
             "colorbar": {
              "outlinewidth": 0,
              "ticks": ""
             }
            },
            "type": "scattercarpet"
           }
          ],
          "scattergeo": [
           {
            "marker": {
             "colorbar": {
              "outlinewidth": 0,
              "ticks": ""
             }
            },
            "type": "scattergeo"
           }
          ],
          "scattergl": [
           {
            "marker": {
             "colorbar": {
              "outlinewidth": 0,
              "ticks": ""
             }
            },
            "type": "scattergl"
           }
          ],
          "scattermapbox": [
           {
            "marker": {
             "colorbar": {
              "outlinewidth": 0,
              "ticks": ""
             }
            },
            "type": "scattermapbox"
           }
          ],
          "scatterpolar": [
           {
            "marker": {
             "colorbar": {
              "outlinewidth": 0,
              "ticks": ""
             }
            },
            "type": "scatterpolar"
           }
          ],
          "scatterpolargl": [
           {
            "marker": {
             "colorbar": {
              "outlinewidth": 0,
              "ticks": ""
             }
            },
            "type": "scatterpolargl"
           }
          ],
          "scatterternary": [
           {
            "marker": {
             "colorbar": {
              "outlinewidth": 0,
              "ticks": ""
             }
            },
            "type": "scatterternary"
           }
          ],
          "surface": [
           {
            "colorbar": {
             "outlinewidth": 0,
             "ticks": ""
            },
            "colorscale": [
             [
              0,
              "#0d0887"
             ],
             [
              0.1111111111111111,
              "#46039f"
             ],
             [
              0.2222222222222222,
              "#7201a8"
             ],
             [
              0.3333333333333333,
              "#9c179e"
             ],
             [
              0.4444444444444444,
              "#bd3786"
             ],
             [
              0.5555555555555556,
              "#d8576b"
             ],
             [
              0.6666666666666666,
              "#ed7953"
             ],
             [
              0.7777777777777778,
              "#fb9f3a"
             ],
             [
              0.8888888888888888,
              "#fdca26"
             ],
             [
              1,
              "#f0f921"
             ]
            ],
            "type": "surface"
           }
          ],
          "table": [
           {
            "cells": {
             "fill": {
              "color": "#EBF0F8"
             },
             "line": {
              "color": "white"
             }
            },
            "header": {
             "fill": {
              "color": "#C8D4E3"
             },
             "line": {
              "color": "white"
             }
            },
            "type": "table"
           }
          ]
         },
         "layout": {
          "annotationdefaults": {
           "arrowcolor": "#2a3f5f",
           "arrowhead": 0,
           "arrowwidth": 1
          },
          "coloraxis": {
           "colorbar": {
            "outlinewidth": 0,
            "ticks": ""
           }
          },
          "colorscale": {
           "diverging": [
            [
             0,
             "#8e0152"
            ],
            [
             0.1,
             "#c51b7d"
            ],
            [
             0.2,
             "#de77ae"
            ],
            [
             0.3,
             "#f1b6da"
            ],
            [
             0.4,
             "#fde0ef"
            ],
            [
             0.5,
             "#f7f7f7"
            ],
            [
             0.6,
             "#e6f5d0"
            ],
            [
             0.7,
             "#b8e186"
            ],
            [
             0.8,
             "#7fbc41"
            ],
            [
             0.9,
             "#4d9221"
            ],
            [
             1,
             "#276419"
            ]
           ],
           "sequential": [
            [
             0,
             "#0d0887"
            ],
            [
             0.1111111111111111,
             "#46039f"
            ],
            [
             0.2222222222222222,
             "#7201a8"
            ],
            [
             0.3333333333333333,
             "#9c179e"
            ],
            [
             0.4444444444444444,
             "#bd3786"
            ],
            [
             0.5555555555555556,
             "#d8576b"
            ],
            [
             0.6666666666666666,
             "#ed7953"
            ],
            [
             0.7777777777777778,
             "#fb9f3a"
            ],
            [
             0.8888888888888888,
             "#fdca26"
            ],
            [
             1,
             "#f0f921"
            ]
           ],
           "sequentialminus": [
            [
             0,
             "#0d0887"
            ],
            [
             0.1111111111111111,
             "#46039f"
            ],
            [
             0.2222222222222222,
             "#7201a8"
            ],
            [
             0.3333333333333333,
             "#9c179e"
            ],
            [
             0.4444444444444444,
             "#bd3786"
            ],
            [
             0.5555555555555556,
             "#d8576b"
            ],
            [
             0.6666666666666666,
             "#ed7953"
            ],
            [
             0.7777777777777778,
             "#fb9f3a"
            ],
            [
             0.8888888888888888,
             "#fdca26"
            ],
            [
             1,
             "#f0f921"
            ]
           ]
          },
          "colorway": [
           "#636efa",
           "#EF553B",
           "#00cc96",
           "#ab63fa",
           "#FFA15A",
           "#19d3f3",
           "#FF6692",
           "#B6E880",
           "#FF97FF",
           "#FECB52"
          ],
          "font": {
           "color": "#2a3f5f"
          },
          "geo": {
           "bgcolor": "white",
           "lakecolor": "white",
           "landcolor": "#E5ECF6",
           "showlakes": true,
           "showland": true,
           "subunitcolor": "white"
          },
          "hoverlabel": {
           "align": "left"
          },
          "hovermode": "closest",
          "mapbox": {
           "style": "light"
          },
          "paper_bgcolor": "white",
          "plot_bgcolor": "#E5ECF6",
          "polar": {
           "angularaxis": {
            "gridcolor": "white",
            "linecolor": "white",
            "ticks": ""
           },
           "bgcolor": "#E5ECF6",
           "radialaxis": {
            "gridcolor": "white",
            "linecolor": "white",
            "ticks": ""
           }
          },
          "scene": {
           "xaxis": {
            "backgroundcolor": "#E5ECF6",
            "gridcolor": "white",
            "gridwidth": 2,
            "linecolor": "white",
            "showbackground": true,
            "ticks": "",
            "zerolinecolor": "white"
           },
           "yaxis": {
            "backgroundcolor": "#E5ECF6",
            "gridcolor": "white",
            "gridwidth": 2,
            "linecolor": "white",
            "showbackground": true,
            "ticks": "",
            "zerolinecolor": "white"
           },
           "zaxis": {
            "backgroundcolor": "#E5ECF6",
            "gridcolor": "white",
            "gridwidth": 2,
            "linecolor": "white",
            "showbackground": true,
            "ticks": "",
            "zerolinecolor": "white"
           }
          },
          "shapedefaults": {
           "line": {
            "color": "#2a3f5f"
           }
          },
          "ternary": {
           "aaxis": {
            "gridcolor": "white",
            "linecolor": "white",
            "ticks": ""
           },
           "baxis": {
            "gridcolor": "white",
            "linecolor": "white",
            "ticks": ""
           },
           "bgcolor": "#E5ECF6",
           "caxis": {
            "gridcolor": "white",
            "linecolor": "white",
            "ticks": ""
           }
          },
          "title": {
           "x": 0.05
          },
          "xaxis": {
           "automargin": true,
           "gridcolor": "white",
           "linecolor": "white",
           "ticks": "",
           "title": {
            "standoff": 15
           },
           "zerolinecolor": "white",
           "zerolinewidth": 2
          },
          "yaxis": {
           "automargin": true,
           "gridcolor": "white",
           "linecolor": "white",
           "ticks": "",
           "title": {
            "standoff": 15
           },
           "zerolinecolor": "white",
           "zerolinewidth": 2
          }
         }
        },
        "title": {
         "text": "Share of built-up in 1990 at different buffer levels",
         "x": 0.5,
         "xanchor": "center",
         "y": 0.9,
         "yanchor": "top"
        },
        "xaxis": {
         "range": [
          250,
          2100
         ],
         "title": {
          "text": "Buffer Distance (in m)"
         }
        },
        "yaxis": {
         "range": [
          0,
          100
         ],
         "title": {
          "text": "% Share of Built-up"
         }
        }
       }
      },
      "text/html": [
       "<div>\n",
       "        \n",
       "        \n",
       "            <div id=\"16357f6a-bef5-4196-b053-0050283eeecc\" class=\"plotly-graph-div\" style=\"height:525px; width:100%;\"></div>\n",
       "            <script type=\"text/javascript\">\n",
       "                require([\"plotly\"], function(Plotly) {\n",
       "                    window.PLOTLYENV=window.PLOTLYENV || {};\n",
       "                    \n",
       "                if (document.getElementById(\"16357f6a-bef5-4196-b053-0050283eeecc\")) {\n",
       "                    Plotly.newPlot(\n",
       "                        '16357f6a-bef5-4196-b053-0050283eeecc',\n",
       "                        [{\"hoverinfo\": \"text+name\", \"mode\": \"lines+markers\", \"name\": \"% Built-up for Accra\", \"text\": [\"80.29\", \"85.22\", \"78.89\", \"71.85\"], \"type\": \"scatter\", \"x\": [500, 1000, 1500, 2000], \"y\": [80.29, 85.22, 78.89, 71.85]}, {\"hoverinfo\": \"text+name\", \"mode\": \"lines+markers\", \"name\": \"% Built-up for Buenos Aires\", \"text\": [\"83.74\", \"86.03\", \"84.72\", \"85.91\"], \"type\": \"scatter\", \"x\": [500, 1000, 1500, 2000], \"y\": [83.74, 86.03, 84.72, 85.91]}, {\"hoverinfo\": \"text+name\", \"mode\": \"lines+markers\", \"name\": \"% Built-up for Paris\", \"text\": [\"90.23\", \"94.01\", \"90.65\", \"92.24\"], \"type\": \"scatter\", \"x\": [500, 1000, 1500, 2000], \"y\": [90.23, 94.01, 90.65, 92.24]}, {\"hoverinfo\": \"text+name\", \"mode\": \"lines+markers\", \"name\": \"% Built-up for Chicago\", \"text\": [\"87.94\", \"86.84\", \"85.01\", \"83.55\"], \"type\": \"scatter\", \"x\": [500, 1000, 1500, 2000], \"y\": [87.94, 86.84, 85.01, 83.55]}, {\"hoverinfo\": \"text+name\", \"mode\": \"lines+markers\", \"name\": \"% Built-up for Dhaka\", \"text\": [\"66.69\", \"75.36\", \"75.48\", \"67.57\"], \"type\": \"scatter\", \"x\": [500, 1000, 1500, 2000], \"y\": [66.69, 75.36, 75.48, 67.57]}, {\"hoverinfo\": \"text+name\", \"mode\": \"lines+markers\", \"name\": \"% Built-up for Shanghai\", \"text\": [\"28.61\", \"14.57\", \"14.07\", \"12.7\"], \"type\": \"scatter\", \"x\": [500, 1000, 1500, 2000], \"y\": [28.61, 14.57, 14.07, 12.7]}],\n",
       "                        {\"template\": {\"data\": {\"bar\": [{\"error_x\": {\"color\": \"#2a3f5f\"}, \"error_y\": {\"color\": \"#2a3f5f\"}, \"marker\": {\"line\": {\"color\": \"#E5ECF6\", \"width\": 0.5}}, \"type\": \"bar\"}], \"barpolar\": [{\"marker\": {\"line\": {\"color\": \"#E5ECF6\", \"width\": 0.5}}, \"type\": \"barpolar\"}], \"carpet\": [{\"aaxis\": {\"endlinecolor\": \"#2a3f5f\", \"gridcolor\": \"white\", \"linecolor\": \"white\", \"minorgridcolor\": \"white\", \"startlinecolor\": \"#2a3f5f\"}, \"baxis\": {\"endlinecolor\": \"#2a3f5f\", \"gridcolor\": \"white\", \"linecolor\": \"white\", \"minorgridcolor\": \"white\", \"startlinecolor\": \"#2a3f5f\"}, \"type\": \"carpet\"}], \"choropleth\": [{\"colorbar\": {\"outlinewidth\": 0, \"ticks\": \"\"}, \"type\": \"choropleth\"}], \"contour\": [{\"colorbar\": {\"outlinewidth\": 0, \"ticks\": \"\"}, \"colorscale\": [[0.0, \"#0d0887\"], [0.1111111111111111, \"#46039f\"], [0.2222222222222222, \"#7201a8\"], [0.3333333333333333, \"#9c179e\"], [0.4444444444444444, \"#bd3786\"], [0.5555555555555556, \"#d8576b\"], [0.6666666666666666, \"#ed7953\"], [0.7777777777777778, \"#fb9f3a\"], [0.8888888888888888, \"#fdca26\"], [1.0, \"#f0f921\"]], \"type\": \"contour\"}], \"contourcarpet\": [{\"colorbar\": {\"outlinewidth\": 0, \"ticks\": \"\"}, \"type\": \"contourcarpet\"}], \"heatmap\": [{\"colorbar\": {\"outlinewidth\": 0, \"ticks\": \"\"}, \"colorscale\": [[0.0, \"#0d0887\"], [0.1111111111111111, \"#46039f\"], [0.2222222222222222, \"#7201a8\"], [0.3333333333333333, \"#9c179e\"], [0.4444444444444444, \"#bd3786\"], [0.5555555555555556, \"#d8576b\"], [0.6666666666666666, \"#ed7953\"], [0.7777777777777778, \"#fb9f3a\"], [0.8888888888888888, \"#fdca26\"], [1.0, \"#f0f921\"]], \"type\": \"heatmap\"}], \"heatmapgl\": [{\"colorbar\": {\"outlinewidth\": 0, \"ticks\": \"\"}, \"colorscale\": [[0.0, \"#0d0887\"], [0.1111111111111111, \"#46039f\"], [0.2222222222222222, \"#7201a8\"], [0.3333333333333333, \"#9c179e\"], [0.4444444444444444, \"#bd3786\"], [0.5555555555555556, \"#d8576b\"], [0.6666666666666666, \"#ed7953\"], [0.7777777777777778, \"#fb9f3a\"], [0.8888888888888888, \"#fdca26\"], [1.0, \"#f0f921\"]], \"type\": \"heatmapgl\"}], \"histogram\": [{\"marker\": {\"colorbar\": {\"outlinewidth\": 0, \"ticks\": \"\"}}, \"type\": \"histogram\"}], \"histogram2d\": [{\"colorbar\": {\"outlinewidth\": 0, \"ticks\": \"\"}, \"colorscale\": [[0.0, \"#0d0887\"], [0.1111111111111111, \"#46039f\"], [0.2222222222222222, \"#7201a8\"], [0.3333333333333333, \"#9c179e\"], [0.4444444444444444, \"#bd3786\"], [0.5555555555555556, \"#d8576b\"], [0.6666666666666666, \"#ed7953\"], [0.7777777777777778, \"#fb9f3a\"], [0.8888888888888888, \"#fdca26\"], [1.0, \"#f0f921\"]], \"type\": \"histogram2d\"}], \"histogram2dcontour\": [{\"colorbar\": {\"outlinewidth\": 0, \"ticks\": \"\"}, \"colorscale\": [[0.0, \"#0d0887\"], [0.1111111111111111, \"#46039f\"], [0.2222222222222222, \"#7201a8\"], [0.3333333333333333, \"#9c179e\"], [0.4444444444444444, \"#bd3786\"], [0.5555555555555556, \"#d8576b\"], [0.6666666666666666, \"#ed7953\"], [0.7777777777777778, \"#fb9f3a\"], [0.8888888888888888, \"#fdca26\"], [1.0, \"#f0f921\"]], \"type\": \"histogram2dcontour\"}], \"mesh3d\": [{\"colorbar\": {\"outlinewidth\": 0, \"ticks\": \"\"}, \"type\": \"mesh3d\"}], \"parcoords\": [{\"line\": {\"colorbar\": {\"outlinewidth\": 0, \"ticks\": \"\"}}, \"type\": \"parcoords\"}], \"pie\": [{\"automargin\": true, \"type\": \"pie\"}], \"scatter\": [{\"marker\": {\"colorbar\": {\"outlinewidth\": 0, \"ticks\": \"\"}}, \"type\": \"scatter\"}], \"scatter3d\": [{\"line\": {\"colorbar\": {\"outlinewidth\": 0, \"ticks\": \"\"}}, \"marker\": {\"colorbar\": {\"outlinewidth\": 0, \"ticks\": \"\"}}, \"type\": \"scatter3d\"}], \"scattercarpet\": [{\"marker\": {\"colorbar\": {\"outlinewidth\": 0, \"ticks\": \"\"}}, \"type\": \"scattercarpet\"}], \"scattergeo\": [{\"marker\": {\"colorbar\": {\"outlinewidth\": 0, \"ticks\": \"\"}}, \"type\": \"scattergeo\"}], \"scattergl\": [{\"marker\": {\"colorbar\": {\"outlinewidth\": 0, \"ticks\": \"\"}}, \"type\": \"scattergl\"}], \"scattermapbox\": [{\"marker\": {\"colorbar\": {\"outlinewidth\": 0, \"ticks\": \"\"}}, \"type\": \"scattermapbox\"}], \"scatterpolar\": [{\"marker\": {\"colorbar\": {\"outlinewidth\": 0, \"ticks\": \"\"}}, \"type\": \"scatterpolar\"}], \"scatterpolargl\": [{\"marker\": {\"colorbar\": {\"outlinewidth\": 0, \"ticks\": \"\"}}, \"type\": \"scatterpolargl\"}], \"scatterternary\": [{\"marker\": {\"colorbar\": {\"outlinewidth\": 0, \"ticks\": \"\"}}, \"type\": \"scatterternary\"}], \"surface\": [{\"colorbar\": {\"outlinewidth\": 0, \"ticks\": \"\"}, \"colorscale\": [[0.0, \"#0d0887\"], [0.1111111111111111, \"#46039f\"], [0.2222222222222222, \"#7201a8\"], [0.3333333333333333, \"#9c179e\"], [0.4444444444444444, \"#bd3786\"], [0.5555555555555556, \"#d8576b\"], [0.6666666666666666, \"#ed7953\"], [0.7777777777777778, \"#fb9f3a\"], [0.8888888888888888, \"#fdca26\"], [1.0, \"#f0f921\"]], \"type\": \"surface\"}], \"table\": [{\"cells\": {\"fill\": {\"color\": \"#EBF0F8\"}, \"line\": {\"color\": \"white\"}}, \"header\": {\"fill\": {\"color\": \"#C8D4E3\"}, \"line\": {\"color\": \"white\"}}, \"type\": \"table\"}]}, \"layout\": {\"annotationdefaults\": {\"arrowcolor\": \"#2a3f5f\", \"arrowhead\": 0, \"arrowwidth\": 1}, \"coloraxis\": {\"colorbar\": {\"outlinewidth\": 0, \"ticks\": \"\"}}, \"colorscale\": {\"diverging\": [[0, \"#8e0152\"], [0.1, \"#c51b7d\"], [0.2, \"#de77ae\"], [0.3, \"#f1b6da\"], [0.4, \"#fde0ef\"], [0.5, \"#f7f7f7\"], [0.6, \"#e6f5d0\"], [0.7, \"#b8e186\"], [0.8, \"#7fbc41\"], [0.9, \"#4d9221\"], [1, \"#276419\"]], \"sequential\": [[0.0, \"#0d0887\"], [0.1111111111111111, \"#46039f\"], [0.2222222222222222, \"#7201a8\"], [0.3333333333333333, \"#9c179e\"], [0.4444444444444444, \"#bd3786\"], [0.5555555555555556, \"#d8576b\"], [0.6666666666666666, \"#ed7953\"], [0.7777777777777778, \"#fb9f3a\"], [0.8888888888888888, \"#fdca26\"], [1.0, \"#f0f921\"]], \"sequentialminus\": [[0.0, \"#0d0887\"], [0.1111111111111111, \"#46039f\"], [0.2222222222222222, \"#7201a8\"], [0.3333333333333333, \"#9c179e\"], [0.4444444444444444, \"#bd3786\"], [0.5555555555555556, \"#d8576b\"], [0.6666666666666666, \"#ed7953\"], [0.7777777777777778, \"#fb9f3a\"], [0.8888888888888888, \"#fdca26\"], [1.0, \"#f0f921\"]]}, \"colorway\": [\"#636efa\", \"#EF553B\", \"#00cc96\", \"#ab63fa\", \"#FFA15A\", \"#19d3f3\", \"#FF6692\", \"#B6E880\", \"#FF97FF\", \"#FECB52\"], \"font\": {\"color\": \"#2a3f5f\"}, \"geo\": {\"bgcolor\": \"white\", \"lakecolor\": \"white\", \"landcolor\": \"#E5ECF6\", \"showlakes\": true, \"showland\": true, \"subunitcolor\": \"white\"}, \"hoverlabel\": {\"align\": \"left\"}, \"hovermode\": \"closest\", \"mapbox\": {\"style\": \"light\"}, \"paper_bgcolor\": \"white\", \"plot_bgcolor\": \"#E5ECF6\", \"polar\": {\"angularaxis\": {\"gridcolor\": \"white\", \"linecolor\": \"white\", \"ticks\": \"\"}, \"bgcolor\": \"#E5ECF6\", \"radialaxis\": {\"gridcolor\": \"white\", \"linecolor\": \"white\", \"ticks\": \"\"}}, \"scene\": {\"xaxis\": {\"backgroundcolor\": \"#E5ECF6\", \"gridcolor\": \"white\", \"gridwidth\": 2, \"linecolor\": \"white\", \"showbackground\": true, \"ticks\": \"\", \"zerolinecolor\": \"white\"}, \"yaxis\": {\"backgroundcolor\": \"#E5ECF6\", \"gridcolor\": \"white\", \"gridwidth\": 2, \"linecolor\": \"white\", \"showbackground\": true, \"ticks\": \"\", \"zerolinecolor\": \"white\"}, \"zaxis\": {\"backgroundcolor\": \"#E5ECF6\", \"gridcolor\": \"white\", \"gridwidth\": 2, \"linecolor\": \"white\", \"showbackground\": true, \"ticks\": \"\", \"zerolinecolor\": \"white\"}}, \"shapedefaults\": {\"line\": {\"color\": \"#2a3f5f\"}}, \"ternary\": {\"aaxis\": {\"gridcolor\": \"white\", \"linecolor\": \"white\", \"ticks\": \"\"}, \"baxis\": {\"gridcolor\": \"white\", \"linecolor\": \"white\", \"ticks\": \"\"}, \"bgcolor\": \"#E5ECF6\", \"caxis\": {\"gridcolor\": \"white\", \"linecolor\": \"white\", \"ticks\": \"\"}}, \"title\": {\"x\": 0.05}, \"xaxis\": {\"automargin\": true, \"gridcolor\": \"white\", \"linecolor\": \"white\", \"ticks\": \"\", \"title\": {\"standoff\": 15}, \"zerolinecolor\": \"white\", \"zerolinewidth\": 2}, \"yaxis\": {\"automargin\": true, \"gridcolor\": \"white\", \"linecolor\": \"white\", \"ticks\": \"\", \"title\": {\"standoff\": 15}, \"zerolinecolor\": \"white\", \"zerolinewidth\": 2}}}, \"title\": {\"text\": \"Share of built-up in 1990 at different buffer levels\", \"x\": 0.5, \"xanchor\": \"center\", \"y\": 0.9, \"yanchor\": \"top\"}, \"xaxis\": {\"range\": [250, 2100], \"title\": {\"text\": \"Buffer Distance (in m)\"}}, \"yaxis\": {\"range\": [0, 100], \"title\": {\"text\": \"% Share of Built-up\"}}},\n",
       "                        {\"responsive\": true}\n",
       "                    ).then(function(){\n",
       "                            \n",
       "var gd = document.getElementById('16357f6a-bef5-4196-b053-0050283eeecc');\n",
       "var x = new MutationObserver(function (mutations, observer) {{\n",
       "        var display = window.getComputedStyle(gd).display;\n",
       "        if (!display || display === 'none') {{\n",
       "            console.log([gd, 'removed!']);\n",
       "            Plotly.purge(gd);\n",
       "            observer.disconnect();\n",
       "        }}\n",
       "}});\n",
       "\n",
       "// Listen for the removal of the full notebook cells\n",
       "var notebookContainer = gd.closest('#notebook-container');\n",
       "if (notebookContainer) {{\n",
       "    x.observe(notebookContainer, {childList: true});\n",
       "}}\n",
       "\n",
       "// Listen for the clearing of the current output cell\n",
       "var outputEl = gd.closest('.output');\n",
       "if (outputEl) {{\n",
       "    x.observe(outputEl, {childList: true});\n",
       "}}\n",
       "\n",
       "                        })\n",
       "                };\n",
       "                });\n",
       "            </script>\n",
       "        </div>"
      ]
     },
     "metadata": {},
     "output_type": "display_data"
    },
    {
     "data": {
      "application/vnd.plotly.v1+json": {
       "config": {
        "plotlyServerURL": "https://plot.ly"
       },
       "data": [
        {
         "hoverinfo": "text+name",
         "mode": "lines+markers",
         "name": "% Built-up for Accra",
         "text": [
          "89.24",
          "90.2",
          "81.28",
          "76.06"
         ],
         "type": "scatter",
         "x": [
          500,
          1000,
          1500,
          2000
         ],
         "y": [
          89.24,
          90.2,
          81.28,
          76.06
         ]
        },
        {
         "hoverinfo": "text+name",
         "mode": "lines+markers",
         "name": "% Built-up for Buenos Aires",
         "text": [
          "86.17",
          "89.29",
          "88.14",
          "87.98"
         ],
         "type": "scatter",
         "x": [
          500,
          1000,
          1500,
          2000
         ],
         "y": [
          86.17,
          89.29,
          88.14,
          87.98
         ]
        },
        {
         "hoverinfo": "text+name",
         "mode": "lines+markers",
         "name": "% Built-up for Paris",
         "text": [
          "90.91",
          "94.24",
          "92.21",
          "92.76"
         ],
         "type": "scatter",
         "x": [
          500,
          1000,
          1500,
          2000
         ],
         "y": [
          90.91,
          94.24,
          92.21,
          92.76
         ]
        },
        {
         "hoverinfo": "text+name",
         "mode": "lines+markers",
         "name": "% Built-up for Chicago",
         "text": [
          "89.18",
          "89.48",
          "86.86",
          "82.65"
         ],
         "type": "scatter",
         "x": [
          500,
          1000,
          1500,
          2000
         ],
         "y": [
          89.18,
          89.48,
          86.86,
          82.65
         ]
        },
        {
         "hoverinfo": "text+name",
         "mode": "lines+markers",
         "name": "% Built-up for Dhaka",
         "text": [
          "71.69",
          "81.36",
          "82.63",
          "73.75"
         ],
         "type": "scatter",
         "x": [
          500,
          1000,
          1500,
          2000
         ],
         "y": [
          71.69,
          81.36,
          82.63,
          73.75
         ]
        },
        {
         "hoverinfo": "text+name",
         "mode": "lines+markers",
         "name": "% Built-up for Shanghai",
         "text": [
          "35.28",
          "19.01",
          "20.5",
          "18.86"
         ],
         "type": "scatter",
         "x": [
          500,
          1000,
          1500,
          2000
         ],
         "y": [
          35.28,
          19.01,
          20.5,
          18.86
         ]
        }
       ],
       "layout": {
        "template": {
         "data": {
          "bar": [
           {
            "error_x": {
             "color": "#2a3f5f"
            },
            "error_y": {
             "color": "#2a3f5f"
            },
            "marker": {
             "line": {
              "color": "#E5ECF6",
              "width": 0.5
             }
            },
            "type": "bar"
           }
          ],
          "barpolar": [
           {
            "marker": {
             "line": {
              "color": "#E5ECF6",
              "width": 0.5
             }
            },
            "type": "barpolar"
           }
          ],
          "carpet": [
           {
            "aaxis": {
             "endlinecolor": "#2a3f5f",
             "gridcolor": "white",
             "linecolor": "white",
             "minorgridcolor": "white",
             "startlinecolor": "#2a3f5f"
            },
            "baxis": {
             "endlinecolor": "#2a3f5f",
             "gridcolor": "white",
             "linecolor": "white",
             "minorgridcolor": "white",
             "startlinecolor": "#2a3f5f"
            },
            "type": "carpet"
           }
          ],
          "choropleth": [
           {
            "colorbar": {
             "outlinewidth": 0,
             "ticks": ""
            },
            "type": "choropleth"
           }
          ],
          "contour": [
           {
            "colorbar": {
             "outlinewidth": 0,
             "ticks": ""
            },
            "colorscale": [
             [
              0,
              "#0d0887"
             ],
             [
              0.1111111111111111,
              "#46039f"
             ],
             [
              0.2222222222222222,
              "#7201a8"
             ],
             [
              0.3333333333333333,
              "#9c179e"
             ],
             [
              0.4444444444444444,
              "#bd3786"
             ],
             [
              0.5555555555555556,
              "#d8576b"
             ],
             [
              0.6666666666666666,
              "#ed7953"
             ],
             [
              0.7777777777777778,
              "#fb9f3a"
             ],
             [
              0.8888888888888888,
              "#fdca26"
             ],
             [
              1,
              "#f0f921"
             ]
            ],
            "type": "contour"
           }
          ],
          "contourcarpet": [
           {
            "colorbar": {
             "outlinewidth": 0,
             "ticks": ""
            },
            "type": "contourcarpet"
           }
          ],
          "heatmap": [
           {
            "colorbar": {
             "outlinewidth": 0,
             "ticks": ""
            },
            "colorscale": [
             [
              0,
              "#0d0887"
             ],
             [
              0.1111111111111111,
              "#46039f"
             ],
             [
              0.2222222222222222,
              "#7201a8"
             ],
             [
              0.3333333333333333,
              "#9c179e"
             ],
             [
              0.4444444444444444,
              "#bd3786"
             ],
             [
              0.5555555555555556,
              "#d8576b"
             ],
             [
              0.6666666666666666,
              "#ed7953"
             ],
             [
              0.7777777777777778,
              "#fb9f3a"
             ],
             [
              0.8888888888888888,
              "#fdca26"
             ],
             [
              1,
              "#f0f921"
             ]
            ],
            "type": "heatmap"
           }
          ],
          "heatmapgl": [
           {
            "colorbar": {
             "outlinewidth": 0,
             "ticks": ""
            },
            "colorscale": [
             [
              0,
              "#0d0887"
             ],
             [
              0.1111111111111111,
              "#46039f"
             ],
             [
              0.2222222222222222,
              "#7201a8"
             ],
             [
              0.3333333333333333,
              "#9c179e"
             ],
             [
              0.4444444444444444,
              "#bd3786"
             ],
             [
              0.5555555555555556,
              "#d8576b"
             ],
             [
              0.6666666666666666,
              "#ed7953"
             ],
             [
              0.7777777777777778,
              "#fb9f3a"
             ],
             [
              0.8888888888888888,
              "#fdca26"
             ],
             [
              1,
              "#f0f921"
             ]
            ],
            "type": "heatmapgl"
           }
          ],
          "histogram": [
           {
            "marker": {
             "colorbar": {
              "outlinewidth": 0,
              "ticks": ""
             }
            },
            "type": "histogram"
           }
          ],
          "histogram2d": [
           {
            "colorbar": {
             "outlinewidth": 0,
             "ticks": ""
            },
            "colorscale": [
             [
              0,
              "#0d0887"
             ],
             [
              0.1111111111111111,
              "#46039f"
             ],
             [
              0.2222222222222222,
              "#7201a8"
             ],
             [
              0.3333333333333333,
              "#9c179e"
             ],
             [
              0.4444444444444444,
              "#bd3786"
             ],
             [
              0.5555555555555556,
              "#d8576b"
             ],
             [
              0.6666666666666666,
              "#ed7953"
             ],
             [
              0.7777777777777778,
              "#fb9f3a"
             ],
             [
              0.8888888888888888,
              "#fdca26"
             ],
             [
              1,
              "#f0f921"
             ]
            ],
            "type": "histogram2d"
           }
          ],
          "histogram2dcontour": [
           {
            "colorbar": {
             "outlinewidth": 0,
             "ticks": ""
            },
            "colorscale": [
             [
              0,
              "#0d0887"
             ],
             [
              0.1111111111111111,
              "#46039f"
             ],
             [
              0.2222222222222222,
              "#7201a8"
             ],
             [
              0.3333333333333333,
              "#9c179e"
             ],
             [
              0.4444444444444444,
              "#bd3786"
             ],
             [
              0.5555555555555556,
              "#d8576b"
             ],
             [
              0.6666666666666666,
              "#ed7953"
             ],
             [
              0.7777777777777778,
              "#fb9f3a"
             ],
             [
              0.8888888888888888,
              "#fdca26"
             ],
             [
              1,
              "#f0f921"
             ]
            ],
            "type": "histogram2dcontour"
           }
          ],
          "mesh3d": [
           {
            "colorbar": {
             "outlinewidth": 0,
             "ticks": ""
            },
            "type": "mesh3d"
           }
          ],
          "parcoords": [
           {
            "line": {
             "colorbar": {
              "outlinewidth": 0,
              "ticks": ""
             }
            },
            "type": "parcoords"
           }
          ],
          "pie": [
           {
            "automargin": true,
            "type": "pie"
           }
          ],
          "scatter": [
           {
            "marker": {
             "colorbar": {
              "outlinewidth": 0,
              "ticks": ""
             }
            },
            "type": "scatter"
           }
          ],
          "scatter3d": [
           {
            "line": {
             "colorbar": {
              "outlinewidth": 0,
              "ticks": ""
             }
            },
            "marker": {
             "colorbar": {
              "outlinewidth": 0,
              "ticks": ""
             }
            },
            "type": "scatter3d"
           }
          ],
          "scattercarpet": [
           {
            "marker": {
             "colorbar": {
              "outlinewidth": 0,
              "ticks": ""
             }
            },
            "type": "scattercarpet"
           }
          ],
          "scattergeo": [
           {
            "marker": {
             "colorbar": {
              "outlinewidth": 0,
              "ticks": ""
             }
            },
            "type": "scattergeo"
           }
          ],
          "scattergl": [
           {
            "marker": {
             "colorbar": {
              "outlinewidth": 0,
              "ticks": ""
             }
            },
            "type": "scattergl"
           }
          ],
          "scattermapbox": [
           {
            "marker": {
             "colorbar": {
              "outlinewidth": 0,
              "ticks": ""
             }
            },
            "type": "scattermapbox"
           }
          ],
          "scatterpolar": [
           {
            "marker": {
             "colorbar": {
              "outlinewidth": 0,
              "ticks": ""
             }
            },
            "type": "scatterpolar"
           }
          ],
          "scatterpolargl": [
           {
            "marker": {
             "colorbar": {
              "outlinewidth": 0,
              "ticks": ""
             }
            },
            "type": "scatterpolargl"
           }
          ],
          "scatterternary": [
           {
            "marker": {
             "colorbar": {
              "outlinewidth": 0,
              "ticks": ""
             }
            },
            "type": "scatterternary"
           }
          ],
          "surface": [
           {
            "colorbar": {
             "outlinewidth": 0,
             "ticks": ""
            },
            "colorscale": [
             [
              0,
              "#0d0887"
             ],
             [
              0.1111111111111111,
              "#46039f"
             ],
             [
              0.2222222222222222,
              "#7201a8"
             ],
             [
              0.3333333333333333,
              "#9c179e"
             ],
             [
              0.4444444444444444,
              "#bd3786"
             ],
             [
              0.5555555555555556,
              "#d8576b"
             ],
             [
              0.6666666666666666,
              "#ed7953"
             ],
             [
              0.7777777777777778,
              "#fb9f3a"
             ],
             [
              0.8888888888888888,
              "#fdca26"
             ],
             [
              1,
              "#f0f921"
             ]
            ],
            "type": "surface"
           }
          ],
          "table": [
           {
            "cells": {
             "fill": {
              "color": "#EBF0F8"
             },
             "line": {
              "color": "white"
             }
            },
            "header": {
             "fill": {
              "color": "#C8D4E3"
             },
             "line": {
              "color": "white"
             }
            },
            "type": "table"
           }
          ]
         },
         "layout": {
          "annotationdefaults": {
           "arrowcolor": "#2a3f5f",
           "arrowhead": 0,
           "arrowwidth": 1
          },
          "coloraxis": {
           "colorbar": {
            "outlinewidth": 0,
            "ticks": ""
           }
          },
          "colorscale": {
           "diverging": [
            [
             0,
             "#8e0152"
            ],
            [
             0.1,
             "#c51b7d"
            ],
            [
             0.2,
             "#de77ae"
            ],
            [
             0.3,
             "#f1b6da"
            ],
            [
             0.4,
             "#fde0ef"
            ],
            [
             0.5,
             "#f7f7f7"
            ],
            [
             0.6,
             "#e6f5d0"
            ],
            [
             0.7,
             "#b8e186"
            ],
            [
             0.8,
             "#7fbc41"
            ],
            [
             0.9,
             "#4d9221"
            ],
            [
             1,
             "#276419"
            ]
           ],
           "sequential": [
            [
             0,
             "#0d0887"
            ],
            [
             0.1111111111111111,
             "#46039f"
            ],
            [
             0.2222222222222222,
             "#7201a8"
            ],
            [
             0.3333333333333333,
             "#9c179e"
            ],
            [
             0.4444444444444444,
             "#bd3786"
            ],
            [
             0.5555555555555556,
             "#d8576b"
            ],
            [
             0.6666666666666666,
             "#ed7953"
            ],
            [
             0.7777777777777778,
             "#fb9f3a"
            ],
            [
             0.8888888888888888,
             "#fdca26"
            ],
            [
             1,
             "#f0f921"
            ]
           ],
           "sequentialminus": [
            [
             0,
             "#0d0887"
            ],
            [
             0.1111111111111111,
             "#46039f"
            ],
            [
             0.2222222222222222,
             "#7201a8"
            ],
            [
             0.3333333333333333,
             "#9c179e"
            ],
            [
             0.4444444444444444,
             "#bd3786"
            ],
            [
             0.5555555555555556,
             "#d8576b"
            ],
            [
             0.6666666666666666,
             "#ed7953"
            ],
            [
             0.7777777777777778,
             "#fb9f3a"
            ],
            [
             0.8888888888888888,
             "#fdca26"
            ],
            [
             1,
             "#f0f921"
            ]
           ]
          },
          "colorway": [
           "#636efa",
           "#EF553B",
           "#00cc96",
           "#ab63fa",
           "#FFA15A",
           "#19d3f3",
           "#FF6692",
           "#B6E880",
           "#FF97FF",
           "#FECB52"
          ],
          "font": {
           "color": "#2a3f5f"
          },
          "geo": {
           "bgcolor": "white",
           "lakecolor": "white",
           "landcolor": "#E5ECF6",
           "showlakes": true,
           "showland": true,
           "subunitcolor": "white"
          },
          "hoverlabel": {
           "align": "left"
          },
          "hovermode": "closest",
          "mapbox": {
           "style": "light"
          },
          "paper_bgcolor": "white",
          "plot_bgcolor": "#E5ECF6",
          "polar": {
           "angularaxis": {
            "gridcolor": "white",
            "linecolor": "white",
            "ticks": ""
           },
           "bgcolor": "#E5ECF6",
           "radialaxis": {
            "gridcolor": "white",
            "linecolor": "white",
            "ticks": ""
           }
          },
          "scene": {
           "xaxis": {
            "backgroundcolor": "#E5ECF6",
            "gridcolor": "white",
            "gridwidth": 2,
            "linecolor": "white",
            "showbackground": true,
            "ticks": "",
            "zerolinecolor": "white"
           },
           "yaxis": {
            "backgroundcolor": "#E5ECF6",
            "gridcolor": "white",
            "gridwidth": 2,
            "linecolor": "white",
            "showbackground": true,
            "ticks": "",
            "zerolinecolor": "white"
           },
           "zaxis": {
            "backgroundcolor": "#E5ECF6",
            "gridcolor": "white",
            "gridwidth": 2,
            "linecolor": "white",
            "showbackground": true,
            "ticks": "",
            "zerolinecolor": "white"
           }
          },
          "shapedefaults": {
           "line": {
            "color": "#2a3f5f"
           }
          },
          "ternary": {
           "aaxis": {
            "gridcolor": "white",
            "linecolor": "white",
            "ticks": ""
           },
           "baxis": {
            "gridcolor": "white",
            "linecolor": "white",
            "ticks": ""
           },
           "bgcolor": "#E5ECF6",
           "caxis": {
            "gridcolor": "white",
            "linecolor": "white",
            "ticks": ""
           }
          },
          "title": {
           "x": 0.05
          },
          "xaxis": {
           "automargin": true,
           "gridcolor": "white",
           "linecolor": "white",
           "ticks": "",
           "title": {
            "standoff": 15
           },
           "zerolinecolor": "white",
           "zerolinewidth": 2
          },
          "yaxis": {
           "automargin": true,
           "gridcolor": "white",
           "linecolor": "white",
           "ticks": "",
           "title": {
            "standoff": 15
           },
           "zerolinecolor": "white",
           "zerolinewidth": 2
          }
         }
        },
        "title": {
         "text": "Share of built-up in 2000 at different buffer levels",
         "x": 0.5,
         "xanchor": "center",
         "y": 0.9,
         "yanchor": "top"
        },
        "xaxis": {
         "range": [
          250,
          2100
         ],
         "title": {
          "text": "Buffer Distance (in m)"
         }
        },
        "yaxis": {
         "range": [
          0,
          100
         ],
         "title": {
          "text": "% Share of Built-up"
         }
        }
       }
      },
      "text/html": [
       "<div>\n",
       "        \n",
       "        \n",
       "            <div id=\"a80e07fa-f98a-4cc4-b56d-2175a31754dd\" class=\"plotly-graph-div\" style=\"height:525px; width:100%;\"></div>\n",
       "            <script type=\"text/javascript\">\n",
       "                require([\"plotly\"], function(Plotly) {\n",
       "                    window.PLOTLYENV=window.PLOTLYENV || {};\n",
       "                    \n",
       "                if (document.getElementById(\"a80e07fa-f98a-4cc4-b56d-2175a31754dd\")) {\n",
       "                    Plotly.newPlot(\n",
       "                        'a80e07fa-f98a-4cc4-b56d-2175a31754dd',\n",
       "                        [{\"hoverinfo\": \"text+name\", \"mode\": \"lines+markers\", \"name\": \"% Built-up for Accra\", \"text\": [\"89.24\", \"90.2\", \"81.28\", \"76.06\"], \"type\": \"scatter\", \"x\": [500, 1000, 1500, 2000], \"y\": [89.24, 90.2, 81.28, 76.06]}, {\"hoverinfo\": \"text+name\", \"mode\": \"lines+markers\", \"name\": \"% Built-up for Buenos Aires\", \"text\": [\"86.17\", \"89.29\", \"88.14\", \"87.98\"], \"type\": \"scatter\", \"x\": [500, 1000, 1500, 2000], \"y\": [86.17, 89.29, 88.14, 87.98]}, {\"hoverinfo\": \"text+name\", \"mode\": \"lines+markers\", \"name\": \"% Built-up for Paris\", \"text\": [\"90.91\", \"94.24\", \"92.21\", \"92.76\"], \"type\": \"scatter\", \"x\": [500, 1000, 1500, 2000], \"y\": [90.91, 94.24, 92.21, 92.76]}, {\"hoverinfo\": \"text+name\", \"mode\": \"lines+markers\", \"name\": \"% Built-up for Chicago\", \"text\": [\"89.18\", \"89.48\", \"86.86\", \"82.65\"], \"type\": \"scatter\", \"x\": [500, 1000, 1500, 2000], \"y\": [89.18, 89.48, 86.86, 82.65]}, {\"hoverinfo\": \"text+name\", \"mode\": \"lines+markers\", \"name\": \"% Built-up for Dhaka\", \"text\": [\"71.69\", \"81.36\", \"82.63\", \"73.75\"], \"type\": \"scatter\", \"x\": [500, 1000, 1500, 2000], \"y\": [71.69, 81.36, 82.63, 73.75]}, {\"hoverinfo\": \"text+name\", \"mode\": \"lines+markers\", \"name\": \"% Built-up for Shanghai\", \"text\": [\"35.28\", \"19.01\", \"20.5\", \"18.86\"], \"type\": \"scatter\", \"x\": [500, 1000, 1500, 2000], \"y\": [35.28, 19.01, 20.5, 18.86]}],\n",
       "                        {\"template\": {\"data\": {\"bar\": [{\"error_x\": {\"color\": \"#2a3f5f\"}, \"error_y\": {\"color\": \"#2a3f5f\"}, \"marker\": {\"line\": {\"color\": \"#E5ECF6\", \"width\": 0.5}}, \"type\": \"bar\"}], \"barpolar\": [{\"marker\": {\"line\": {\"color\": \"#E5ECF6\", \"width\": 0.5}}, \"type\": \"barpolar\"}], \"carpet\": [{\"aaxis\": {\"endlinecolor\": \"#2a3f5f\", \"gridcolor\": \"white\", \"linecolor\": \"white\", \"minorgridcolor\": \"white\", \"startlinecolor\": \"#2a3f5f\"}, \"baxis\": {\"endlinecolor\": \"#2a3f5f\", \"gridcolor\": \"white\", \"linecolor\": \"white\", \"minorgridcolor\": \"white\", \"startlinecolor\": \"#2a3f5f\"}, \"type\": \"carpet\"}], \"choropleth\": [{\"colorbar\": {\"outlinewidth\": 0, \"ticks\": \"\"}, \"type\": \"choropleth\"}], \"contour\": [{\"colorbar\": {\"outlinewidth\": 0, \"ticks\": \"\"}, \"colorscale\": [[0.0, \"#0d0887\"], [0.1111111111111111, \"#46039f\"], [0.2222222222222222, \"#7201a8\"], [0.3333333333333333, \"#9c179e\"], [0.4444444444444444, \"#bd3786\"], [0.5555555555555556, \"#d8576b\"], [0.6666666666666666, \"#ed7953\"], [0.7777777777777778, \"#fb9f3a\"], [0.8888888888888888, \"#fdca26\"], [1.0, \"#f0f921\"]], \"type\": \"contour\"}], \"contourcarpet\": [{\"colorbar\": {\"outlinewidth\": 0, \"ticks\": \"\"}, \"type\": \"contourcarpet\"}], \"heatmap\": [{\"colorbar\": {\"outlinewidth\": 0, \"ticks\": \"\"}, \"colorscale\": [[0.0, \"#0d0887\"], [0.1111111111111111, \"#46039f\"], [0.2222222222222222, \"#7201a8\"], [0.3333333333333333, \"#9c179e\"], [0.4444444444444444, \"#bd3786\"], [0.5555555555555556, \"#d8576b\"], [0.6666666666666666, \"#ed7953\"], [0.7777777777777778, \"#fb9f3a\"], [0.8888888888888888, \"#fdca26\"], [1.0, \"#f0f921\"]], \"type\": \"heatmap\"}], \"heatmapgl\": [{\"colorbar\": {\"outlinewidth\": 0, \"ticks\": \"\"}, \"colorscale\": [[0.0, \"#0d0887\"], [0.1111111111111111, \"#46039f\"], [0.2222222222222222, \"#7201a8\"], [0.3333333333333333, \"#9c179e\"], [0.4444444444444444, \"#bd3786\"], [0.5555555555555556, \"#d8576b\"], [0.6666666666666666, \"#ed7953\"], [0.7777777777777778, \"#fb9f3a\"], [0.8888888888888888, \"#fdca26\"], [1.0, \"#f0f921\"]], \"type\": \"heatmapgl\"}], \"histogram\": [{\"marker\": {\"colorbar\": {\"outlinewidth\": 0, \"ticks\": \"\"}}, \"type\": \"histogram\"}], \"histogram2d\": [{\"colorbar\": {\"outlinewidth\": 0, \"ticks\": \"\"}, \"colorscale\": [[0.0, \"#0d0887\"], [0.1111111111111111, \"#46039f\"], [0.2222222222222222, \"#7201a8\"], [0.3333333333333333, \"#9c179e\"], [0.4444444444444444, \"#bd3786\"], [0.5555555555555556, \"#d8576b\"], [0.6666666666666666, \"#ed7953\"], [0.7777777777777778, \"#fb9f3a\"], [0.8888888888888888, \"#fdca26\"], [1.0, \"#f0f921\"]], \"type\": \"histogram2d\"}], \"histogram2dcontour\": [{\"colorbar\": {\"outlinewidth\": 0, \"ticks\": \"\"}, \"colorscale\": [[0.0, \"#0d0887\"], [0.1111111111111111, \"#46039f\"], [0.2222222222222222, \"#7201a8\"], [0.3333333333333333, \"#9c179e\"], [0.4444444444444444, \"#bd3786\"], [0.5555555555555556, \"#d8576b\"], [0.6666666666666666, \"#ed7953\"], [0.7777777777777778, \"#fb9f3a\"], [0.8888888888888888, \"#fdca26\"], [1.0, \"#f0f921\"]], \"type\": \"histogram2dcontour\"}], \"mesh3d\": [{\"colorbar\": {\"outlinewidth\": 0, \"ticks\": \"\"}, \"type\": \"mesh3d\"}], \"parcoords\": [{\"line\": {\"colorbar\": {\"outlinewidth\": 0, \"ticks\": \"\"}}, \"type\": \"parcoords\"}], \"pie\": [{\"automargin\": true, \"type\": \"pie\"}], \"scatter\": [{\"marker\": {\"colorbar\": {\"outlinewidth\": 0, \"ticks\": \"\"}}, \"type\": \"scatter\"}], \"scatter3d\": [{\"line\": {\"colorbar\": {\"outlinewidth\": 0, \"ticks\": \"\"}}, \"marker\": {\"colorbar\": {\"outlinewidth\": 0, \"ticks\": \"\"}}, \"type\": \"scatter3d\"}], \"scattercarpet\": [{\"marker\": {\"colorbar\": {\"outlinewidth\": 0, \"ticks\": \"\"}}, \"type\": \"scattercarpet\"}], \"scattergeo\": [{\"marker\": {\"colorbar\": {\"outlinewidth\": 0, \"ticks\": \"\"}}, \"type\": \"scattergeo\"}], \"scattergl\": [{\"marker\": {\"colorbar\": {\"outlinewidth\": 0, \"ticks\": \"\"}}, \"type\": \"scattergl\"}], \"scattermapbox\": [{\"marker\": {\"colorbar\": {\"outlinewidth\": 0, \"ticks\": \"\"}}, \"type\": \"scattermapbox\"}], \"scatterpolar\": [{\"marker\": {\"colorbar\": {\"outlinewidth\": 0, \"ticks\": \"\"}}, \"type\": \"scatterpolar\"}], \"scatterpolargl\": [{\"marker\": {\"colorbar\": {\"outlinewidth\": 0, \"ticks\": \"\"}}, \"type\": \"scatterpolargl\"}], \"scatterternary\": [{\"marker\": {\"colorbar\": {\"outlinewidth\": 0, \"ticks\": \"\"}}, \"type\": \"scatterternary\"}], \"surface\": [{\"colorbar\": {\"outlinewidth\": 0, \"ticks\": \"\"}, \"colorscale\": [[0.0, \"#0d0887\"], [0.1111111111111111, \"#46039f\"], [0.2222222222222222, \"#7201a8\"], [0.3333333333333333, \"#9c179e\"], [0.4444444444444444, \"#bd3786\"], [0.5555555555555556, \"#d8576b\"], [0.6666666666666666, \"#ed7953\"], [0.7777777777777778, \"#fb9f3a\"], [0.8888888888888888, \"#fdca26\"], [1.0, \"#f0f921\"]], \"type\": \"surface\"}], \"table\": [{\"cells\": {\"fill\": {\"color\": \"#EBF0F8\"}, \"line\": {\"color\": \"white\"}}, \"header\": {\"fill\": {\"color\": \"#C8D4E3\"}, \"line\": {\"color\": \"white\"}}, \"type\": \"table\"}]}, \"layout\": {\"annotationdefaults\": {\"arrowcolor\": \"#2a3f5f\", \"arrowhead\": 0, \"arrowwidth\": 1}, \"coloraxis\": {\"colorbar\": {\"outlinewidth\": 0, \"ticks\": \"\"}}, \"colorscale\": {\"diverging\": [[0, \"#8e0152\"], [0.1, \"#c51b7d\"], [0.2, \"#de77ae\"], [0.3, \"#f1b6da\"], [0.4, \"#fde0ef\"], [0.5, \"#f7f7f7\"], [0.6, \"#e6f5d0\"], [0.7, \"#b8e186\"], [0.8, \"#7fbc41\"], [0.9, \"#4d9221\"], [1, \"#276419\"]], \"sequential\": [[0.0, \"#0d0887\"], [0.1111111111111111, \"#46039f\"], [0.2222222222222222, \"#7201a8\"], [0.3333333333333333, \"#9c179e\"], [0.4444444444444444, \"#bd3786\"], [0.5555555555555556, \"#d8576b\"], [0.6666666666666666, \"#ed7953\"], [0.7777777777777778, \"#fb9f3a\"], [0.8888888888888888, \"#fdca26\"], [1.0, \"#f0f921\"]], \"sequentialminus\": [[0.0, \"#0d0887\"], [0.1111111111111111, \"#46039f\"], [0.2222222222222222, \"#7201a8\"], [0.3333333333333333, \"#9c179e\"], [0.4444444444444444, \"#bd3786\"], [0.5555555555555556, \"#d8576b\"], [0.6666666666666666, \"#ed7953\"], [0.7777777777777778, \"#fb9f3a\"], [0.8888888888888888, \"#fdca26\"], [1.0, \"#f0f921\"]]}, \"colorway\": [\"#636efa\", \"#EF553B\", \"#00cc96\", \"#ab63fa\", \"#FFA15A\", \"#19d3f3\", \"#FF6692\", \"#B6E880\", \"#FF97FF\", \"#FECB52\"], \"font\": {\"color\": \"#2a3f5f\"}, \"geo\": {\"bgcolor\": \"white\", \"lakecolor\": \"white\", \"landcolor\": \"#E5ECF6\", \"showlakes\": true, \"showland\": true, \"subunitcolor\": \"white\"}, \"hoverlabel\": {\"align\": \"left\"}, \"hovermode\": \"closest\", \"mapbox\": {\"style\": \"light\"}, \"paper_bgcolor\": \"white\", \"plot_bgcolor\": \"#E5ECF6\", \"polar\": {\"angularaxis\": {\"gridcolor\": \"white\", \"linecolor\": \"white\", \"ticks\": \"\"}, \"bgcolor\": \"#E5ECF6\", \"radialaxis\": {\"gridcolor\": \"white\", \"linecolor\": \"white\", \"ticks\": \"\"}}, \"scene\": {\"xaxis\": {\"backgroundcolor\": \"#E5ECF6\", \"gridcolor\": \"white\", \"gridwidth\": 2, \"linecolor\": \"white\", \"showbackground\": true, \"ticks\": \"\", \"zerolinecolor\": \"white\"}, \"yaxis\": {\"backgroundcolor\": \"#E5ECF6\", \"gridcolor\": \"white\", \"gridwidth\": 2, \"linecolor\": \"white\", \"showbackground\": true, \"ticks\": \"\", \"zerolinecolor\": \"white\"}, \"zaxis\": {\"backgroundcolor\": \"#E5ECF6\", \"gridcolor\": \"white\", \"gridwidth\": 2, \"linecolor\": \"white\", \"showbackground\": true, \"ticks\": \"\", \"zerolinecolor\": \"white\"}}, \"shapedefaults\": {\"line\": {\"color\": \"#2a3f5f\"}}, \"ternary\": {\"aaxis\": {\"gridcolor\": \"white\", \"linecolor\": \"white\", \"ticks\": \"\"}, \"baxis\": {\"gridcolor\": \"white\", \"linecolor\": \"white\", \"ticks\": \"\"}, \"bgcolor\": \"#E5ECF6\", \"caxis\": {\"gridcolor\": \"white\", \"linecolor\": \"white\", \"ticks\": \"\"}}, \"title\": {\"x\": 0.05}, \"xaxis\": {\"automargin\": true, \"gridcolor\": \"white\", \"linecolor\": \"white\", \"ticks\": \"\", \"title\": {\"standoff\": 15}, \"zerolinecolor\": \"white\", \"zerolinewidth\": 2}, \"yaxis\": {\"automargin\": true, \"gridcolor\": \"white\", \"linecolor\": \"white\", \"ticks\": \"\", \"title\": {\"standoff\": 15}, \"zerolinecolor\": \"white\", \"zerolinewidth\": 2}}}, \"title\": {\"text\": \"Share of built-up in 2000 at different buffer levels\", \"x\": 0.5, \"xanchor\": \"center\", \"y\": 0.9, \"yanchor\": \"top\"}, \"xaxis\": {\"range\": [250, 2100], \"title\": {\"text\": \"Buffer Distance (in m)\"}}, \"yaxis\": {\"range\": [0, 100], \"title\": {\"text\": \"% Share of Built-up\"}}},\n",
       "                        {\"responsive\": true}\n",
       "                    ).then(function(){\n",
       "                            \n",
       "var gd = document.getElementById('a80e07fa-f98a-4cc4-b56d-2175a31754dd');\n",
       "var x = new MutationObserver(function (mutations, observer) {{\n",
       "        var display = window.getComputedStyle(gd).display;\n",
       "        if (!display || display === 'none') {{\n",
       "            console.log([gd, 'removed!']);\n",
       "            Plotly.purge(gd);\n",
       "            observer.disconnect();\n",
       "        }}\n",
       "}});\n",
       "\n",
       "// Listen for the removal of the full notebook cells\n",
       "var notebookContainer = gd.closest('#notebook-container');\n",
       "if (notebookContainer) {{\n",
       "    x.observe(notebookContainer, {childList: true});\n",
       "}}\n",
       "\n",
       "// Listen for the clearing of the current output cell\n",
       "var outputEl = gd.closest('.output');\n",
       "if (outputEl) {{\n",
       "    x.observe(outputEl, {childList: true});\n",
       "}}\n",
       "\n",
       "                        })\n",
       "                };\n",
       "                });\n",
       "            </script>\n",
       "        </div>"
      ]
     },
     "metadata": {},
     "output_type": "display_data"
    },
    {
     "data": {
      "application/vnd.plotly.v1+json": {
       "config": {
        "plotlyServerURL": "https://plot.ly"
       },
       "data": [
        {
         "hoverinfo": "text+name",
         "mode": "lines+markers",
         "name": "% Built-up for Accra",
         "text": [
          "89.24",
          "90.2",
          "81.28",
          "76.08"
         ],
         "type": "scatter",
         "x": [
          500,
          1000,
          1500,
          2000
         ],
         "y": [
          89.24,
          90.2,
          81.28,
          76.08
         ]
        },
        {
         "hoverinfo": "text+name",
         "mode": "lines+markers",
         "name": "% Built-up for Buenos Aires",
         "text": [
          "86.64",
          "89.74",
          "89.77",
          "90.4"
         ],
         "type": "scatter",
         "x": [
          500,
          1000,
          1500,
          2000
         ],
         "y": [
          86.64,
          89.74,
          89.77,
          90.4
         ]
        },
        {
         "hoverinfo": "text+name",
         "mode": "lines+markers",
         "name": "% Built-up for Paris",
         "text": [
          "90.96",
          "94.43",
          "92.48",
          "92.98"
         ],
         "type": "scatter",
         "x": [
          500,
          1000,
          1500,
          2000
         ],
         "y": [
          90.96,
          94.43,
          92.48,
          92.98
         ]
        },
        {
         "hoverinfo": "text+name",
         "mode": "lines+markers",
         "name": "% Built-up for Chicago",
         "text": [
          "90.42",
          "90.07",
          "88.43",
          "84.63"
         ],
         "type": "scatter",
         "x": [
          500,
          1000,
          1500,
          2000
         ],
         "y": [
          90.42,
          90.07,
          88.43,
          84.63
         ]
        },
        {
         "hoverinfo": "text+name",
         "mode": "lines+markers",
         "name": "% Built-up for Dhaka",
         "text": [
          "71.74",
          "81.63",
          "84.09",
          "76.45"
         ],
         "type": "scatter",
         "x": [
          500,
          1000,
          1500,
          2000
         ],
         "y": [
          71.74,
          81.63,
          84.09,
          76.45
         ]
        },
        {
         "hoverinfo": "text+name",
         "mode": "lines+markers",
         "name": "% Built-up for Shanghai",
         "text": [
          "47.06",
          "30.57",
          "32.14",
          "32.0"
         ],
         "type": "scatter",
         "x": [
          500,
          1000,
          1500,
          2000
         ],
         "y": [
          47.06,
          30.57,
          32.14,
          32
         ]
        }
       ],
       "layout": {
        "template": {
         "data": {
          "bar": [
           {
            "error_x": {
             "color": "#2a3f5f"
            },
            "error_y": {
             "color": "#2a3f5f"
            },
            "marker": {
             "line": {
              "color": "#E5ECF6",
              "width": 0.5
             }
            },
            "type": "bar"
           }
          ],
          "barpolar": [
           {
            "marker": {
             "line": {
              "color": "#E5ECF6",
              "width": 0.5
             }
            },
            "type": "barpolar"
           }
          ],
          "carpet": [
           {
            "aaxis": {
             "endlinecolor": "#2a3f5f",
             "gridcolor": "white",
             "linecolor": "white",
             "minorgridcolor": "white",
             "startlinecolor": "#2a3f5f"
            },
            "baxis": {
             "endlinecolor": "#2a3f5f",
             "gridcolor": "white",
             "linecolor": "white",
             "minorgridcolor": "white",
             "startlinecolor": "#2a3f5f"
            },
            "type": "carpet"
           }
          ],
          "choropleth": [
           {
            "colorbar": {
             "outlinewidth": 0,
             "ticks": ""
            },
            "type": "choropleth"
           }
          ],
          "contour": [
           {
            "colorbar": {
             "outlinewidth": 0,
             "ticks": ""
            },
            "colorscale": [
             [
              0,
              "#0d0887"
             ],
             [
              0.1111111111111111,
              "#46039f"
             ],
             [
              0.2222222222222222,
              "#7201a8"
             ],
             [
              0.3333333333333333,
              "#9c179e"
             ],
             [
              0.4444444444444444,
              "#bd3786"
             ],
             [
              0.5555555555555556,
              "#d8576b"
             ],
             [
              0.6666666666666666,
              "#ed7953"
             ],
             [
              0.7777777777777778,
              "#fb9f3a"
             ],
             [
              0.8888888888888888,
              "#fdca26"
             ],
             [
              1,
              "#f0f921"
             ]
            ],
            "type": "contour"
           }
          ],
          "contourcarpet": [
           {
            "colorbar": {
             "outlinewidth": 0,
             "ticks": ""
            },
            "type": "contourcarpet"
           }
          ],
          "heatmap": [
           {
            "colorbar": {
             "outlinewidth": 0,
             "ticks": ""
            },
            "colorscale": [
             [
              0,
              "#0d0887"
             ],
             [
              0.1111111111111111,
              "#46039f"
             ],
             [
              0.2222222222222222,
              "#7201a8"
             ],
             [
              0.3333333333333333,
              "#9c179e"
             ],
             [
              0.4444444444444444,
              "#bd3786"
             ],
             [
              0.5555555555555556,
              "#d8576b"
             ],
             [
              0.6666666666666666,
              "#ed7953"
             ],
             [
              0.7777777777777778,
              "#fb9f3a"
             ],
             [
              0.8888888888888888,
              "#fdca26"
             ],
             [
              1,
              "#f0f921"
             ]
            ],
            "type": "heatmap"
           }
          ],
          "heatmapgl": [
           {
            "colorbar": {
             "outlinewidth": 0,
             "ticks": ""
            },
            "colorscale": [
             [
              0,
              "#0d0887"
             ],
             [
              0.1111111111111111,
              "#46039f"
             ],
             [
              0.2222222222222222,
              "#7201a8"
             ],
             [
              0.3333333333333333,
              "#9c179e"
             ],
             [
              0.4444444444444444,
              "#bd3786"
             ],
             [
              0.5555555555555556,
              "#d8576b"
             ],
             [
              0.6666666666666666,
              "#ed7953"
             ],
             [
              0.7777777777777778,
              "#fb9f3a"
             ],
             [
              0.8888888888888888,
              "#fdca26"
             ],
             [
              1,
              "#f0f921"
             ]
            ],
            "type": "heatmapgl"
           }
          ],
          "histogram": [
           {
            "marker": {
             "colorbar": {
              "outlinewidth": 0,
              "ticks": ""
             }
            },
            "type": "histogram"
           }
          ],
          "histogram2d": [
           {
            "colorbar": {
             "outlinewidth": 0,
             "ticks": ""
            },
            "colorscale": [
             [
              0,
              "#0d0887"
             ],
             [
              0.1111111111111111,
              "#46039f"
             ],
             [
              0.2222222222222222,
              "#7201a8"
             ],
             [
              0.3333333333333333,
              "#9c179e"
             ],
             [
              0.4444444444444444,
              "#bd3786"
             ],
             [
              0.5555555555555556,
              "#d8576b"
             ],
             [
              0.6666666666666666,
              "#ed7953"
             ],
             [
              0.7777777777777778,
              "#fb9f3a"
             ],
             [
              0.8888888888888888,
              "#fdca26"
             ],
             [
              1,
              "#f0f921"
             ]
            ],
            "type": "histogram2d"
           }
          ],
          "histogram2dcontour": [
           {
            "colorbar": {
             "outlinewidth": 0,
             "ticks": ""
            },
            "colorscale": [
             [
              0,
              "#0d0887"
             ],
             [
              0.1111111111111111,
              "#46039f"
             ],
             [
              0.2222222222222222,
              "#7201a8"
             ],
             [
              0.3333333333333333,
              "#9c179e"
             ],
             [
              0.4444444444444444,
              "#bd3786"
             ],
             [
              0.5555555555555556,
              "#d8576b"
             ],
             [
              0.6666666666666666,
              "#ed7953"
             ],
             [
              0.7777777777777778,
              "#fb9f3a"
             ],
             [
              0.8888888888888888,
              "#fdca26"
             ],
             [
              1,
              "#f0f921"
             ]
            ],
            "type": "histogram2dcontour"
           }
          ],
          "mesh3d": [
           {
            "colorbar": {
             "outlinewidth": 0,
             "ticks": ""
            },
            "type": "mesh3d"
           }
          ],
          "parcoords": [
           {
            "line": {
             "colorbar": {
              "outlinewidth": 0,
              "ticks": ""
             }
            },
            "type": "parcoords"
           }
          ],
          "pie": [
           {
            "automargin": true,
            "type": "pie"
           }
          ],
          "scatter": [
           {
            "marker": {
             "colorbar": {
              "outlinewidth": 0,
              "ticks": ""
             }
            },
            "type": "scatter"
           }
          ],
          "scatter3d": [
           {
            "line": {
             "colorbar": {
              "outlinewidth": 0,
              "ticks": ""
             }
            },
            "marker": {
             "colorbar": {
              "outlinewidth": 0,
              "ticks": ""
             }
            },
            "type": "scatter3d"
           }
          ],
          "scattercarpet": [
           {
            "marker": {
             "colorbar": {
              "outlinewidth": 0,
              "ticks": ""
             }
            },
            "type": "scattercarpet"
           }
          ],
          "scattergeo": [
           {
            "marker": {
             "colorbar": {
              "outlinewidth": 0,
              "ticks": ""
             }
            },
            "type": "scattergeo"
           }
          ],
          "scattergl": [
           {
            "marker": {
             "colorbar": {
              "outlinewidth": 0,
              "ticks": ""
             }
            },
            "type": "scattergl"
           }
          ],
          "scattermapbox": [
           {
            "marker": {
             "colorbar": {
              "outlinewidth": 0,
              "ticks": ""
             }
            },
            "type": "scattermapbox"
           }
          ],
          "scatterpolar": [
           {
            "marker": {
             "colorbar": {
              "outlinewidth": 0,
              "ticks": ""
             }
            },
            "type": "scatterpolar"
           }
          ],
          "scatterpolargl": [
           {
            "marker": {
             "colorbar": {
              "outlinewidth": 0,
              "ticks": ""
             }
            },
            "type": "scatterpolargl"
           }
          ],
          "scatterternary": [
           {
            "marker": {
             "colorbar": {
              "outlinewidth": 0,
              "ticks": ""
             }
            },
            "type": "scatterternary"
           }
          ],
          "surface": [
           {
            "colorbar": {
             "outlinewidth": 0,
             "ticks": ""
            },
            "colorscale": [
             [
              0,
              "#0d0887"
             ],
             [
              0.1111111111111111,
              "#46039f"
             ],
             [
              0.2222222222222222,
              "#7201a8"
             ],
             [
              0.3333333333333333,
              "#9c179e"
             ],
             [
              0.4444444444444444,
              "#bd3786"
             ],
             [
              0.5555555555555556,
              "#d8576b"
             ],
             [
              0.6666666666666666,
              "#ed7953"
             ],
             [
              0.7777777777777778,
              "#fb9f3a"
             ],
             [
              0.8888888888888888,
              "#fdca26"
             ],
             [
              1,
              "#f0f921"
             ]
            ],
            "type": "surface"
           }
          ],
          "table": [
           {
            "cells": {
             "fill": {
              "color": "#EBF0F8"
             },
             "line": {
              "color": "white"
             }
            },
            "header": {
             "fill": {
              "color": "#C8D4E3"
             },
             "line": {
              "color": "white"
             }
            },
            "type": "table"
           }
          ]
         },
         "layout": {
          "annotationdefaults": {
           "arrowcolor": "#2a3f5f",
           "arrowhead": 0,
           "arrowwidth": 1
          },
          "coloraxis": {
           "colorbar": {
            "outlinewidth": 0,
            "ticks": ""
           }
          },
          "colorscale": {
           "diverging": [
            [
             0,
             "#8e0152"
            ],
            [
             0.1,
             "#c51b7d"
            ],
            [
             0.2,
             "#de77ae"
            ],
            [
             0.3,
             "#f1b6da"
            ],
            [
             0.4,
             "#fde0ef"
            ],
            [
             0.5,
             "#f7f7f7"
            ],
            [
             0.6,
             "#e6f5d0"
            ],
            [
             0.7,
             "#b8e186"
            ],
            [
             0.8,
             "#7fbc41"
            ],
            [
             0.9,
             "#4d9221"
            ],
            [
             1,
             "#276419"
            ]
           ],
           "sequential": [
            [
             0,
             "#0d0887"
            ],
            [
             0.1111111111111111,
             "#46039f"
            ],
            [
             0.2222222222222222,
             "#7201a8"
            ],
            [
             0.3333333333333333,
             "#9c179e"
            ],
            [
             0.4444444444444444,
             "#bd3786"
            ],
            [
             0.5555555555555556,
             "#d8576b"
            ],
            [
             0.6666666666666666,
             "#ed7953"
            ],
            [
             0.7777777777777778,
             "#fb9f3a"
            ],
            [
             0.8888888888888888,
             "#fdca26"
            ],
            [
             1,
             "#f0f921"
            ]
           ],
           "sequentialminus": [
            [
             0,
             "#0d0887"
            ],
            [
             0.1111111111111111,
             "#46039f"
            ],
            [
             0.2222222222222222,
             "#7201a8"
            ],
            [
             0.3333333333333333,
             "#9c179e"
            ],
            [
             0.4444444444444444,
             "#bd3786"
            ],
            [
             0.5555555555555556,
             "#d8576b"
            ],
            [
             0.6666666666666666,
             "#ed7953"
            ],
            [
             0.7777777777777778,
             "#fb9f3a"
            ],
            [
             0.8888888888888888,
             "#fdca26"
            ],
            [
             1,
             "#f0f921"
            ]
           ]
          },
          "colorway": [
           "#636efa",
           "#EF553B",
           "#00cc96",
           "#ab63fa",
           "#FFA15A",
           "#19d3f3",
           "#FF6692",
           "#B6E880",
           "#FF97FF",
           "#FECB52"
          ],
          "font": {
           "color": "#2a3f5f"
          },
          "geo": {
           "bgcolor": "white",
           "lakecolor": "white",
           "landcolor": "#E5ECF6",
           "showlakes": true,
           "showland": true,
           "subunitcolor": "white"
          },
          "hoverlabel": {
           "align": "left"
          },
          "hovermode": "closest",
          "mapbox": {
           "style": "light"
          },
          "paper_bgcolor": "white",
          "plot_bgcolor": "#E5ECF6",
          "polar": {
           "angularaxis": {
            "gridcolor": "white",
            "linecolor": "white",
            "ticks": ""
           },
           "bgcolor": "#E5ECF6",
           "radialaxis": {
            "gridcolor": "white",
            "linecolor": "white",
            "ticks": ""
           }
          },
          "scene": {
           "xaxis": {
            "backgroundcolor": "#E5ECF6",
            "gridcolor": "white",
            "gridwidth": 2,
            "linecolor": "white",
            "showbackground": true,
            "ticks": "",
            "zerolinecolor": "white"
           },
           "yaxis": {
            "backgroundcolor": "#E5ECF6",
            "gridcolor": "white",
            "gridwidth": 2,
            "linecolor": "white",
            "showbackground": true,
            "ticks": "",
            "zerolinecolor": "white"
           },
           "zaxis": {
            "backgroundcolor": "#E5ECF6",
            "gridcolor": "white",
            "gridwidth": 2,
            "linecolor": "white",
            "showbackground": true,
            "ticks": "",
            "zerolinecolor": "white"
           }
          },
          "shapedefaults": {
           "line": {
            "color": "#2a3f5f"
           }
          },
          "ternary": {
           "aaxis": {
            "gridcolor": "white",
            "linecolor": "white",
            "ticks": ""
           },
           "baxis": {
            "gridcolor": "white",
            "linecolor": "white",
            "ticks": ""
           },
           "bgcolor": "#E5ECF6",
           "caxis": {
            "gridcolor": "white",
            "linecolor": "white",
            "ticks": ""
           }
          },
          "title": {
           "x": 0.05
          },
          "xaxis": {
           "automargin": true,
           "gridcolor": "white",
           "linecolor": "white",
           "ticks": "",
           "title": {
            "standoff": 15
           },
           "zerolinecolor": "white",
           "zerolinewidth": 2
          },
          "yaxis": {
           "automargin": true,
           "gridcolor": "white",
           "linecolor": "white",
           "ticks": "",
           "title": {
            "standoff": 15
           },
           "zerolinecolor": "white",
           "zerolinewidth": 2
          }
         }
        },
        "title": {
         "text": "Share of built-up in 2014 at different buffer levels",
         "x": 0.5,
         "xanchor": "center",
         "y": 0.9,
         "yanchor": "top"
        },
        "xaxis": {
         "range": [
          250,
          2100
         ],
         "title": {
          "text": "Buffer Distance (in m)"
         }
        },
        "yaxis": {
         "range": [
          0,
          100
         ],
         "title": {
          "text": "% Share of Built-up"
         }
        }
       }
      },
      "text/html": [
       "<div>\n",
       "        \n",
       "        \n",
       "            <div id=\"e726b638-03ed-4863-abf5-becffccb5bdd\" class=\"plotly-graph-div\" style=\"height:525px; width:100%;\"></div>\n",
       "            <script type=\"text/javascript\">\n",
       "                require([\"plotly\"], function(Plotly) {\n",
       "                    window.PLOTLYENV=window.PLOTLYENV || {};\n",
       "                    \n",
       "                if (document.getElementById(\"e726b638-03ed-4863-abf5-becffccb5bdd\")) {\n",
       "                    Plotly.newPlot(\n",
       "                        'e726b638-03ed-4863-abf5-becffccb5bdd',\n",
       "                        [{\"hoverinfo\": \"text+name\", \"mode\": \"lines+markers\", \"name\": \"% Built-up for Accra\", \"text\": [\"89.24\", \"90.2\", \"81.28\", \"76.08\"], \"type\": \"scatter\", \"x\": [500, 1000, 1500, 2000], \"y\": [89.24, 90.2, 81.28, 76.08]}, {\"hoverinfo\": \"text+name\", \"mode\": \"lines+markers\", \"name\": \"% Built-up for Buenos Aires\", \"text\": [\"86.64\", \"89.74\", \"89.77\", \"90.4\"], \"type\": \"scatter\", \"x\": [500, 1000, 1500, 2000], \"y\": [86.64, 89.74, 89.77, 90.4]}, {\"hoverinfo\": \"text+name\", \"mode\": \"lines+markers\", \"name\": \"% Built-up for Paris\", \"text\": [\"90.96\", \"94.43\", \"92.48\", \"92.98\"], \"type\": \"scatter\", \"x\": [500, 1000, 1500, 2000], \"y\": [90.96, 94.43, 92.48, 92.98]}, {\"hoverinfo\": \"text+name\", \"mode\": \"lines+markers\", \"name\": \"% Built-up for Chicago\", \"text\": [\"90.42\", \"90.07\", \"88.43\", \"84.63\"], \"type\": \"scatter\", \"x\": [500, 1000, 1500, 2000], \"y\": [90.42, 90.07, 88.43, 84.63]}, {\"hoverinfo\": \"text+name\", \"mode\": \"lines+markers\", \"name\": \"% Built-up for Dhaka\", \"text\": [\"71.74\", \"81.63\", \"84.09\", \"76.45\"], \"type\": \"scatter\", \"x\": [500, 1000, 1500, 2000], \"y\": [71.74, 81.63, 84.09, 76.45]}, {\"hoverinfo\": \"text+name\", \"mode\": \"lines+markers\", \"name\": \"% Built-up for Shanghai\", \"text\": [\"47.06\", \"30.57\", \"32.14\", \"32.0\"], \"type\": \"scatter\", \"x\": [500, 1000, 1500, 2000], \"y\": [47.06, 30.57, 32.14, 32.0]}],\n",
       "                        {\"template\": {\"data\": {\"bar\": [{\"error_x\": {\"color\": \"#2a3f5f\"}, \"error_y\": {\"color\": \"#2a3f5f\"}, \"marker\": {\"line\": {\"color\": \"#E5ECF6\", \"width\": 0.5}}, \"type\": \"bar\"}], \"barpolar\": [{\"marker\": {\"line\": {\"color\": \"#E5ECF6\", \"width\": 0.5}}, \"type\": \"barpolar\"}], \"carpet\": [{\"aaxis\": {\"endlinecolor\": \"#2a3f5f\", \"gridcolor\": \"white\", \"linecolor\": \"white\", \"minorgridcolor\": \"white\", \"startlinecolor\": \"#2a3f5f\"}, \"baxis\": {\"endlinecolor\": \"#2a3f5f\", \"gridcolor\": \"white\", \"linecolor\": \"white\", \"minorgridcolor\": \"white\", \"startlinecolor\": \"#2a3f5f\"}, \"type\": \"carpet\"}], \"choropleth\": [{\"colorbar\": {\"outlinewidth\": 0, \"ticks\": \"\"}, \"type\": \"choropleth\"}], \"contour\": [{\"colorbar\": {\"outlinewidth\": 0, \"ticks\": \"\"}, \"colorscale\": [[0.0, \"#0d0887\"], [0.1111111111111111, \"#46039f\"], [0.2222222222222222, \"#7201a8\"], [0.3333333333333333, \"#9c179e\"], [0.4444444444444444, \"#bd3786\"], [0.5555555555555556, \"#d8576b\"], [0.6666666666666666, \"#ed7953\"], [0.7777777777777778, \"#fb9f3a\"], [0.8888888888888888, \"#fdca26\"], [1.0, \"#f0f921\"]], \"type\": \"contour\"}], \"contourcarpet\": [{\"colorbar\": {\"outlinewidth\": 0, \"ticks\": \"\"}, \"type\": \"contourcarpet\"}], \"heatmap\": [{\"colorbar\": {\"outlinewidth\": 0, \"ticks\": \"\"}, \"colorscale\": [[0.0, \"#0d0887\"], [0.1111111111111111, \"#46039f\"], [0.2222222222222222, \"#7201a8\"], [0.3333333333333333, \"#9c179e\"], [0.4444444444444444, \"#bd3786\"], [0.5555555555555556, \"#d8576b\"], [0.6666666666666666, \"#ed7953\"], [0.7777777777777778, \"#fb9f3a\"], [0.8888888888888888, \"#fdca26\"], [1.0, \"#f0f921\"]], \"type\": \"heatmap\"}], \"heatmapgl\": [{\"colorbar\": {\"outlinewidth\": 0, \"ticks\": \"\"}, \"colorscale\": [[0.0, \"#0d0887\"], [0.1111111111111111, \"#46039f\"], [0.2222222222222222, \"#7201a8\"], [0.3333333333333333, \"#9c179e\"], [0.4444444444444444, \"#bd3786\"], [0.5555555555555556, \"#d8576b\"], [0.6666666666666666, \"#ed7953\"], [0.7777777777777778, \"#fb9f3a\"], [0.8888888888888888, \"#fdca26\"], [1.0, \"#f0f921\"]], \"type\": \"heatmapgl\"}], \"histogram\": [{\"marker\": {\"colorbar\": {\"outlinewidth\": 0, \"ticks\": \"\"}}, \"type\": \"histogram\"}], \"histogram2d\": [{\"colorbar\": {\"outlinewidth\": 0, \"ticks\": \"\"}, \"colorscale\": [[0.0, \"#0d0887\"], [0.1111111111111111, \"#46039f\"], [0.2222222222222222, \"#7201a8\"], [0.3333333333333333, \"#9c179e\"], [0.4444444444444444, \"#bd3786\"], [0.5555555555555556, \"#d8576b\"], [0.6666666666666666, \"#ed7953\"], [0.7777777777777778, \"#fb9f3a\"], [0.8888888888888888, \"#fdca26\"], [1.0, \"#f0f921\"]], \"type\": \"histogram2d\"}], \"histogram2dcontour\": [{\"colorbar\": {\"outlinewidth\": 0, \"ticks\": \"\"}, \"colorscale\": [[0.0, \"#0d0887\"], [0.1111111111111111, \"#46039f\"], [0.2222222222222222, \"#7201a8\"], [0.3333333333333333, \"#9c179e\"], [0.4444444444444444, \"#bd3786\"], [0.5555555555555556, \"#d8576b\"], [0.6666666666666666, \"#ed7953\"], [0.7777777777777778, \"#fb9f3a\"], [0.8888888888888888, \"#fdca26\"], [1.0, \"#f0f921\"]], \"type\": \"histogram2dcontour\"}], \"mesh3d\": [{\"colorbar\": {\"outlinewidth\": 0, \"ticks\": \"\"}, \"type\": \"mesh3d\"}], \"parcoords\": [{\"line\": {\"colorbar\": {\"outlinewidth\": 0, \"ticks\": \"\"}}, \"type\": \"parcoords\"}], \"pie\": [{\"automargin\": true, \"type\": \"pie\"}], \"scatter\": [{\"marker\": {\"colorbar\": {\"outlinewidth\": 0, \"ticks\": \"\"}}, \"type\": \"scatter\"}], \"scatter3d\": [{\"line\": {\"colorbar\": {\"outlinewidth\": 0, \"ticks\": \"\"}}, \"marker\": {\"colorbar\": {\"outlinewidth\": 0, \"ticks\": \"\"}}, \"type\": \"scatter3d\"}], \"scattercarpet\": [{\"marker\": {\"colorbar\": {\"outlinewidth\": 0, \"ticks\": \"\"}}, \"type\": \"scattercarpet\"}], \"scattergeo\": [{\"marker\": {\"colorbar\": {\"outlinewidth\": 0, \"ticks\": \"\"}}, \"type\": \"scattergeo\"}], \"scattergl\": [{\"marker\": {\"colorbar\": {\"outlinewidth\": 0, \"ticks\": \"\"}}, \"type\": \"scattergl\"}], \"scattermapbox\": [{\"marker\": {\"colorbar\": {\"outlinewidth\": 0, \"ticks\": \"\"}}, \"type\": \"scattermapbox\"}], \"scatterpolar\": [{\"marker\": {\"colorbar\": {\"outlinewidth\": 0, \"ticks\": \"\"}}, \"type\": \"scatterpolar\"}], \"scatterpolargl\": [{\"marker\": {\"colorbar\": {\"outlinewidth\": 0, \"ticks\": \"\"}}, \"type\": \"scatterpolargl\"}], \"scatterternary\": [{\"marker\": {\"colorbar\": {\"outlinewidth\": 0, \"ticks\": \"\"}}, \"type\": \"scatterternary\"}], \"surface\": [{\"colorbar\": {\"outlinewidth\": 0, \"ticks\": \"\"}, \"colorscale\": [[0.0, \"#0d0887\"], [0.1111111111111111, \"#46039f\"], [0.2222222222222222, \"#7201a8\"], [0.3333333333333333, \"#9c179e\"], [0.4444444444444444, \"#bd3786\"], [0.5555555555555556, \"#d8576b\"], [0.6666666666666666, \"#ed7953\"], [0.7777777777777778, \"#fb9f3a\"], [0.8888888888888888, \"#fdca26\"], [1.0, \"#f0f921\"]], \"type\": \"surface\"}], \"table\": [{\"cells\": {\"fill\": {\"color\": \"#EBF0F8\"}, \"line\": {\"color\": \"white\"}}, \"header\": {\"fill\": {\"color\": \"#C8D4E3\"}, \"line\": {\"color\": \"white\"}}, \"type\": \"table\"}]}, \"layout\": {\"annotationdefaults\": {\"arrowcolor\": \"#2a3f5f\", \"arrowhead\": 0, \"arrowwidth\": 1}, \"coloraxis\": {\"colorbar\": {\"outlinewidth\": 0, \"ticks\": \"\"}}, \"colorscale\": {\"diverging\": [[0, \"#8e0152\"], [0.1, \"#c51b7d\"], [0.2, \"#de77ae\"], [0.3, \"#f1b6da\"], [0.4, \"#fde0ef\"], [0.5, \"#f7f7f7\"], [0.6, \"#e6f5d0\"], [0.7, \"#b8e186\"], [0.8, \"#7fbc41\"], [0.9, \"#4d9221\"], [1, \"#276419\"]], \"sequential\": [[0.0, \"#0d0887\"], [0.1111111111111111, \"#46039f\"], [0.2222222222222222, \"#7201a8\"], [0.3333333333333333, \"#9c179e\"], [0.4444444444444444, \"#bd3786\"], [0.5555555555555556, \"#d8576b\"], [0.6666666666666666, \"#ed7953\"], [0.7777777777777778, \"#fb9f3a\"], [0.8888888888888888, \"#fdca26\"], [1.0, \"#f0f921\"]], \"sequentialminus\": [[0.0, \"#0d0887\"], [0.1111111111111111, \"#46039f\"], [0.2222222222222222, \"#7201a8\"], [0.3333333333333333, \"#9c179e\"], [0.4444444444444444, \"#bd3786\"], [0.5555555555555556, \"#d8576b\"], [0.6666666666666666, \"#ed7953\"], [0.7777777777777778, \"#fb9f3a\"], [0.8888888888888888, \"#fdca26\"], [1.0, \"#f0f921\"]]}, \"colorway\": [\"#636efa\", \"#EF553B\", \"#00cc96\", \"#ab63fa\", \"#FFA15A\", \"#19d3f3\", \"#FF6692\", \"#B6E880\", \"#FF97FF\", \"#FECB52\"], \"font\": {\"color\": \"#2a3f5f\"}, \"geo\": {\"bgcolor\": \"white\", \"lakecolor\": \"white\", \"landcolor\": \"#E5ECF6\", \"showlakes\": true, \"showland\": true, \"subunitcolor\": \"white\"}, \"hoverlabel\": {\"align\": \"left\"}, \"hovermode\": \"closest\", \"mapbox\": {\"style\": \"light\"}, \"paper_bgcolor\": \"white\", \"plot_bgcolor\": \"#E5ECF6\", \"polar\": {\"angularaxis\": {\"gridcolor\": \"white\", \"linecolor\": \"white\", \"ticks\": \"\"}, \"bgcolor\": \"#E5ECF6\", \"radialaxis\": {\"gridcolor\": \"white\", \"linecolor\": \"white\", \"ticks\": \"\"}}, \"scene\": {\"xaxis\": {\"backgroundcolor\": \"#E5ECF6\", \"gridcolor\": \"white\", \"gridwidth\": 2, \"linecolor\": \"white\", \"showbackground\": true, \"ticks\": \"\", \"zerolinecolor\": \"white\"}, \"yaxis\": {\"backgroundcolor\": \"#E5ECF6\", \"gridcolor\": \"white\", \"gridwidth\": 2, \"linecolor\": \"white\", \"showbackground\": true, \"ticks\": \"\", \"zerolinecolor\": \"white\"}, \"zaxis\": {\"backgroundcolor\": \"#E5ECF6\", \"gridcolor\": \"white\", \"gridwidth\": 2, \"linecolor\": \"white\", \"showbackground\": true, \"ticks\": \"\", \"zerolinecolor\": \"white\"}}, \"shapedefaults\": {\"line\": {\"color\": \"#2a3f5f\"}}, \"ternary\": {\"aaxis\": {\"gridcolor\": \"white\", \"linecolor\": \"white\", \"ticks\": \"\"}, \"baxis\": {\"gridcolor\": \"white\", \"linecolor\": \"white\", \"ticks\": \"\"}, \"bgcolor\": \"#E5ECF6\", \"caxis\": {\"gridcolor\": \"white\", \"linecolor\": \"white\", \"ticks\": \"\"}}, \"title\": {\"x\": 0.05}, \"xaxis\": {\"automargin\": true, \"gridcolor\": \"white\", \"linecolor\": \"white\", \"ticks\": \"\", \"title\": {\"standoff\": 15}, \"zerolinecolor\": \"white\", \"zerolinewidth\": 2}, \"yaxis\": {\"automargin\": true, \"gridcolor\": \"white\", \"linecolor\": \"white\", \"ticks\": \"\", \"title\": {\"standoff\": 15}, \"zerolinecolor\": \"white\", \"zerolinewidth\": 2}}}, \"title\": {\"text\": \"Share of built-up in 2014 at different buffer levels\", \"x\": 0.5, \"xanchor\": \"center\", \"y\": 0.9, \"yanchor\": \"top\"}, \"xaxis\": {\"range\": [250, 2100], \"title\": {\"text\": \"Buffer Distance (in m)\"}}, \"yaxis\": {\"range\": [0, 100], \"title\": {\"text\": \"% Share of Built-up\"}}},\n",
       "                        {\"responsive\": true}\n",
       "                    ).then(function(){\n",
       "                            \n",
       "var gd = document.getElementById('e726b638-03ed-4863-abf5-becffccb5bdd');\n",
       "var x = new MutationObserver(function (mutations, observer) {{\n",
       "        var display = window.getComputedStyle(gd).display;\n",
       "        if (!display || display === 'none') {{\n",
       "            console.log([gd, 'removed!']);\n",
       "            Plotly.purge(gd);\n",
       "            observer.disconnect();\n",
       "        }}\n",
       "}});\n",
       "\n",
       "// Listen for the removal of the full notebook cells\n",
       "var notebookContainer = gd.closest('#notebook-container');\n",
       "if (notebookContainer) {{\n",
       "    x.observe(notebookContainer, {childList: true});\n",
       "}}\n",
       "\n",
       "// Listen for the clearing of the current output cell\n",
       "var outputEl = gd.closest('.output');\n",
       "if (outputEl) {{\n",
       "    x.observe(outputEl, {childList: true});\n",
       "}}\n",
       "\n",
       "                        })\n",
       "                };\n",
       "                });\n",
       "            </script>\n",
       "        </div>"
      ]
     },
     "metadata": {},
     "output_type": "display_data"
    }
   ],
   "source": [
    "for year in [1990, 2000, 2014]:\n",
    "    fig = go.Figure()\n",
    "    for key in master_non.keys():\n",
    "        x = [500, 1000, 1500, 2000]\n",
    "        \n",
    "        fig.add_trace(go.Scatter(x=x, y=master_non[key][year],\n",
    "                     mode='lines+markers', text=master_non[key][year],  name='% Built-up for {}'.format(key)))\n",
    "        \n",
    "    fig.update_layout(\n",
    "        title={\n",
    "            'text': \"Share of built-up in {} at different buffer levels\".format(year),\n",
    "            'y':0.9,\n",
    "            'x':0.5,\n",
    "            'xanchor': 'center',\n",
    "            'yanchor': 'top'})\n",
    "\n",
    "    fig.update_layout(xaxis_title='Buffer Distance (in m)',\n",
    "                       yaxis_title='% Share of Built-up')\n",
    "    fig.update_traces(hoverinfo='text+name', mode='lines+markers')\n",
    "    fig.update_xaxes(range=[250,2100])\n",
    "    fig.update_yaxes(range=[0,100])\n",
    "    \n",
    "    fig.show()"
   ]
  },
  {
   "cell_type": "code",
   "execution_count": 72,
   "metadata": {},
   "outputs": [],
   "source": [
    "\n",
    "#for i in di2.keys():\n",
    "#    x = [500, 1000, 1500, 2000]\n",
    "#    fig = go.Figure(data=go.Scatter(x=x, y=di2[i], mode='lines+markers', text=di2[i],  name='% Built-up'))\n",
    "#\n",
    "#    fig.update_layout(\n",
    "#        title={\n",
    "#            'text': \"Share of built-up in {} at different buffer levels\".format(i),\n",
    "#            'y':0.9,\n",
    "#            'x':0.5,\n",
    "#            'xanchor': 'center',\n",
    "#            'yanchor': 'top'})\n",
    "#\n",
    "#    fig.update_layout(xaxis_title='Buffer Distance (in m)',\n",
    "#                       yaxis_title='% Share of Built-up')\n",
    "#    fig.update_traces(hoverinfo='text+name', mode='lines+markers')\n",
    "#    fig.update_xaxes(range=[250,2100])\n",
    "#    fig.update_yaxes(range=[0,100])\n",
    "#    \n",
    "#    fig.show()"
   ]
  },
  {
   "cell_type": "code",
   "execution_count": null,
   "metadata": {},
   "outputs": [],
   "source": []
  }
 ],
 "metadata": {
  "kernelspec": {
   "display_name": "Python 3",
   "language": "python",
   "name": "python3"
  },
  "language_info": {
   "codemirror_mode": {
    "name": "ipython",
    "version": 3
   },
   "file_extension": ".py",
   "mimetype": "text/x-python",
   "name": "python",
   "nbconvert_exporter": "python",
   "pygments_lexer": "ipython3",
   "version": "3.6.7"
  }
 },
 "nbformat": 4,
 "nbformat_minor": 2
}
